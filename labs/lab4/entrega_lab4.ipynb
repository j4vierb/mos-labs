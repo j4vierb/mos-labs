{
 "cells": [
  {
   "cell_type": "markdown",
   "id": "8614c5bd-a866-43f2-8979-982b41ecdaa5",
   "metadata": {},
   "source": [
    "# Entrega laboratorio 3\n",
    "\n",
    "## Integrantes \n",
    "\n",
    "- Javier Steven Barrera Toro - 202214779\n",
    "- Julian Santiago Rolon Toloza - 202215839"
   ]
  },
  {
   "cell_type": "code",
   "execution_count": 1,
   "id": "775537e0-4668-47ef-bee1-edf62c0ffd68",
   "metadata": {},
   "outputs": [
    {
     "data": {
      "text/plain": [
       "{'divide': 'warn', 'over': 'warn', 'under': 'ignore', 'invalid': 'warn'}"
      ]
     },
     "execution_count": 1,
     "metadata": {},
     "output_type": "execute_result"
    }
   ],
   "source": [
    "from matplotlib import pyplot as plt\n",
    "from typing import List, Tuple, NewType\n",
    "import numpy as np\n",
    "import pandas as pd\n",
    "import sympy as sp\n",
    "import copy\n",
    "import tabulate\n",
    "\n",
    "np.seterr(divide='ignore')"
   ]
  },
  {
   "cell_type": "markdown",
   "id": "d65aee44-6ac3-4a30-b77b-31bbf2b6eb5d",
   "metadata": {},
   "source": [
    "# Problema 1: Implementación del Método Simplex Estándar"
   ]
  },
  {
   "cell_type": "markdown",
   "id": "613edd67-6c72-4777-aeb5-0106efe5df18",
   "metadata": {},
   "source": [
    "Una solución básica factible del siguiente problema de optimización puede ser $(x_1, x_2, x_3) = (0, 0, 0)$ ya que cumple con las restricciones. "
   ]
  },
  {
   "cell_type": "markdown",
   "id": "e2fedff4-fd72-4c4d-ac45-4fa3b91000ac",
   "metadata": {},
   "source": [
    "\\begin{equation}\n",
    "\\begin{aligned}\n",
    "\\textrm{Maximizar} \\quad & Z = 3x_1 + 2x_2 + 5x_3 \\\\\n",
    "\\textrm{s.t.} \\quad & x_1 + x_2 + x_3 \\leq 100 \\\\\n",
    "  & 2x_1 + x_2 + x_3 \\leq 150 \\\\ \n",
    "  & x_1 + 4x_2 + 2x_3 \\leq 80 \\\\\n",
    "  & x_1, x_2, x_3 \\geq 0\n",
    "\\end{aligned}\n",
    "\\end{equation}"
   ]
  },
  {
   "cell_type": "markdown",
   "id": "8abcd986-7a43-43a5-b8f8-290efd879b92",
   "metadata": {},
   "source": [
    "## Convertir el problema a la forma estándar"
   ]
  },
  {
   "cell_type": "markdown",
   "id": "4ddfe100-4bbd-47d9-a5e8-6e70a67dfefd",
   "metadata": {},
   "source": [
    "Para convertir el problema anterior en su forma estándar se deben agregar variables de holgura a las restricciones de tal manera que las mismas se vuelvan igualdades. Además, se agregan estas variables a la restricción de no negatividad y a la función objetivo."
   ]
  },
  {
   "cell_type": "markdown",
   "id": "4a3018dd-7171-4a2d-a986-cff6ee1cc541",
   "metadata": {},
   "source": [
    "\\begin{equation}\n",
    "\\begin{aligned}\n",
    "\\textrm{Maximizar} \\quad & Z = 3x_1 + 2x_2 + 5x_3 + 0s_1 + 0s_2 + 0s_3 \\\\\n",
    "\\textrm{s.t.} \\quad & x_1 + x_2 + x_3 + s_1 = 100 \\\\\n",
    "  & 2x_1 + x_2 + x_3 + s_2 = 150 \\\\ \n",
    "  & x_1 + 4x_2 + 2x_3 + s_3 = 80 \\\\\n",
    "  & x_1, x_2, x_3, s_1, s_2, s_3 \\geq 0\n",
    "\\end{aligned}\n",
    "\\end{equation}"
   ]
  },
  {
   "cell_type": "markdown",
   "id": "8e4bf624-b644-48d4-89d9-ca5b1f336411",
   "metadata": {},
   "source": [
    "## Implementación del algoritmo del método Simplex"
   ]
  },
  {
   "cell_type": "code",
   "execution_count": 131,
   "id": "401f08d6-340c-46a7-b9a5-2be293d6c585",
   "metadata": {},
   "outputs": [],
   "source": [
    "class SimplexSolver:\n",
    "    def __init__(self, c, X, b, variables):\n",
    "        self.z = np.array(c)\n",
    "        self.X = np.array(X)\n",
    "        self.b = np.array(b)\n",
    "        self.variables = variables\n",
    "        self.unlimited = False\n",
    " \n",
    "    def solve(self):\n",
    "        row_num, col_num = self.X.shape\n",
    "        simplex_table = np.vstack([self.z, self.X])\n",
    "        c = np.hstack([[0], self.b]).reshape((row_num + 1, 1))\n",
    "        simplex_table = np.hstack([simplex_table, c], dtype='float64')\n",
    "        \n",
    "        aux_vars = len(self.z) - 1 - self.variables\n",
    "        rows = ['z'] + ['s_'+str(i+1) for i in range(aux_vars)]\n",
    "        cols = ['z'] + \\\n",
    "            ['x_'+str(i+1) for i in range(self.variables)] + \\\n",
    "            ['s_'+str(i+1) for i in range(aux_vars)] + ['solution']\n",
    "\n",
    "        history = [simplex_table.copy()]\n",
    "        state = [[rows, cols]]\n",
    "\n",
    "        while True:\n",
    "            if np.min(simplex_table[0]) >= 0: break\n",
    "\n",
    "            pivot_col = np.argmin(simplex_table[0])\n",
    "            reduced_costs = simplex_table[1:, -1] / simplex_table[1:, pivot_col]\n",
    "\n",
    "            if np.max(reduced_costs) <= 0:\n",
    "                print(\"UNLIMITED_PROBLEM: There's no reduced costs greater than 0\")\n",
    "                self.unlimited = True\n",
    "                break\n",
    "\n",
    "            valid_values = reduced_costs[(reduced_costs > 0)]\n",
    "            min_value = valid_values.min()\n",
    "            pivot_row = np.where(reduced_costs == min_value)[0][0] + 1\n",
    "            \n",
    "            element = simplex_table[pivot_row, pivot_col]\n",
    "            simplex_table[pivot_row] = simplex_table[pivot_row, :] / element\n",
    "\n",
    "            for i in range(simplex_table.shape[0]):\n",
    "                if i != pivot_row:\n",
    "                    term = simplex_table[i, pivot_col]\n",
    "                    simplex_table[i] = simplex_table[i, :] - term * simplex_table[pivot_row, :]\n",
    "            \n",
    "            # update rows and cols of simplex table\n",
    "            current_state = copy.deepcopy(state[-1])\n",
    "            new_rows, new_cols = current_state\n",
    "            out, inp = new_rows[pivot_row], new_cols[pivot_col]\n",
    "\n",
    "            new_rows[pivot_row] = inp      # update rows\n",
    "            new_cols[pivot_col] = out      # update cols\n",
    "            state.append([new_rows, new_cols])\n",
    "            \n",
    "            history.append(simplex_table.copy())\n",
    "\n",
    "        # construct the solution\n",
    "        solution = [0 for _ in range(self.variables)]\n",
    "        maps = {f'x_{i+1}': i for i in range(self.variables)}\n",
    "        # iterate over the rows to get the solutions\n",
    "        lr_state, _ = state[-1]\n",
    "        for col, val_col in enumerate(lr_state):\n",
    "            value = maps.get(val_col, None)\n",
    "            if value != None:\n",
    "                solution[value] = simplex_table[:, -1][col]\n",
    "        \n",
    "        optimal_value = simplex_table[0, -1]\n",
    "        \n",
    "        self.history = history\n",
    "        self.states = state\n",
    "\n",
    "        return np.array(solution), optimal_value\n",
    "\n",
    "    def print_iterations(self):\n",
    "        if self.unlimited:\n",
    "            print('UNLIMITED_PROBLEM')\n",
    "            return\n",
    "        \n",
    "        for i, obj in enumerate(zip(self.states, self.history)):\n",
    "            state, table = obj\n",
    "            row_headers, col_headers = state\n",
    "            print(f'Iteración {i+1}:')\n",
    "            \n",
    "            # Convertir a lista y agregar encabezado de fila\n",
    "            table_with_row_headers = [\n",
    "                [row_headers[i]] + row.tolist() for i, row in enumerate(table)\n",
    "            ]\n",
    "            \n",
    "            # Encabezados completos (columna vacía + encabezados de columna)\n",
    "            full_headers = ['Basic'] + col_headers\n",
    "            \n",
    "            to_print =tabulate.tabulate(\n",
    "                table_with_row_headers,\n",
    "                headers=full_headers,\n",
    "                tablefmt='fancy_grid'\n",
    "            )\n",
    "\n",
    "            print(to_print, end='\\n'*2)\n"
   ]
  },
  {
   "cell_type": "code",
   "execution_count": 145,
   "id": "56eb586e-09ca-4b40-b82a-9b6774a13d5b",
   "metadata": {},
   "outputs": [
    {
     "name": "stdout",
     "output_type": "stream",
     "text": [
      "[73.33333333  0.          3.33333333] 236.66666666666666\n"
     ]
    }
   ],
   "source": [
    "c = [1, -3, -2, -5, 0, 0, 0]\n",
    "b = [100, 150, 80]\n",
    "X = [\n",
    "    [0, 1, 1, 1, 1, 0, 0],\n",
    "    [0, 2, 1, 1, 0, 1, 0],\n",
    "    [0, 1, 4, 2, 0, 0, 1]\n",
    "]\n",
    "\n",
    "solver = SimplexSolver(c, X, b, 3)\n",
    "solution, optimal_value = solver.solve()\n",
    "print(solution, optimal_value)"
   ]
  },
  {
   "cell_type": "code",
   "execution_count": 146,
   "id": "78e0722a-315e-45e3-ab28-8314db494cde",
   "metadata": {},
   "outputs": [
    {
     "name": "stdout",
     "output_type": "stream",
     "text": [
      "Iteración 1:\n",
      "╒═════════╤═════╤═══════╤═══════╤═══════╤═══════╤═══════╤═══════╤════════════╕\n",
      "│ Basic   │   z │   x_1 │   x_2 │   x_3 │   s_1 │   s_2 │   s_3 │   solution │\n",
      "╞═════════╪═════╪═══════╪═══════╪═══════╪═══════╪═══════╪═══════╪════════════╡\n",
      "│ z       │   1 │    -3 │    -2 │    -5 │     0 │     0 │     0 │          0 │\n",
      "├─────────┼─────┼───────┼───────┼───────┼───────┼───────┼───────┼────────────┤\n",
      "│ s_1     │   0 │     1 │     1 │     1 │     1 │     0 │     0 │        100 │\n",
      "├─────────┼─────┼───────┼───────┼───────┼───────┼───────┼───────┼────────────┤\n",
      "│ s_2     │   0 │     2 │     1 │     1 │     0 │     1 │     0 │        150 │\n",
      "├─────────┼─────┼───────┼───────┼───────┼───────┼───────┼───────┼────────────┤\n",
      "│ s_3     │   0 │     1 │     4 │     2 │     0 │     0 │     1 │         80 │\n",
      "╘═════════╧═════╧═══════╧═══════╧═══════╧═══════╧═══════╧═══════╧════════════╛\n",
      "\n",
      "Iteración 2:\n",
      "╒═════════╤═════╤═══════╤═══════╤═══════╤═══════╤═══════╤═══════╤════════════╕\n",
      "│ Basic   │   z │   x_1 │   x_2 │   s_3 │   s_1 │   s_2 │   s_3 │   solution │\n",
      "╞═════════╪═════╪═══════╪═══════╪═══════╪═══════╪═══════╪═══════╪════════════╡\n",
      "│ z       │   1 │  -0.5 │     8 │     0 │     0 │     0 │   2.5 │        200 │\n",
      "├─────────┼─────┼───────┼───────┼───────┼───────┼───────┼───────┼────────────┤\n",
      "│ s_1     │   0 │   0.5 │    -1 │     0 │     1 │     0 │  -0.5 │         60 │\n",
      "├─────────┼─────┼───────┼───────┼───────┼───────┼───────┼───────┼────────────┤\n",
      "│ s_2     │   0 │   1.5 │    -1 │     0 │     0 │     1 │  -0.5 │        110 │\n",
      "├─────────┼─────┼───────┼───────┼───────┼───────┼───────┼───────┼────────────┤\n",
      "│ x_3     │   0 │   0.5 │     2 │     1 │     0 │     0 │   0.5 │         40 │\n",
      "╘═════════╧═════╧═══════╧═══════╧═══════╧═══════╧═══════╧═══════╧════════════╛\n",
      "\n",
      "Iteración 3:\n",
      "╒═════════╤═════╤═══════╤═══════════╤═══════╤═══════╤═══════════╤═══════════╤════════════╕\n",
      "│ Basic   │   z │   s_2 │       x_2 │   s_3 │   s_1 │       s_2 │       s_3 │   solution │\n",
      "╞═════════╪═════╪═══════╪═══════════╪═══════╪═══════╪═══════════╪═══════════╪════════════╡\n",
      "│ z       │   1 │     0 │  7.66667  │     0 │     0 │  0.333333 │  2.33333  │  236.667   │\n",
      "├─────────┼─────┼───────┼───────────┼───────┼───────┼───────────┼───────────┼────────────┤\n",
      "│ s_1     │   0 │     0 │ -0.666667 │     0 │     1 │ -0.333333 │ -0.333333 │   23.3333  │\n",
      "├─────────┼─────┼───────┼───────────┼───────┼───────┼───────────┼───────────┼────────────┤\n",
      "│ x_1     │   0 │     1 │ -0.666667 │     0 │     0 │  0.666667 │ -0.333333 │   73.3333  │\n",
      "├─────────┼─────┼───────┼───────────┼───────┼───────┼───────────┼───────────┼────────────┤\n",
      "│ x_3     │   0 │     0 │  2.33333  │     1 │     0 │ -0.333333 │  0.666667 │    3.33333 │\n",
      "╘═════════╧═════╧═══════╧═══════════╧═══════╧═══════╧═══════════╧═══════════╧════════════╛\n",
      "\n"
     ]
    }
   ],
   "source": [
    "solver.print_iterations()"
   ]
  },
  {
   "cell_type": "markdown",
   "id": "047ea810-cc91-4bb4-bfa9-834090689168",
   "metadata": {},
   "source": [
    "# Problema 2: Implementación del método Simplex Dual Phase"
   ]
  },
  {
   "cell_type": "markdown",
   "id": "c562fb1d-0677-48bc-b735-d6bb46e4e30f",
   "metadata": {},
   "source": [
    "En esta sección se nos pide implementar el método Simplex de Dos Fases para minimizar una función objetivo. Recordemos que $\\min Z$ es equivalente a $- \\max (-Z)$. Por tanto, dado el siguiente problema de optimización se realizará la anterior conversión.\n",
    "\n",
    "\\begin{equation}\n",
    "\\begin{aligned}\n",
    "\\textrm{Minimizar} \\quad & Z = 5x_1 - 4x_2 + 3x_3 \\\\\n",
    "\\textrm{sujeto a} \\quad & 2x_1 + x_2 - x_3 = 10 \\\\\n",
    "  & x_1 - 3x_2 + 2x_3 \\geq 5 \\\\ \n",
    "  & x_1 + x_2 + x_3 \\leq 15 \\\\\n",
    "  & x_1, x_2, x_3 \\geq 0\n",
    "\\end{aligned}\n",
    "\\end{equation}"
   ]
  },
  {
   "cell_type": "markdown",
   "id": "4af8b026-a496-4d86-9737-75d4c0e2dc64",
   "metadata": {},
   "source": [
    "## Transformar el problema "
   ]
  },
  {
   "cell_type": "markdown",
   "id": "7df170cd-8e89-4b1a-87b0-6d5f98cdf11b",
   "metadata": {},
   "source": [
    "Lo cual es equivalente al siguiente problema de optimización:\n",
    "\n",
    "\\begin{equation}\n",
    "\\begin{aligned}\n",
    "\\textrm{Maximizar} \\quad & -Z = -5x_1 + 4x_2 - 3x_3 \\\\\n",
    "\\textrm{sujeto a} \\quad & 2x_1 + x_2 - x_3 = 10 \\\\\n",
    "  & x_1 - 3x_2 + 2x_3 \\geq 5 \\\\ \n",
    "  & x_1 + x_2 + x_3 \\leq 15 \\\\\n",
    "  & x_1, x_2, x_3 \\geq 0\n",
    "\\end{aligned}\n",
    "\\end{equation}"
   ]
  },
  {
   "cell_type": "markdown",
   "id": "7481b492-b1b4-4495-b988-d0c6b2180e07",
   "metadata": {},
   "source": [
    "Una vez tenemos este problema de maximización podemos transformarlo a su forma estandar.\n",
    "\n",
    "\\begin{equation}\n",
    "\\begin{aligned}\n",
    "\\textrm{Maximizar} \\quad & -Z = -5x_1 + 4x_2 - 3x_3 + 0s_1 + 0s_2 \\\\\n",
    "\\textrm{sujeto a} \\quad & 2x_1 + x_2 - x_3 = 10 \\\\\n",
    "  & x_1 - 3x_2 + 2x_3 - s_1 = 5 \\\\ \n",
    "  & x_1 + x_2 + x_3 + s_2 = 15 \\\\\n",
    "  & x_1, x_2, x_3, s_1, s_2 \\geq 0\n",
    "\\end{aligned}\n",
    "\\end{equation}"
   ]
  },
  {
   "cell_type": "markdown",
   "id": "eac64874-940b-402d-b6b5-fd5b5a801b0e",
   "metadata": {},
   "source": [
    "## Implementación del algoritmo del método Simplex de Dos Fases"
   ]
  },
  {
   "cell_type": "code",
   "execution_count": 5,
   "id": "e3f4a4c7-ed5f-4541-9a6c-05e7cbc8f69d",
   "metadata": {},
   "outputs": [],
   "source": [
    "class DualPhaseSimplexMethodSolver:\n",
    "    def __init__(self, c, X, b):\n",
    "        self.c = c\n",
    "        self.X = X\n",
    "        self.b = b\n",
    "\n",
    "    def phase1(self):\n",
    "        pass"
   ]
  },
  {
   "cell_type": "markdown",
   "id": "4773584a-5329-4348-ac84-6c83aee88d04",
   "metadata": {},
   "source": [
    "## Fase I"
   ]
  },
  {
   "cell_type": "markdown",
   "id": "b2b08970-7589-47b7-9865-e177c400e386",
   "metadata": {},
   "source": [
    "## Fase II"
   ]
  },
  {
   "cell_type": "markdown",
   "id": "c7a7e06b-d700-46b9-b2be-2b74ef0f893f",
   "metadata": {},
   "source": [
    "## Solución óptima y el valor de la función objetivo"
   ]
  },
  {
   "cell_type": "markdown",
   "id": "a500580d-2393-4d04-9cdb-255c0eceb9fa",
   "metadata": {},
   "source": [
    "# Problema 3: Comparación de rendimiento con GLPK/Pyomo"
   ]
  },
  {
   "cell_type": "markdown",
   "id": "678778c0-0c26-411b-aa67-991b8e2306a8",
   "metadata": {},
   "source": [
    "Dijo que comparar el número de iteraciones."
   ]
  },
  {
   "cell_type": "markdown",
   "id": "10b58dc3-c5ef-421f-8714-cc927fbf063b",
   "metadata": {},
   "source": [
    "# Problema 4: Análisis de sensibilidad en programación lineal "
   ]
  },
  {
   "cell_type": "markdown",
   "id": "d4c0d44a-39e9-4dd8-8eef-ca2389d9778b",
   "metadata": {},
   "source": [
    "Se desea realizar un análisis de sensibilidad sobre la solución óptima obtenida mediante el método simplex para el problema siguiente.\n",
    "\n",
    "$$\n",
    "\\begin{equation}\n",
    "\\begin{aligned}\n",
    "\\textrm{Maximizar} \\quad & Z = 4x_1 + 3x_2 \\\\\n",
    "\\textrm{sujeto a} \\quad & x_1 + 2x_2 \\leq 8 \\\\\n",
    "  & 3x_1+ 2x_2 \\leq 12 \\\\\n",
    "  & x_1, x_2 \\geq 0\n",
    "\\end{aligned}\n",
    "\\end{equation}\n",
    "$$"
   ]
  },
  {
   "cell_type": "code",
   "execution_count": 142,
   "id": "af565e90-f30a-4d6a-b5a7-c63e907ad822",
   "metadata": {},
   "outputs": [],
   "source": [
    "class SimplexSolverWithSensitiveAnalysis(SimplexSolver):\n",
    "    def __init__(self, c, X, b, variables):\n",
    "        super().__init__(c, X, b, variables)\n",
    "\n",
    "    def sensitivity_analysis(self):\n",
    "        # todas las variables basicas son las de la columna\n",
    "        # las variables no basicas estan en fila 1 columna[1:self.variables+1]\n",
    "        last_table = self.history[-1]\n",
    "        first_table = self.history[0]\n",
    "        first_state = self.states[0]\n",
    "        last_state = self.states[-1]\n",
    "\n",
    "        variables = {f'x_{i+1}' for i in range(self.variables)}\n",
    "        n_slack_variables = first_table[0].shape[0] - (self.variables + 2)\n",
    "        s_variables = {f's_{i+1}' for i in range(n_slack_variables)}\n",
    "        \n",
    "        basic_variables = []\n",
    "        non_basic_variables = []\n",
    "        for i, variable in enumerate(last_state[0][1:]):\n",
    "            value = last_table[i+1, -1]\n",
    "            if value:\n",
    "                basic_variables.append(variable)\n",
    "            elif value == 0:\n",
    "                non_basic_variables.append(variable)\n",
    "        non_basic_variables += last_state[1][1:self.variables+1]\n",
    "        \n",
    "        # non-basic variables\n",
    "        print('NON-BASIC VARIABLES')\n",
    "        coefficients_non_basic = {}\n",
    "        for non_basic_variable in non_basic_variables:\n",
    "            cj_actual = 0 # if actual is 'x_i' it's zero\n",
    "            if non_basic_variable.startswith('s'):\n",
    "                # search actual in solution column\n",
    "                index = first_state[0].index(non_basic_variable)\n",
    "                cj_actual = first_table[:, -1][index]\n",
    "\n",
    "            if non_basic_variable.startswith('s'):\n",
    "                index = last_state[1][1+self.variables:].index(non_basic_variable)\n",
    "                cj_opt = last_table[0, 1 + self.variables+index]\n",
    "            else:\n",
    "                index = last_state[1][:self.variables+1].index(non_basic_variable)\n",
    "                cj_opt = last_table[0, index]\n",
    "                \n",
    "            coefficients_non_basic[non_basic_variable] = cj_opt\n",
    "            print(f\"c_j <= {cj_actual} + {cj_opt} = {cj_actual + cj_opt}\")\n",
    "\n",
    "        # basic variables\n",
    "        print('\\nBASIC VARIABLES')\n",
    "        for basic_variable in basic_variables:\n",
    "            index_basic = last_state[0].index(basic_variable)\n",
    "            li = []\n",
    "            ls = []\n",
    "            c_actual = 0 # if actual c is 0 if it's a slack variable\n",
    "            for non_basic_variable in non_basic_variables:\n",
    "                if non_basic_variable.startswith('s'):\n",
    "                    index = 1+self.variables+last_state[1][1+self.variables:].index(non_basic_variable)\n",
    "                elif non_basic_variable.startswith('x'):\n",
    "                    index = last_state[1].index(non_basic_variable)\n",
    "                    j = int(non_basic_variable.split('_')[1])\n",
    "                    c_actual = -first_table[0, j]\n",
    "                    \n",
    "                cj = last_table[0, index]\n",
    "                aij = last_table[index_basic, index]\n",
    "\n",
    "                if aij > 0:\n",
    "                    li.append(cj / aij)\n",
    "                if aij < 0:\n",
    "                    ls.append(cj / aij)\n",
    "\n",
    "            l = cj - min(li, default=np.inf)\n",
    "            h = cj + max(ls, default=np.inf)\n",
    "            print(f'VARIABLES ({basic_variable}): {l} <= c_i <= {h}')\n"
   ]
  },
  {
   "cell_type": "code",
   "execution_count": 143,
   "id": "aae261e2-cafc-4730-8c8a-1f1607a86b7d",
   "metadata": {},
   "outputs": [
    {
     "name": "stdout",
     "output_type": "stream",
     "text": [
      "[3.2 1.6] 128.0\n",
      "NON-BASIC VARIABLES\n",
      "c_j <= 8.0 + 14.0 = 22.0\n",
      "c_j <= 8.0 + 2.0 = 10.0\n",
      "\n",
      "BASIC VARIABLES\n",
      "VARIABLES (x_1): -21.333333333333336 <= c_i <= -8.0\n",
      "VARIABLES (x_2): -3.0 <= c_i <= -68.0\n"
     ]
    }
   ],
   "source": [
    "c = [1, -30, -20, 0, 0]\n",
    "\n",
    "X = [\n",
    "    [0, 2, 1, 1, 0],\n",
    "    [0, 1, 3, 0, 1]\n",
    "]\n",
    "\n",
    "b = [8, 8]\n",
    "\n",
    "simplex = SimplexSolverWithSensitiveAnalysis(c, X, b, 2)\n",
    "solution, _min = simplex.solve()\n",
    "print(solution, _min)\n",
    "simplex.sensitivity_analysis()"
   ]
  },
  {
   "cell_type": "code",
   "execution_count": 144,
   "id": "d78d6dba-5cec-4aaf-a9aa-c759ea11fc04",
   "metadata": {},
   "outputs": [
    {
     "name": "stdout",
     "output_type": "stream",
     "text": [
      "Iteración 1:\n",
      "╒═════════╤═════╤═══════╤═══════╤═══════╤═══════╤════════════╕\n",
      "│ Basic   │   z │   x_1 │   x_2 │   s_1 │   s_2 │   solution │\n",
      "╞═════════╪═════╪═══════╪═══════╪═══════╪═══════╪════════════╡\n",
      "│ z       │   1 │   -30 │   -20 │     0 │     0 │          0 │\n",
      "├─────────┼─────┼───────┼───────┼───────┼───────┼────────────┤\n",
      "│ s_1     │   0 │     2 │     1 │     1 │     0 │          8 │\n",
      "├─────────┼─────┼───────┼───────┼───────┼───────┼────────────┤\n",
      "│ s_2     │   0 │     1 │     3 │     0 │     1 │          8 │\n",
      "╘═════════╧═════╧═══════╧═══════╧═══════╧═══════╧════════════╛\n",
      "\n",
      "Iteración 2:\n",
      "╒═════════╤═════╤═══════╤═══════╤═══════╤═══════╤════════════╕\n",
      "│ Basic   │   z │   s_1 │   x_2 │   s_1 │   s_2 │   solution │\n",
      "╞═════════╪═════╪═══════╪═══════╪═══════╪═══════╪════════════╡\n",
      "│ z       │   1 │     0 │  -5   │  15   │     0 │        120 │\n",
      "├─────────┼─────┼───────┼───────┼───────┼───────┼────────────┤\n",
      "│ x_1     │   0 │     1 │   0.5 │   0.5 │     0 │          4 │\n",
      "├─────────┼─────┼───────┼───────┼───────┼───────┼────────────┤\n",
      "│ s_2     │   0 │     0 │   2.5 │  -0.5 │     1 │          4 │\n",
      "╘═════════╧═════╧═══════╧═══════╧═══════╧═══════╧════════════╛\n",
      "\n",
      "Iteración 3:\n",
      "╒═════════╤═════╤═══════╤═══════╤═══════╤═══════╤════════════╕\n",
      "│ Basic   │   z │   s_1 │   s_2 │   s_1 │   s_2 │   solution │\n",
      "╞═════════╪═════╪═══════╪═══════╪═══════╪═══════╪════════════╡\n",
      "│ z       │   1 │     0 │     0 │  14   │   2   │      128   │\n",
      "├─────────┼─────┼───────┼───────┼───────┼───────┼────────────┤\n",
      "│ x_1     │   0 │     1 │     0 │   0.6 │  -0.2 │        3.2 │\n",
      "├─────────┼─────┼───────┼───────┼───────┼───────┼────────────┤\n",
      "│ x_2     │   0 │     0 │     1 │  -0.2 │   0.4 │        1.6 │\n",
      "╘═════════╧═════╧═══════╧═══════╧═══════╧═══════╧════════════╛\n",
      "\n"
     ]
    }
   ],
   "source": [
    "simplex.print_iterations()"
   ]
  }
 ],
 "metadata": {
  "kernelspec": {
   "display_name": "Python 3 (ipykernel)",
   "language": "python",
   "name": "python3"
  },
  "language_info": {
   "codemirror_mode": {
    "name": "ipython",
    "version": 3
   },
   "file_extension": ".py",
   "mimetype": "text/x-python",
   "name": "python",
   "nbconvert_exporter": "python",
   "pygments_lexer": "ipython3",
   "version": "3.9.21"
  }
 },
 "nbformat": 4,
 "nbformat_minor": 5
}

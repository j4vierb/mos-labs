{
 "cells": [
  {
   "cell_type": "markdown",
   "id": "8614c5bd-a866-43f2-8979-982b41ecdaa5",
   "metadata": {},
   "source": [
    "# Entrega laboratorio 3\n",
    "\n",
    "## Integrantes \n",
    "\n",
    "- Javier Steven Barrera Toro - 202214779\n",
    "- Julian Santiago Rolon Toloza - 202215839"
   ]
  },
  {
   "cell_type": "code",
   "execution_count": 268,
   "id": "775537e0-4668-47ef-bee1-edf62c0ffd68",
   "metadata": {},
   "outputs": [
    {
     "data": {
      "text/plain": [
       "{'divide': 'warn', 'over': 'warn', 'under': 'ignore', 'invalid': 'warn'}"
      ]
     },
     "execution_count": 268,
     "metadata": {},
     "output_type": "execute_result"
    }
   ],
   "source": [
    "from matplotlib import pyplot as plt\n",
    "from typing import List, Tuple, NewType\n",
    "import numpy as np\n",
    "import pandas as pd\n",
    "import sympy as sp\n",
    "import tabulate\n",
    "\n",
    "np.seterr(divide='ignore')"
   ]
  },
  {
   "cell_type": "code",
   "execution_count": 19,
   "id": "e4757ced-8b60-49f3-91a3-f50916c36ba7",
   "metadata": {},
   "outputs": [
    {
     "name": "stdout",
     "output_type": "stream",
     "text": [
      "+----------+----------+\n",
      "| Planet   | R (km)   |\n",
      "+==========+==========+\n",
      "| sun      | 10000    |\n",
      "| earth    | 2000     |\n",
      "| adf      | adlkf    |\n",
      "+----------+----------+\n"
     ]
    }
   ],
   "source": [
    "print(tabulate.tabulate([['sun', '10000'], ['earth', '2000'], ['adf', 'adlkf']], headers=[\"Planet\",\"R (km)\", \"mass (x 10^29 kg)\"], tablefmt='outline'))"
   ]
  },
  {
   "cell_type": "markdown",
   "id": "d65aee44-6ac3-4a30-b77b-31bbf2b6eb5d",
   "metadata": {},
   "source": [
    "# Problema 1: Implementación del Método Simplex Estándar"
   ]
  },
  {
   "cell_type": "markdown",
   "id": "613edd67-6c72-4777-aeb5-0106efe5df18",
   "metadata": {},
   "source": [
    "Una solución básica factible del siguiente problema de optimización puede ser $(x_1, x_2, x_3) = (0, 0, 0)$ ya que cumple con las restricciones. "
   ]
  },
  {
   "cell_type": "markdown",
   "id": "e2fedff4-fd72-4c4d-ac45-4fa3b91000ac",
   "metadata": {},
   "source": [
    "\\begin{equation}\n",
    "\\begin{aligned}\n",
    "\\textrm{Maximizar} \\quad & Z = 3x_1 + 2x_2 + 5x_3 \\\\\n",
    "\\textrm{s.t.} \\quad & x_1 + x_2 + x_3 \\leq 100 \\\\\n",
    "  & 2x_1 + x_2 + x_3 \\leq 150 \\\\ \n",
    "  & x_1 + 4x_2 + 2x_3 \\leq 80 \\\\\n",
    "  & x_1, x_2, x_3 \\geq 0\n",
    "\\end{aligned}\n",
    "\\end{equation}"
   ]
  },
  {
   "cell_type": "markdown",
   "id": "8abcd986-7a43-43a5-b8f8-290efd879b92",
   "metadata": {},
   "source": [
    "## Convertir el problema a la forma estándar"
   ]
  },
  {
   "cell_type": "markdown",
   "id": "4ddfe100-4bbd-47d9-a5e8-6e70a67dfefd",
   "metadata": {},
   "source": [
    "Para convertir el problema anterior en su forma estándar se deben agregar variables de holgura a las restricciones de tal manera que las mismas se vuelvan igualdades. Además, se agregan estas variables a la restricción de no negatividad y a la función objetivo."
   ]
  },
  {
   "cell_type": "markdown",
   "id": "4a3018dd-7171-4a2d-a986-cff6ee1cc541",
   "metadata": {},
   "source": [
    "\\begin{equation}\n",
    "\\begin{aligned}\n",
    "\\textrm{Maximizar} \\quad & Z = 3x_1 + 2x_2 + 5x_3 + 0s_1 + 0s_2 + 0s_3 \\\\\n",
    "\\textrm{s.t.} \\quad & x_1 + x_2 + x_3 + s_1 = 100 \\\\\n",
    "  & 2x_1 + x_2 + x_3 + s_2 = 150 \\\\ \n",
    "  & x_1 + 4x_2 + 2x_3 + s_3 = 80 \\\\\n",
    "  & x_1, x_2, x_3, s_1, s_2, s_3 \\geq 0\n",
    "\\end{aligned}\n",
    "\\end{equation}"
   ]
  },
  {
   "cell_type": "markdown",
   "id": "8e4bf624-b644-48d4-89d9-ca5b1f336411",
   "metadata": {},
   "source": [
    "## Implementación del algoritmo del método Simplex"
   ]
  },
  {
   "cell_type": "code",
   "execution_count": 285,
   "id": "401f08d6-340c-46a7-b9a5-2be293d6c585",
   "metadata": {},
   "outputs": [],
   "source": [
    "class SimplexSolver:\n",
    "    def __init__(self, c, X, b):\n",
    "        self.z = np.array(c)\n",
    "        self.X = np.array(X)\n",
    "        self.b = np.array(b)\n",
    "\n",
    "    def solve(self):\n",
    "        row_num, col_num = self.X.shape\n",
    "        simplex_table = np.vstack([self.z, self.X])\n",
    "        c = np.hstack([[0], self.b]).reshape((row_num + 1, 1))\n",
    "        \n",
    "        simplex_table = np.hstack([simplex_table, c], dtype='float64')\n",
    "        solutions = [simplex_table]\n",
    "        \n",
    "        while True:\n",
    "            if np.min(simplex_table[0]) >= 0: break\n",
    "            \n",
    "            pivot_col = np.argmin(simplex_table[0])\n",
    "            reduced_costs = simplex_table[1:, -1] / simplex_table[1:, pivot_col]\n",
    "\n",
    "            if np.max(reduced_costs) <= 0:\n",
    "                print(\"There's no reduced costs greater than 0\")\n",
    "                break\n",
    "\n",
    "            # pivot_row = np.argmin(reduced_costs) + 1\n",
    "            valid_values = reduced_costs[(reduced_costs > 0)]\n",
    "            min_value = valid_values.min()\n",
    "            pivot_row = np.where(reduced_costs == min_value)[0][0] + 1\n",
    "            \n",
    "            element = simplex_table[pivot_row, pivot_col]\n",
    "            simplex_table[pivot_row] = simplex_table[pivot_row, :] / element\n",
    "\n",
    "            for i in range(simplex_table.shape[0]):\n",
    "                if i != pivot_row:\n",
    "                    term = simplex_table[i, pivot_col]\n",
    "                    simplex_table[i] = simplex_table[i, :] - term * simplex_table[pivot_row, :]\n",
    "            \n",
    "            solutions.append(simplex_table)\n",
    "        \n",
    "        return simplex_table[:, -1], solutions"
   ]
  },
  {
   "cell_type": "code",
   "execution_count": 284,
   "id": "56eb586e-09ca-4b40-b82a-9b6774a13d5b",
   "metadata": {},
   "outputs": [
    {
     "name": "stdout",
     "output_type": "stream",
     "text": [
      "[236.66666667  23.33333333  73.33333333   3.33333333]\n"
     ]
    }
   ],
   "source": [
    "c = [1, -3, -2, -5, 0, 0, 0]\n",
    "b = [100, 150, 80]\n",
    "X = [\n",
    "    [0, 1, 1, 1, 1, 0, 0],\n",
    "    [0, 2, 1, 1, 0, 1, 0],\n",
    "    [0, 1, 4, 2, 0, 0, 1]\n",
    "]\n",
    "\n",
    "solver = SimplexSolver(c, X, b)\n",
    "sol, _ = solver.solve()\n",
    "print(sol)"
   ]
  },
  {
   "cell_type": "code",
   "execution_count": 283,
   "id": "5d3c3850-06b9-49f7-ba68-82a4b18396b7",
   "metadata": {},
   "outputs": [
    {
     "name": "stdout",
     "output_type": "stream",
     "text": [
      "[21.   3.   1.5  2.5  0.5]\n"
     ]
    }
   ],
   "source": [
    "c = [1, -5, -4, 0, 0, 0, 0]\n",
    "X = [\n",
    "    [0, 6, 4, 1, 0, 0, 0],\n",
    "    [0, 1, 2, 0, 1, 0, 0],\n",
    "    [0, -1, 1, 0, 0, 1, 0],\n",
    "    [0, 0, 1, 0, 0, 0, 1]\n",
    "]\n",
    "b = [24, 6, 1, 2]\n",
    "\n",
    "solver = SimplexSolver(c, X, b)\n",
    "sol, _ = solver.solve()\n",
    "print(sol)"
   ]
  },
  {
   "cell_type": "markdown",
   "id": "efc7c5b1-b4fe-4f22-b436-a274249ab576",
   "metadata": {},
   "source": [
    "## EXTRA: Funciones objetivo en la guia para practicar"
   ]
  },
  {
   "cell_type": "code",
   "execution_count": 282,
   "id": "aaa183a1-fc81-47eb-9760-83a9a80af2d7",
   "metadata": {},
   "outputs": [
    {
     "name": "stdout",
     "output_type": "stream",
     "text": [
      "[41.  6.  7. 29.]\n",
      "[170.  15.   3.  10.]\n",
      "[36.  6. 14.  8.]\n",
      "[60.  6. 14.  8.]\n"
     ]
    }
   ],
   "source": [
    "X = [\n",
    "    [0, 1, 2, 2, 4, 1, 0, 0],\n",
    "    [0, 2, -1, 1, 2, 0, 1, 0],\n",
    "    [0, 4, -2, 1, -1, 0, 0, 1]\n",
    "]\n",
    "b = [40, 8, 10]\n",
    "\n",
    "zs = [\n",
    "    [1, -2, -1, 3, -5, 0, 0, 0],\n",
    "    [1, -8, -6, -3, 2, 0, 0, 0],\n",
    "    [1, -3, 1, -3, -4, 0, 0, 0],\n",
    "    [1, -5, 4, -6, 8, 0, 0, 0]\n",
    "]\n",
    "\n",
    "for z in zs:\n",
    "    solver = SimplexSolver(z, X, b)\n",
    "    sol, _ = solver.solve()\n",
    "    print(sol)"
   ]
  },
  {
   "cell_type": "markdown",
   "id": "047ea810-cc91-4bb4-bfa9-834090689168",
   "metadata": {},
   "source": [
    "# Problema 2: Implementación del método Simplex Dual Phase"
   ]
  },
  {
   "cell_type": "code",
   "execution_count": null,
   "id": "7cf16eb4-8f89-4191-87e2-63134d1c570b",
   "metadata": {},
   "outputs": [],
   "source": []
  },
  {
   "cell_type": "markdown",
   "id": "a500580d-2393-4d04-9cdb-255c0eceb9fa",
   "metadata": {},
   "source": [
    "# Problema 3: Comparación de rendimiento con GLPK/Pyomo"
   ]
  },
  {
   "cell_type": "code",
   "execution_count": null,
   "id": "52f4c2d8-01a9-42b4-9c2b-f8baf5384e99",
   "metadata": {},
   "outputs": [],
   "source": []
  },
  {
   "cell_type": "markdown",
   "id": "10b58dc3-c5ef-421f-8714-cc927fbf063b",
   "metadata": {},
   "source": [
    "# Problema 4: Análisis de sensibilidad en programación lineal "
   ]
  },
  {
   "cell_type": "code",
   "execution_count": null,
   "id": "d78d6dba-5cec-4aaf-a9aa-c759ea11fc04",
   "metadata": {},
   "outputs": [],
   "source": []
  }
 ],
 "metadata": {
  "kernelspec": {
   "display_name": "Python 3 (ipykernel)",
   "language": "python",
   "name": "python3"
  },
  "language_info": {
   "codemirror_mode": {
    "name": "ipython",
    "version": 3
   },
   "file_extension": ".py",
   "mimetype": "text/x-python",
   "name": "python",
   "nbconvert_exporter": "python",
   "pygments_lexer": "ipython3",
   "version": "3.9.21"
  }
 },
 "nbformat": 4,
 "nbformat_minor": 5
}

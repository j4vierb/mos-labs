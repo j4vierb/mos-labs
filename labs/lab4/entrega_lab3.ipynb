{
 "cells": [
  {
   "cell_type": "markdown",
   "id": "dba62979-330f-49c9-be8d-5346e0c916a1",
   "metadata": {},
   "source": [
    "# Entrega laboratorio 2\n",
    "\n",
    "## Integrantes \n",
    "\n",
    "- Javier Steven Barrera Toro - 202214779\n",
    "- Julian Santiago Rolon Toloza - 202215839"
   ]
  }
 ],
 "metadata": {
  "kernelspec": {
   "display_name": "Python 3 (ipykernel)",
   "language": "python",
   "name": "python3"
  },
  "language_info": {
   "codemirror_mode": {
    "name": "ipython",
    "version": 3
   },
   "file_extension": ".py",
   "mimetype": "text/x-python",
   "name": "python",
   "nbconvert_exporter": "python",
   "pygments_lexer": "ipython3",
   "version": "3.9.21"
  }
 },
 "nbformat": 4,
 "nbformat_minor": 5
}

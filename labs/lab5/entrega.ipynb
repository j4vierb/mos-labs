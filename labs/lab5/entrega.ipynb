{
 "cells": [
  {
   "cell_type": "markdown",
   "id": "0428c264-423a-46f3-a98f-56af06cddbf7",
   "metadata": {},
   "source": [
    "# Entrega laboratorio 5\n",
    "\n",
    "## Integrantes \n",
    "\n",
    "- Javier Steven Barrera Toro - 202214779\n",
    "- Julian Santiago Rolon Toloza - 202215839"
   ]
  },
  {
   "cell_type": "code",
   "execution_count": 2,
   "id": "efe589e0-9091-4b73-bb76-822fdbf91d6a",
   "metadata": {},
   "outputs": [
    {
     "data": {
      "text/plain": [
       "{'divide': 'ignore', 'over': 'warn', 'under': 'ignore', 'invalid': 'warn'}"
      ]
     },
     "execution_count": 2,
     "metadata": {},
     "output_type": "execute_result"
    }
   ],
   "source": [
    "from matplotlib import pyplot as plt\n",
    "from typing import List, Tuple, NewType\n",
    "import numpy as np\n",
    "import pandas as pd\n",
    "import sympy as sp\n",
    "import copy\n",
    "import tabulate\n",
    "\n",
    "np.seterr(divide='ignore')"
   ]
  },
  {
   "cell_type": "markdown",
   "id": "a81ebf14-9a57-4165-a139-8a617c31b4a5",
   "metadata": {},
   "source": [
    "# Problema 1"
   ]
  },
  {
   "cell_type": "markdown",
   "id": "122f5943-61e0-4ce5-b759-c0c5401b7c81",
   "metadata": {},
   "source": []
  },
  {
   "cell_type": "markdown",
   "id": "188c36f6-8f8d-41b7-80a4-ac90c7e13fec",
   "metadata": {},
   "source": [
    "# Problema 2"
   ]
  },
  {
   "cell_type": "markdown",
   "id": "dc9331e2-94a8-444e-b1cb-99fdc02c7906",
   "metadata": {},
   "source": [
    "## Formulación del modelo multiobjetivo"
   ]
  },
  {
   "cell_type": "markdown",
   "id": "ae31ace9-aeb3-47dc-9b5d-8afc9ab37cc7",
   "metadata": {},
   "source": [
    "### Conjuntos"
   ]
  },
  {
   "cell_type": "markdown",
   "id": "a176a760-4107-4852-b3ea-0ee4d381a287",
   "metadata": {},
   "source": [
    "Se define el conjunto de localidades $N$ que se tienen que inspeccionar y evaluar. Además, el conjunto $E$ con todas las rutas posibles entre las localidades que se deben inspeccionar."
   ]
  },
  {
   "cell_type": "markdown",
   "id": "d3df204b-763c-4392-a398-ae88986aac24",
   "metadata": {},
   "source": [
    "### Parámetros"
   ]
  },
  {
   "cell_type": "markdown",
   "id": "3810ba01-bf7e-4eaf-8c7c-ca1e908619de",
   "metadata": {},
   "source": [
    "La matriz $d_{ij}$ tiene la distancia del lugar $i\\in N$ al lugar $j \\in N \\,|\\, i \\neq j$, ya que no existen autociclos. Cada ruta tiene un riesgo asociado $r_{ij}$ y cada $i \\in N$ localidad tiene una calidad de inspección $n_i$. También se define un nodo $o \\in N$ que será el punto de partida para que el equipo haga la inspección. "
   ]
  },
  {
   "cell_type": "markdown",
   "id": "8e891135-ebd8-4919-9cac-61db14cb7ae3",
   "metadata": {},
   "source": [
    "### Variables de decisión"
   ]
  },
  {
   "cell_type": "markdown",
   "id": "b0299ab7-5664-4069-b4e2-fa9ef61d1325",
   "metadata": {},
   "source": [
    "La variable de decisión es $X_{ij}$ que indica si el camino desde la localidad $i$ a $j$ se selecciona. El dominio de la variable de decisión es binaria ($X_{ij} \\in \\{0, 1\\}$), 1 si se selecciona y 0 de lo contrario. Además, es necesario incluir una variable auxiliar $u_i$ para cada $i \\in N \\backslash \\{o\\}$ para darle un orden a las localidades recorridas, por ejemplo, si se toma el camino $(i,j) \\in E$ el valor de $u_j > u_i$. Asimismo, los valores que puede tomar $u_i$ son, ya que se sabe que el nodo origen es 0, de $1$ hasta $|N|$. "
   ]
  },
  {
   "cell_type": "markdown",
   "id": "7fa86293-ed55-464f-b7f4-a01047118cac",
   "metadata": {},
   "source": [
    "### Funciones objetivo"
   ]
  },
  {
   "cell_type": "markdown",
   "id": "c0daf04f-6834-4a4e-a228-f1323307ab9c",
   "metadata": {},
   "source": [
    "Bien se sabe que se quieren optimizar tres aspectos de este problema. Se tiene que minimizar distancia recorrida. \n",
    "$$\n",
    "Z_1 = \\min \\sum_{(i,j) \\in E} X_{ij} \\times d_{ij}\n",
    "$$\n",
    "Además, se debe máximizar la calidad de inspección de la ruta. \n",
    "$$\n",
    "Z_2 = \\max \\sum_{(i,j) \\in E} X_{ij} \\times n_i \\times d_{ij}\n",
    "$$\n",
    "También se debe minimizar el riesgo de las rutas elegidas. \n",
    "$$\n",
    "Z_3 = \\min \\sum_{(i,j) \\in E} X_{ij} \\times r_{ij}\n",
    "$$\n",
    "\n",
    "Recordemos que para poder realizar la optimización todas las funciones deben o maximizar o minimizar. Por esto, es necesario cambiar el objetivo de $Z_2$, en este caso $Z_2^*=\\min-Z_2$.\n",
    "$$\n",
    "Z_2^* = \\min \\left(-\\sum_{(i,j) \\in E} X_{ij} \\times n_i \\times d_{ij} \\right)\n",
    "$$"
   ]
  },
  {
   "cell_type": "markdown",
   "id": "981ea7e5-dce2-432c-aa71-c8fa676dcf09",
   "metadata": {},
   "source": [
    "### Restricciones"
   ]
  },
  {
   "cell_type": "markdown",
   "id": "bc1b1df6-500f-4028-a385-abe9b9383965",
   "metadata": {},
   "source": [
    "Se sabe que el equipo debe salir del nodo origen.\n",
    "$$\n",
    "\\sum_{j \\in N} X_{ij} = 1, \\forall i \\in N \\, | \\, i = o\n",
    "$$\n",
    "El equipo de inspección debe volver al nodo de origen. \n",
    "$$\n",
    "\\sum_{i \\in N} X_{ij} = 1, \\forall j \\in N \\, | \\, j = o\n",
    "$$\n",
    "El equipo debe entrar a cada una de las localidades. \n",
    "$$\n",
    "\\sum_{i \\in N \\, | \\, i \\neq j} X_{ij} = 1, \\forall j \\in N \\backslash \\{o\\}\n",
    "$$\n",
    "El equipo debe salir de cada una de las localidades. \n",
    "$$\n",
    "\\sum_{j \\in N \\, | \\, j \\neq i} X_{ij} = 1, \\forall i \\in N \\backslash \\{o\\}\n",
    "$$\n",
    "Adicionalmente, se debe agregar la restricción MTZ para la eliminación de subtoures.\n",
    "$$\n",
    "u_i - u_j + (|N| - 1) X_{ij} \\leq |N| - 2, \\forall i, j \\in N \\, | \\, 1 \\leq i \\wedge j \\leq |N| \\wedge i \\neq j\n",
    "$$"
   ]
  },
  {
   "cell_type": "markdown",
   "id": "59d99485-f583-4a95-9f9f-885d2f7112d2",
   "metadata": {},
   "source": [
    "## Selección y justificación del método de resolución"
   ]
  },
  {
   "cell_type": "markdown",
   "id": "906e5e50-75be-46fe-899d-1eb202eb0b9b",
   "metadata": {},
   "source": [
    "## Implementación y análisis"
   ]
  },
  {
   "cell_type": "markdown",
   "id": "f01d43ca-c615-457f-8a07-f0abf3f3ca23",
   "metadata": {},
   "source": [
    "## Análisis y discusión adicional"
   ]
  }
 ],
 "metadata": {
  "kernelspec": {
   "display_name": "Python 3 (ipykernel)",
   "language": "python",
   "name": "python3"
  },
  "language_info": {
   "codemirror_mode": {
    "name": "ipython",
    "version": 3
   },
   "file_extension": ".py",
   "mimetype": "text/x-python",
   "name": "python",
   "nbconvert_exporter": "python",
   "pygments_lexer": "ipython3",
   "version": "3.9.21"
  }
 },
 "nbformat": 4,
 "nbformat_minor": 5
}

{
 "cells": [
  {
   "cell_type": "markdown",
   "id": "0428c264-423a-46f3-a98f-56af06cddbf7",
   "metadata": {},
   "source": [
    "# Entrega laboratorio 5\n",
    "\n",
    "## Integrantes \n",
    "\n",
    "- Javier Steven Barrera Toro - 202214779\n",
    "- Julian Santiago Rolon Toloza - 202215839"
   ]
  },
  {
   "cell_type": "code",
   "execution_count": 2,
   "id": "efe589e0-9091-4b73-bb76-822fdbf91d6a",
   "metadata": {},
   "outputs": [
    {
     "data": {
      "text/plain": [
       "{'divide': 'ignore', 'over': 'warn', 'under': 'ignore', 'invalid': 'warn'}"
      ]
     },
     "execution_count": 2,
     "metadata": {},
     "output_type": "execute_result"
    }
   ],
   "source": [
    "from matplotlib import pyplot as plt\n",
    "from typing import List, Tuple, NewType\n",
    "import numpy as np\n",
    "import pandas as pd\n",
    "import sympy as sp\n",
    "import copy\n",
    "import tabulate\n",
    "\n",
    "np.seterr(divide='ignore')"
   ]
  },
  {
   "cell_type": "markdown",
   "id": "a81ebf14-9a57-4165-a139-8a617c31b4a5",
   "metadata": {},
   "source": [
    "# Problema 1"
   ]
  },
  {
   "cell_type": "code",
   "execution_count": null,
   "id": "e82727a5-92ba-4dff-98bd-a1dfee6099a9",
   "metadata": {},
   "outputs": [],
   "source": []
  },
  {
   "cell_type": "markdown",
   "id": "188c36f6-8f8d-41b7-80a4-ac90c7e13fec",
   "metadata": {},
   "source": [
    "# Problema 2"
   ]
  },
  {
   "cell_type": "markdown",
   "id": "dc9331e2-94a8-444e-b1cb-99fdc02c7906",
   "metadata": {},
   "source": [
    "## Formulación del modelo multiobjetivo"
   ]
  },
  {
   "cell_type": "markdown",
   "id": "ae31ace9-aeb3-47dc-9b5d-8afc9ab37cc7",
   "metadata": {},
   "source": [
    "### Conjuntos"
   ]
  },
  {
   "cell_type": "markdown",
   "id": "d3df204b-763c-4392-a398-ae88986aac24",
   "metadata": {},
   "source": [
    "### Parámetros"
   ]
  },
  {
   "cell_type": "markdown",
   "id": "8e891135-ebd8-4919-9cac-61db14cb7ae3",
   "metadata": {},
   "source": [
    "### Variables de decisión"
   ]
  },
  {
   "cell_type": "markdown",
   "id": "7fa86293-ed55-464f-b7f4-a01047118cac",
   "metadata": {},
   "source": [
    "### Funciones objetivo"
   ]
  },
  {
   "cell_type": "markdown",
   "id": "981ea7e5-dce2-432c-aa71-c8fa676dcf09",
   "metadata": {},
   "source": [
    "### Restricciones"
   ]
  },
  {
   "cell_type": "markdown",
   "id": "59d99485-f583-4a95-9f9f-885d2f7112d2",
   "metadata": {},
   "source": [
    "## Selección y justificación del método de resolución"
   ]
  },
  {
   "cell_type": "markdown",
   "id": "906e5e50-75be-46fe-899d-1eb202eb0b9b",
   "metadata": {},
   "source": [
    "## Implementación y análisis"
   ]
  },
  {
   "cell_type": "markdown",
   "id": "f01d43ca-c615-457f-8a07-f0abf3f3ca23",
   "metadata": {},
   "source": [
    "## Análisis y discusión adicional"
   ]
  }
 ],
 "metadata": {
  "kernelspec": {
   "display_name": "Python 3 (ipykernel)",
   "language": "python",
   "name": "python3"
  },
  "language_info": {
   "codemirror_mode": {
    "name": "ipython",
    "version": 3
   },
   "file_extension": ".py",
   "mimetype": "text/x-python",
   "name": "python",
   "nbconvert_exporter": "python",
   "pygments_lexer": "ipython3",
   "version": "3.9.21"
  }
 },
 "nbformat": 4,
 "nbformat_minor": 5
}

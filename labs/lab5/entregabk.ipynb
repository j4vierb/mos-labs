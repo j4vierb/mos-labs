{
 "cells": [
  {
   "cell_type": "markdown",
   "id": "0428c264-423a-46f3-a98f-56af06cddbf7",
   "metadata": {},
   "source": [
    "# Entrega laboratorio 5\n",
    "\n",
    "## Integrantes \n",
    "\n",
    "- Javier Steven Barrera Toro - 202214779\n",
    "- Julian Santiago Rolon Toloza - 202215839"
   ]
  },
  {
   "cell_type": "code",
   "execution_count": 1,
   "id": "efe589e0-9091-4b73-bb76-822fdbf91d6a",
   "metadata": {},
   "outputs": [
    {
     "data": {
      "text/plain": [
       "{'divide': 'warn', 'over': 'warn', 'under': 'ignore', 'invalid': 'warn'}"
      ]
     },
     "execution_count": 1,
     "metadata": {},
     "output_type": "execute_result"
    }
   ],
   "source": [
    "from matplotlib import pyplot as plt\n",
    "from typing import List, Tuple, NewType\n",
    "import numpy as np\n",
    "import pandas as pd\n",
    "import sympy as sp\n",
    "import copy\n",
    "import tabulate\n",
    "\n",
    "np.seterr(divide='ignore')"
   ]
  },
  {
   "cell_type": "markdown",
   "id": "a81ebf14-9a57-4165-a139-8a617c31b4a5",
   "metadata": {},
   "source": [
    "# Problema 1"
   ]
  },
  {
   "cell_type": "markdown",
   "id": "9bbd1798",
   "metadata": {},
   "source": [
    "## 1.1 Formulación del modelo multiobjetivo"
   ]
  },
  {
   "cell_type": "markdown",
   "id": "b6bbc993",
   "metadata": {},
   "source": [
    "### 1.1.1 Conjuntos"
   ]
  },
  {
   "cell_type": "markdown",
   "id": "591784fa",
   "metadata": {},
   "source": [
    "Definimos 4 conjuntos: \n",
    "\n",
    "- $R$: Conjunto de recursos {Alimentos, Medicinas, Equipos, Agua, Mantas}\n",
    "- $A$: Conjunto de aviones {1,2,3,4}\n",
    "- $Z$: COnjunto de ZOnas de destino {A,B,C,D}\n",
    "- $V$: Conjunto de viajes posibles por avión {1,2}"
   ]
  },
  {
   "cell_type": "markdown",
   "id": "dfbb60d8",
   "metadata": {},
   "source": [
    "### 1.1.2 Parámetros"
   ]
  },
  {
   "cell_type": "markdown",
   "id": "1a1ec7d2",
   "metadata": {},
   "source": [
    "#### Parametros para los recursos: \n",
    "- $v_i$: Valor de impacto por tonelada del recurso $i$\n",
    "- $p_i$: Peso (TON) por unidad del recurso $i$\n",
    "- $u_i$: Volumen $(m^3)$ por unidad del recurso $i$\n",
    "- $d_i$: Disponibilidad total (unidades) del recurso $i$\n",
    "\n",
    "#### Aviones: \n",
    "- $capW_j$: Capacidad del peso (TON) del avión $j$\n",
    "- $capV_j$: Capacidad del volumen $(m^3)$ del avion $j$\n",
    "- $CF_j$: COsto fijo por uso del avión $j$ (miles USD)\n",
    "- $CV_j$: Costo variable por jm del avión $j$ (miles USD/km)\n",
    "\n",
    "#### Zonas:\n",
    "- $dist_k$: Distancia a la zona $k$ (km)\n",
    "- $mult_k$: multiplicador de impacto de la zona $k$\n",
    "- $min_{ik}$: Necesidad mínima del reecurso $i$ en la zona $k$ (TON)"
   ]
  },
  {
   "cell_type": "markdown",
   "id": "3008bc26",
   "metadata": {},
   "source": [
    "### 1.1.3 Variables de decisión"
   ]
  },
  {
   "cell_type": "markdown",
   "id": "456c2b62",
   "metadata": {},
   "source": [
    "- $x_{ijvk}$: Cantidad (TON) del recurso $i$ transportado por el avion $j$en viaje $v$ a la zona $k$\n",
    "- $y_jvk /in {(0,1)}: 1$ si el avion $j$ en el viaje $v$ va a la zona $k$, 0 en caso contrario\n",
    "- "
   ]
  },
  {
   "cell_type": "markdown",
   "id": "e4e52e51",
   "metadata": {},
   "source": [
    "### 1.1.4 Funciones objetivo"
   ]
  },
  {
   "cell_type": "markdown",
   "id": "7b1ab8b9",
   "metadata": {},
   "source": [
    "### 1.1.5 Restricciones"
   ]
  },
  {
   "cell_type": "markdown",
   "id": "1a43e934",
   "metadata": {},
   "source": [
    "## 1.2 Implementación del Método"
   ]
  },
  {
   "cell_type": "markdown",
   "id": "91294ed4",
   "metadata": {},
   "source": [
    "## 1.3 Análisis y Descución"
   ]
  },
  {
   "cell_type": "markdown",
   "id": "188c36f6-8f8d-41b7-80a4-ac90c7e13fec",
   "metadata": {},
   "source": [
    "# Problema 2"
   ]
  },
  {
   "cell_type": "markdown",
   "id": "dc9331e2-94a8-444e-b1cb-99fdc02c7906",
   "metadata": {},
   "source": [
    "## Formulación del modelo multiobjetivo"
   ]
  },
  {
   "cell_type": "markdown",
   "id": "ae31ace9-aeb3-47dc-9b5d-8afc9ab37cc7",
   "metadata": {},
   "source": [
    "### Conjuntos"
   ]
  },
  {
   "cell_type": "markdown",
   "id": "a176a760-4107-4852-b3ea-0ee4d381a287",
   "metadata": {},
   "source": [
    "Se define el conjunto de localidades $N$ que se tienen que inspeccionar y evaluar. Además, el conjunto $E$ con todas las rutas posibles entre las localidades que se deben inspeccionar."
   ]
  },
  {
   "cell_type": "markdown",
   "id": "d3df204b-763c-4392-a398-ae88986aac24",
   "metadata": {},
   "source": [
    "### Parámetros"
   ]
  },
  {
   "cell_type": "markdown",
   "id": "3810ba01-bf7e-4eaf-8c7c-ca1e908619de",
   "metadata": {},
   "source": [
    "La matriz $d_{ij}$ tiene la distancia del lugar $i\\in N$ al lugar $j \\in N \\,|\\, i \\neq j$, ya que no existen autociclos. Cada ruta tiene un riesgo asociado $r_{ij}$ y cada $i \\in N$ localidad tiene una calidad de inspección $n_i$. También se define un nodo $o \\in N$ que será el punto de partida para que el equipo haga la inspección. "
   ]
  },
  {
   "cell_type": "markdown",
   "id": "8e891135-ebd8-4919-9cac-61db14cb7ae3",
   "metadata": {},
   "source": [
    "### Variables de decisión"
   ]
  },
  {
   "cell_type": "markdown",
   "id": "b0299ab7-5664-4069-b4e2-fa9ef61d1325",
   "metadata": {},
   "source": [
    "La variable de decisión es $X_{ij}$ que indica si el camino desde la localidad $i$ a $j$ se selecciona. El dominio de la variable de decisión es binaria ($X_{ij} \\in \\{0, 1\\}$), 1 si se selecciona y 0 de lo contrario. Además, es necesario incluir una variable auxiliar $u_i$ para cada $i \\in N \\backslash \\{o\\}$ para darle un orden a las localidades recorridas, por ejemplo, si se toma el camino $(i,j) \\in E$ el valor de $u_j > u_i$. Asimismo, los valores que puede tomar $u_i$ son, ya que se sabe que el nodo origen es 0, de $1$ hasta $|N|$. "
   ]
  },
  {
   "cell_type": "markdown",
   "id": "7fa86293-ed55-464f-b7f4-a01047118cac",
   "metadata": {},
   "source": [
    "### Funciones objetivo"
   ]
  },
  {
   "cell_type": "markdown",
   "id": "c0daf04f-6834-4a4e-a228-f1323307ab9c",
   "metadata": {},
   "source": [
    "Bien se sabe que se quieren optimizar tres aspectos de este problema. Se tiene que minimizar distancia recorrida. \n",
    "$$\n",
    "Z_1 = \\min \\sum_{(i,j) \\in E} X_{ij} \\times d_{ij}\n",
    "$$\n",
    "Además, se debe máximizar la calidad de inspección de la ruta. \n",
    "$$\n",
    "Z_2 = \\max \\sum_{(i,j) \\in E} X_{ij} \\times n_i \\times d_{ij}\n",
    "$$\n",
    "También se debe minimizar el riesgo de las rutas elegidas. \n",
    "$$\n",
    "Z_3 = \\min \\sum_{(i,j) \\in E} X_{ij} \\times r_{ij}\n",
    "$$\n",
    "\n",
    "Recordemos que para poder realizar la optimización todas las funciones deben o maximizar o minimizar. Por esto, es necesario cambiar el objetivo de $Z_2$, en este caso $Z_2^*=\\min-Z_2$.\n",
    "$$\n",
    "Z_2^* = \\min \\left(-\\sum_{(i,j) \\in E} X_{ij} \\times n_i \\times d_{ij} \\right)\n",
    "$$\n",
    "\n",
    "Finalmente, la función multiobjetivo es \n",
    "$$\n",
    "\\min F = (Z_1, Z_2^*, Z_3)^T\n",
    "$$"
   ]
  },
  {
   "cell_type": "markdown",
   "id": "981ea7e5-dce2-432c-aa71-c8fa676dcf09",
   "metadata": {},
   "source": [
    "### Restricciones"
   ]
  },
  {
   "cell_type": "markdown",
   "id": "bc1b1df6-500f-4028-a385-abe9b9383965",
   "metadata": {},
   "source": [
    "Se sabe que el equipo debe salir del nodo origen.\n",
    "$$\n",
    "\\sum_{j \\in N} X_{ij} = 1, \\forall i \\in N \\, | \\, i = o\n",
    "$$\n",
    "El equipo de inspección debe volver al nodo de origen. \n",
    "$$\n",
    "\\sum_{i \\in N} X_{ij} = 1, \\forall j \\in N \\, | \\, j = o\n",
    "$$\n",
    "El equipo debe entrar a cada una de las localidades. \n",
    "$$\n",
    "\\sum_{i \\in N \\, | \\, i \\neq j} X_{ij} = 1, \\forall j \\in N \\backslash \\{o\\}\n",
    "$$\n",
    "El equipo debe salir de cada una de las localidades. \n",
    "$$\n",
    "\\sum_{j \\in N \\, | \\, j \\neq i} X_{ij} = 1, \\forall i \\in N \\backslash \\{o\\}\n",
    "$$\n",
    "Adicionalmente, se debe agregar la restricción MTZ para la eliminación de subtoures.\n",
    "$$\n",
    "u_i - u_j + (|N| - 1) X_{ij} \\leq |N| - 2, \\forall i, j \\in N \\, | \\, 1 \\leq i \\wedge j \\leq |N| \\wedge i \\neq j\n",
    "$$"
   ]
  },
  {
   "cell_type": "markdown",
   "id": "59d99485-f583-4a95-9f9f-885d2f7112d2",
   "metadata": {},
   "source": [
    "## Selección y justificación del método de resolución"
   ]
  },
  {
   "cell_type": "markdown",
   "id": "716cde80-ce4e-47cb-9d1f-7ae90bf6dc6d",
   "metadata": {},
   "source": [
    "En un primer momento se habia considerado utilizar $\\epsilon$-constraint dado que no se conoce si el frente de pareto óptimo tiene secciones no convexas, sin embargo, dado que se desean minimizar todos los objetivos sin darle más importancia a uno que a otro se opta por usar **suma ponderada**. Además, parece ser una buena opción hallar una solución equilibrada entre los distintos objetivos dado el contexto del problema ya que no se le estaría dando más prioridad a un objetivo y restringiendo los demás. Además, dada la naturaleza de **depende** del contexto del problema se le puede dar más o menos peso a un objetivo dependiendo de si, por ejemplo, si el modelo es en una zona en la que hay bastantes robos. "
   ]
  },
  {
   "cell_type": "markdown",
   "id": "906e5e50-75be-46fe-899d-1eb202eb0b9b",
   "metadata": {},
   "source": [
    "## Implementación y análisis"
   ]
  },
  {
   "cell_type": "code",
   "execution_count": 10,
   "id": "3c066804-334d-4c41-9cff-c9946726f086",
   "metadata": {},
   "outputs": [
    {
     "data": {
      "text/plain": [
       "array([[0, 3, 1, 3, 2, 2, 5, 3, 1, 2],\n",
       "       [3, 0, 4, 2, 3, 3, 5, 1, 2, 3],\n",
       "       [1, 4, 0, 3, 2, 2, 5, 3, 2, 2],\n",
       "       [3, 2, 3, 0, 1, 2, 3, 3, 2, 2],\n",
       "       [2, 3, 2, 1, 0, 1, 3, 3, 2, 1],\n",
       "       [2, 3, 2, 2, 1, 0, 3, 4, 2, 0],\n",
       "       [5, 5, 5, 3, 3, 3, 0, 6, 5, 4],\n",
       "       [3, 1, 3, 3, 3, 4, 6, 0, 1, 4],\n",
       "       [1, 2, 2, 2, 2, 2, 5, 1, 0, 2],\n",
       "       [2, 3, 2, 2, 1, 0, 4, 4, 2, 0]])"
      ]
     },
     "execution_count": 10,
     "metadata": {},
     "output_type": "execute_result"
    }
   ],
   "source": [
    "import pandas as pd\n",
    "from pyomo.environ import *\n",
    "import matplotlib.pyplot as plt\n",
    "\n",
    "csv_file_path = './matrix_cost/cost_matrix_10_nodes_1.5_spread.csv'\n",
    "\n",
    "distance_matrix = pd.read_csv(csv_file_path, header=None).values[1:, :]\n",
    "num_locations = distance_matrix.shape[0]\n",
    "\n",
    "distance_matrix"
   ]
  },
  {
   "cell_type": "code",
   "execution_count": 19,
   "id": "d41c8775-828f-4f26-a3ed-221af5a90ae8",
   "metadata": {},
   "outputs": [],
   "source": [
    "locations = list(range(num_locations))\n",
    "depot = 0\n",
    "inspection_locations = [i for i in locations if i != depot]\n",
    "\n",
    "all_edges = [(i, j) for i in locations for j in locations if i != j]\n",
    "\n",
    "distance_data = {(i,j): float(distance_matrix[i][j]) for j in locations for i in locations if i != j}\n",
    "\n",
    "risk_data = {edge: 5.0 for edge in all_edges}\n",
    "specific_risks = {\n",
    "    (0, 1): 3, (0, 2): 2, (0, 3): 4, (0, 4): 5, (0, 5): 6, (0, 6): 3,\n",
    "    (0, 7): 2, (0, 8): 4, (0, 9): 5, (2, 8): 9, (2, 9): 8, (3, 4): 5,\n",
    "    (4, 9): 7, (5, 6): 7, (8, 9): 7\n",
    "}\n",
    "risk_data.update({k: float(v) for k, v in specific_risks.items()})\n",
    "\n",
    "quality_data = {\n",
    "    1: 85.0, 2: 92.0, 3: 78.0, 4: 90.0, 5: 82.0, 6: 88.0, 7: 95.0, 8: 75.0, 9: 84.0\n",
    "}\n",
    "\n",
    "#### Pyomo model ####\n",
    "model = ConcreteModel()\n",
    "\n",
    "# Sets\n",
    "model.N = Set(initialize=locations)\n",
    "model.N_inspect = Set(initialize=inspection_locations)\n",
    "model.E = Set(initialize=all_edges, dimen=2)\n",
    "\n",
    "# Parameters\n",
    "model.d = Param(model.E, initialize=distance_data)\n",
    "model.r = Param(model.E, initialize=risk_data)\n",
    "model.n = Param(model.N_inspect, initialize=quality_data)\n",
    "\n",
    "# Variables\n",
    "model.X = Var(model.E, domain=Binary) # Usar Binary directamente\n",
    "model.u = Var(model.N, domain=NonNegativeReals, bounds=(0, num_locations - 1))\n",
    "\n",
    "# Constraints\n",
    "# 1. Salir del depósito una vez\n",
    "model.constraint_leave_depot = Constraint(expr=sum(model.X[depot, j] for j in model.N_inspect if (depot, j) in model.E) == 1)\n",
    "\n",
    "# 2. Volver al depósito una vez\n",
    "model.constraint_enter_depot = Constraint(expr=sum(model.X[i, depot] for i in model.N_inspect if (i, depot) in model.E) == 1)\n",
    "\n",
    "# 3. Entrar a cada localidad de inspección una vez\n",
    "def rule_enter_location(model, j):\n",
    "    return sum(model.X[i, j] for i in model.N if i != j and (i, j) in model.E) == 1\n",
    "model.constraint_enter = Constraint(model.N_inspect, rule=rule_enter_location)\n",
    "\n",
    "# 4. Salir de cada localidad de inspección una vez\n",
    "def rule_leave_location(model, i):\n",
    "    return sum(model.X[i, j] for j in model.N if i != j and (i, j) in model.E) == 1\n",
    "model.constraint_leave = Constraint(model.N_inspect, rule=rule_leave_location)\n",
    "\n",
    "# 5. Restricciones MTZ para eliminación de subtours\n",
    "def rule_mtz(model, i, j):\n",
    "    if i == j:\n",
    "        return Constraint.Skip\n",
    "\n",
    "    if (i, j) in model.E:\n",
    "        n_total_nodes = len(model.N)\n",
    "        return model.u[i] - model.u[j] + (n_total_nodes - 1) * model.X[i, j] <= (n_total_nodes - 2)\n",
    "    else:\n",
    "        return Constraint.Feasible\n",
    "model.constraint_mtz = Constraint(model.N_inspect, model.N_inspect, rule=rule_mtz)"
   ]
  },
  {
   "cell_type": "markdown",
   "id": "00b96a4c-c8af-45d8-92ea-487f7a105c2a",
   "metadata": {},
   "source": [
    "Recordemos que se deben normalizar las ecuaciones dado que se encuentran en diferentes escalas y unidades. Notemos que para cada objetivo debemos hallar $f_{min}, f_{max}$ para realizar una normalización de $[0, 1]$. Para realizar esto podemos minimizar y máximizar cada uno de los objetivos para hallar los minimos y los maximos en la región de factibilidad. "
   ]
  },
  {
   "cell_type": "code",
   "execution_count": 20,
   "id": "77b60edd-5580-4f5a-bc10-77e83ac810bb",
   "metadata": {},
   "outputs": [],
   "source": [
    "# Z1: Minimizar Distancia Total\n",
    "def z1_rule(model):\n",
    "    return sum(model.X[i, j] * model.d[i, j] for i, j in model.E)\n",
    "model.Z1_expr = Expression(rule=z1_rule)\n",
    "\n",
    "# Z2: Maximizar Calidad ponderada por Distancia \n",
    "def z2_rule(model):\n",
    "    return sum(model.X[i, j] * (model.n[i] if i in model.N_inspect else 0.0) * model.d[i, j] for i, j in model.E)\n",
    "model.Z2_expr = Expression(rule=z2_rule)\n",
    "\n",
    "# Z3: Minimizar Riesgo Total\n",
    "def z3_rule(model):\n",
    "    return sum(model.X[i, j] * model.r[i, j] for i, j in model.E)\n",
    "model.Z3_expr = Expression(rule=z3_rule)\n",
    "\n",
    "solver = SolverFactory(\"glpk\")\n",
    "optimization_results = {}\n",
    "\n",
    "def solve_and_store(model, objective_expr, sense, result_key):\n",
    "    objective_name = 'active_objective'\n",
    "\n",
    "    if hasattr(model, objective_name):\n",
    "        model.del_component(objective_name)\n",
    "\n",
    "    model.add_component(objective_name, Objective(expr=objective_expr, sense=sense))\n",
    "    current_objective = getattr(model, objective_name)\n",
    "    results = solver.solve(model)\n",
    "\n",
    "    if results.solver.termination_condition == TerminationCondition.optimal:\n",
    "        obj_value = value(model.active_objective)\n",
    "        optimization_results[result_key] = obj_value"
   ]
  },
  {
   "cell_type": "code",
   "execution_count": 21,
   "id": "1c75a579-4010-4a6d-89eb-5233624f4aa1",
   "metadata": {},
   "outputs": [
    {
     "name": "stdout",
     "output_type": "stream",
     "text": [
      "### Resumen de Valores Min/Max para Normalización ###\n",
      "Z1 Distancia:\tmin=15.0000, \tmax=34.0000\n",
      "Z2 Calidad:\tmin=1016.0000, \tmax=2774.0000\n",
      "Z3 Riesgo:\tmin=47.0000, \tmax=59.0000\n"
     ]
    }
   ],
   "source": [
    "for i, expr in enumerate([model.Z1_expr, model.Z2_expr, model.Z3_expr]):\n",
    "    for sense in ['min', 'max']:\n",
    "        solve_and_store(model, expr, minimize if sense == 'min' else maximize, f'f{i+1}_{sense}') \n",
    "\n",
    "# Desactivar el último objetivo activo\n",
    "if hasattr(model, 'active_objective'):\n",
    "    model.active_objective.deactivate()\n",
    "\n",
    "# --- Mostrar Resultados ---\n",
    "print(\"### Resumen de Valores Min/Max para Normalización ###\")\n",
    "print(f\"Z1 Distancia:\\tmin={optimization_results.get('f1_min'):.4f}, \\tmax={optimization_results.get('f1_max'):.4f}\")\n",
    "print(f\"Z2 Calidad:\\tmin={optimization_results.get('f2_min'):.4f}, \\tmax={optimization_results.get('f2_max'):.4f}\")\n",
    "print(f\"Z3 Riesgo:\\tmin={optimization_results.get('f3_min'):.4f}, \\tmax={optimization_results.get('f3_max'):.4f}\")"
   ]
  },
  {
   "cell_type": "markdown",
   "id": "ba874ea6-cc6a-4540-bc4d-2e7a4ba2a673",
   "metadata": {},
   "source": [
    "Es necesario hacer combinaciones y asignar pesos a los diferentes objetivos con el fin de conseguir varios puntos para luego hallar el frente de pareto. "
   ]
  },
  {
   "cell_type": "code",
   "execution_count": 22,
   "id": "1ec22aae-3589-4750-ab28-2df0ca2ac2e5",
   "metadata": {},
   "outputs": [
    {
     "name": "stdout",
     "output_type": "stream",
     "text": [
      "Generadas 108 combinaciones de pesos únicas.\n"
     ]
    }
   ],
   "source": [
    "num_steps = 10\n",
    "list_of_weights = []\n",
    "tolerance = 1e-9\n",
    "\n",
    "for i in np.linspace(0, 1, num_steps + 1):\n",
    "    for j in np.linspace(0, 1 - i + tolerance, num_steps + 1):\n",
    "        if i + j <= 1.0 + tolerance:\n",
    "            k = 1.0 - i - j\n",
    "            if k >= 0 - tolerance:\n",
    "                w1 = round(i, 4)\n",
    "                w2 = round(j, 4)\n",
    "                w3 = round(k, 4)\n",
    "\n",
    "                if abs(w1 + w2 + w3 - 1.0) < tolerance:\n",
    "                    list_of_weights.append({'Z1': w1, 'Z2': w2, 'Z3': w3})\n",
    "\n",
    "unique_weights_tuples = {tuple(sorted(d.items())) for d in list_of_weights}\n",
    "unique_weights = [dict(t) for t in unique_weights_tuples]\n",
    "\n",
    "print(f\"Generadas {len(unique_weights)} combinaciones de pesos únicas.\")\n",
    "\n",
    "f1_min = optimization_results.get('f1_min')\n",
    "f1_max = optimization_results.get('f1_max')\n",
    "f2_min = optimization_results.get('f2_min')\n",
    "f2_max = optimization_results.get('f2_max')\n",
    "f3_min = optimization_results.get('f3_min')\n",
    "f3_max = optimization_results.get('f3_max')\n",
    "\n",
    "required_values = [f1_min, f1_max, f2_min, f2_max, f3_min, f3_max]\n",
    "\n",
    "den1 = f1_max - f1_min if (f1_max - f1_min) != 0 else 1.0\n",
    "den2 = f2_max - f2_min if (f2_max - f2_min) != 0 else 1.0\n",
    "den3 = f3_max - f3_min if (f3_max - f3_min) != 0 else 1.0\n",
    "\n",
    "param_names = ['w1', 'w2', 'w3']\n",
    "initial_weight_values = [0.0, 0.0, 0.0]\n",
    "\n",
    "for name, initial_val in zip(param_names, initial_weight_values):\n",
    "    if not hasattr(model, name):\n",
    "        setattr(model, name, Param(initialize=initial_val, mutable=True))\n",
    "    else:\n",
    "        param_component = getattr(model, name)\n",
    "        if not isinstance(param_component, Param) or not param_component.is_indexed():\n",
    "             param_component.set_value(initial_val)\n",
    "             param_component.mutable = True"
   ]
  },
  {
   "cell_type": "code",
   "execution_count": 24,
   "id": "4ab8073b-61ba-408c-9e6d-01be78b48b89",
   "metadata": {},
   "outputs": [
    {
     "name": "stdout",
     "output_type": "stream",
     "text": [
      "DataFrame con Puntos del Frente de Pareto:\n",
      "    Z1_Distance  Z2_Quality  Z3_Risk\n",
      "0          32.0      2689.0     47.0\n",
      "2          15.0      1213.0     47.0\n",
      "3          34.0      2774.0     52.0\n",
      "12         34.0      2770.0     50.0\n",
      "24         15.0      1195.0     51.0\n",
      "39         32.0      2689.0     49.0\n",
      "45         31.0      2619.0     47.0\n",
      "62         20.0      1698.0     47.0\n",
      "72         28.0      2384.0     47.0\n",
      "77         21.0      1788.0     47.0\n",
      "98         21.0      1708.0     47.0\n"
     ]
    }
   ],
   "source": [
    "def weighted_sum_rule_mutable(model):\n",
    "    # Normalizar Z1 (minimizar)\n",
    "    norm_Z1 = (model.Z1_expr - f1_min) / den1 if den1 != 1.0 else 0.0\n",
    "    # Normalizar Z2 (maximizar)\n",
    "    norm_Z2 = (f2_max - model.Z2_expr) / den2 if den2 != 1.0 else 0.0\n",
    "    # Normalizar Z3 (minimizar)\n",
    "    norm_Z3 = (model.Z3_expr - f3_min) / den3 if den3 != 1.0 else 0.0\n",
    "\n",
    "    # Usar los parámetros mutables del modelo\n",
    "    return model.w1 * norm_Z1 + model.w2 * norm_Z2 + model.w3 * norm_Z3\n",
    "\n",
    "objective_name = 'ws_objective_mutable'\n",
    "\n",
    "if hasattr(model, 'active_objective'): model.del_component(model.active_objective)\n",
    "if hasattr(model, 'weighted_sum_objective'): model.del_component(model.weighted_sum_objective)\n",
    "if hasattr(model, objective_name): model.del_component(objective_name)\n",
    "\n",
    "model.add_component(objective_name, Objective(rule=weighted_sum_rule_mutable, sense=minimize))\n",
    "\n",
    "pareto_points = []\n",
    "\n",
    "for idx, current_weights in enumerate(unique_weights):\n",
    "    model.w1.set_value(current_weights['Z1'])\n",
    "    model.w2.set_value(current_weights['Z2'])\n",
    "    model.w3.set_value(current_weights['Z3'])\n",
    "\n",
    "    solver_results = solver.solve(model, tee=False)\n",
    "\n",
    "    if solver_results.solver.termination_condition == TerminationCondition.optimal:\n",
    "        z1_val = value(model.Z1_expr)\n",
    "        z2_val = value(model.Z2_expr)\n",
    "        z3_val = value(model.Z3_expr)\n",
    "        pareto_points.append({\n",
    "            'w1': current_weights['Z1'],\n",
    "            'w2': current_weights['Z2'],\n",
    "            'w3': current_weights['Z3'],\n",
    "            'Z1_Distance': z1_val,\n",
    "            'Z2_Quality': z2_val,\n",
    "            'Z3_Risk': z3_val\n",
    "        })\n",
    "        \n",
    "pareto_df = pd.DataFrame(pareto_points)\n",
    "pareto_df_unique_objectives = pareto_df.drop_duplicates(subset=['Z1_Distance', 'Z2_Quality', 'Z3_Risk'])\n",
    "\n",
    "print(\"DataFrame con Puntos del Frente de Pareto:\")\n",
    "print(pareto_df_unique_objectives[['Z1_Distance', 'Z2_Quality', 'Z3_Risk']].round(2))"
   ]
  },
  {
   "cell_type": "code",
   "execution_count": 26,
   "id": "e8d8d58c-111f-40f7-a18e-5438d03ec9fa",
   "metadata": {},
   "outputs": [
    {
     "data": {
      "image/png": "[encoded data removed]",
      "text/plain": [
       "<Figure size 400x900 with 3 Axes>"
      ]
     },
     "metadata": {},
     "output_type": "display_data"
    }
   ],
   "source": [
    "fig, ax = plt.subplots(3, 1, figsize=(4, 9), tight_layout=True)\n",
    "\n",
    "x1_data = pareto_df_unique_objectives['Z1_Distance']\n",
    "y1_data = pareto_df_unique_objectives['Z2_Quality']\n",
    "\n",
    "ax[0].scatter(x1_data, y1_data, c='blue', label='Puntos Pareto')\n",
    "ax[0].set_title('Proyección Frente Pareto: Distancia vs Calidad')\n",
    "ax[0].set_xlabel('Z1 Distancia (Minimizar)')\n",
    "ax[0].set_ylabel('Z2 Calidad (Maximizar)')\n",
    "ax[0].grid(True, linestyle='--', alpha=0.6)\n",
    "ax[0].legend()\n",
    "\n",
    "x2_data = pareto_df_unique_objectives['Z1_Distance']\n",
    "y2_data = pareto_df_unique_objectives['Z3_Risk']\n",
    "\n",
    "ax[1].scatter(x2_data, y2_data, c='red', label='Puntos Pareto')\n",
    "ax[1].set_title('Proyección Frente Pareto: Distancia vs Riesgo')\n",
    "ax[1].set_xlabel('Z1 Distancia (Minimizar)')\n",
    "ax[1].set_ylabel('Z3 Riesgo (Minimizar)')\n",
    "ax[1].grid(True, linestyle='--', alpha=0.6)\n",
    "ax[1].legend()\n",
    "\n",
    "ax[2].scatter(y2_data, y1_data, c='green', label='Puntos Pareto')\n",
    "ax[2].set_title('Proyección Frente Pareto: Riesgo vs Calidad')\n",
    "ax[2].set_xlabel('Z3 Riesgo (Minimizar)')\n",
    "ax[2].set_ylabel('Z2 Calidad (Maximizar)')\n",
    "ax[2].grid(True, linestyle='--', alpha=0.6)\n",
    "ax[2].legend()\n",
    "\n",
    "plt.show()"
   ]
  },
  {
   "cell_type": "markdown",
   "id": "5057a3db-82f4-42b5-91a1-ce772c0802fe",
   "metadata": {},
   "source": [
    "En la gráfica 1 se puede ver que a medida que se disminuye la distancia (mejora) se disminuye la calidad de la inspección (empeora). Esto indica que no se puede obtener una ruta más corta y de mejor calidad sinultáneamente. Los puntos intermedios de $20 < Z1 < 25$ parecen ofrecer un balance, mejoran la calidad respecto al mínimo pero sin alargar excesivamente la distancia. \n",
    "\n",
    "Mientras que en la gráfica 2, se puede ver como a medida que la distancia disminuye (mejora) el riesgo en la ruta también **tiende** a disminuir (mejora). Los puntos con mayor distancia tienden a tener mayor riesgo. En este caso parece haber menos conflicto  entre minimizar la distancia y minimizar el riesgo, al menos para las soluciones que se encontraron. Dada la ubicación de algunos puntos no hay un conflicto fuerte inverso, sí existe una compensación: no se puede garantizar el mínimo absoluto de ambos simultáneamente, pero minimizar uno parece ayudar a mantener bajo el otro. \n",
    "\n",
    "Por otro lado, la gráfica 3 se observa una tendencia conflictiva, a medida que la calidad aumenta (mejora) el riesgo también lo hace (empeora). Para obtener una alta calidad, se debe aceptar mayor riesgo. Lo cual indica que hay una compensación clara entre minimizar riesgo y maximizar calidad. \n",
    "\n",
    "Finalmente, se puede concluir que existe un conflicto fuerte entre distancia y riesgo contra calidad. Mejorar la calidad implica empeorar la distancia y el riesgo. La relación entre distancia y riesgo parece ser menor conflictiva, las rutas más cortas tienden a ser también las de menor riesgo dentro del conjunto de soluciones óptimas encontradas. "
   ]
  },
  {
   "cell_type": "markdown",
   "id": "f01d43ca-c615-457f-8a07-f0abf3f3ca23",
   "metadata": {},
   "source": [
    "## Análisis y discusión adicional"
   ]
  },
  {
   "cell_type": "markdown",
   "id": "61b1598a-a636-4523-9405-1be1aa4d7012",
   "metadata": {},
   "source": [
    "1. Evalúe cómo afectaría al diseño de la red logística el cambio de importancia relativa entre los objetivos (por ejemplo, si el costo total fuera significativamente más importante que la cobertura o el tiempo de entrega).\n",
    "\n",
    "    **Respuesta.** Modificar la importancia (peso) entre los objetivos (distancia, calidad, riesgo) impacta directamente el diseño de la ruta logística seleccionada del frente de Pareto, reflejando las compensaciones analizadas. Si se prioriza minimizar la distancia, la ruta resultante será corta, de bajo riesgo pero también de baja calidad. Si se da máxima importancia a la calidad, la ruta será más larga y de mayor riesgo. Finalmente, si se prioriza minimizar el riesgo, se obtendrá una ruta de bajo riesgo y relativamente corta, pero sacrificando la calidad de la inspección. Por lo tanto, la asignación de pesos determina las características de la ruta óptima elegida como el mejor compromiso.\n",
    "\n",
    "2. Identifique claramente la solución de compromiso que considera más equilibrada, justificando su elección con base en criterios específicos.\n",
    "\n",
    "    **Respuesta.** Se puede buscar un codo en las gráficas para elegir la solución de compromiso más equilibrada. Este punto ocurre aproximadamente en $Z1 \\approx 20-22$, $Z2\\approx 1750 - 1800$ y $Z3 \\approx 47$ ya que mejora la calidad sin aumentar el riesgo y con un aumento de distancia que parece razonable en comparación con los beneficios obtenidos en los demás objetivos. "
   ]
  }
 ],
 "metadata": {
  "kernelspec": {
   "display_name": "Python 3 (ipykernel)",
   "language": "python",
   "name": "python3"
  },
  "language_info": {
   "codemirror_mode": {
    "name": "ipython",
    "version": 3
   },
   "file_extension": ".py",
   "mimetype": "text/x-python",
   "name": "python",
   "nbconvert_exporter": "python",
   "pygments_lexer": "ipython3",
   "version": "3.9.21"
  }
 },
 "nbformat": 4,
 "nbformat_minor": 5
}

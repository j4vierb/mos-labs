{
 "cells": [
  {
   "cell_type": "markdown",
   "id": "3971ffeb-4f9c-4406-aeb8-f73bb4cd5ddf",
   "metadata": {},
   "source": [
    "# Entrega laboratorio 7\n",
    "## Integrantes \n",
    "\n",
    "- Javier Steven Barrera Toro - 202214779\n",
    "- Julian Santiago Rolon Toloza - 202215839"
   ]
  },
  {
   "cell_type": "code",
   "execution_count": 1,
   "id": "48fbb420-d8f7-404d-a677-049341a03538",
   "metadata": {},
   "outputs": [
    {
     "data": {
      "text/plain": [
       "{'divide': 'warn', 'over': 'warn', 'under': 'ignore', 'invalid': 'warn'}"
      ]
     },
     "execution_count": 1,
     "metadata": {},
     "output_type": "execute_result"
    }
   ],
   "source": [
    "from matplotlib import pyplot as plt\n",
    "from typing import List, Tuple, NewType\n",
    "import numpy as np\n",
    "import pandas as pd\n",
    "import sympy as sp\n",
    "import random\n",
    "import math\n",
    "import copy\n",
    "import tabulate\n",
    "from matplotlib.colors import ListedColormap\n",
    "\n",
    "np.seterr(divide='ignore')"
   ]
  },
  {
   "cell_type": "markdown",
   "id": "0cb5bd6e-5d6d-4d12-aa32-13000dc6d38b",
   "metadata": {},
   "source": [
    "# Fase 1: Modelado de llegadas y salidas\n",
    "\n",
    "## Extracción de tasas de llegada\n",
    "\n",
    "## Modelado de comportamiento por tipo de usuario"
   ]
  },
  {
   "cell_type": "markdown",
   "id": "bb8590d4-e559-4c2b-a425-6934ba98a0ce",
   "metadata": {},
   "source": [
    "# Fase 2: Implementación de la simulación en SimPy\n",
    "## Definir las clases y los recursos\n",
    "## Implementación de procesos\n",
    "## Recopilación de estadísticas"
   ]
  },
  {
   "cell_type": "markdown",
   "id": "592dacdd-4da2-41e7-a207-ce4b3765769d",
   "metadata": {},
   "source": [
    "# Fase 3: Validación y verificación\n",
    "## Comparacón con datos reales\n",
    "## Análisis de sensibilidad"
   ]
  },
  {
   "cell_type": "markdown",
   "id": "856669e8-30bb-4a3b-b9fd-76a66161e8c8",
   "metadata": {},
   "source": [
    "# Fase 4: Experimentación de escenarios\n",
    "## Diseño de experimentos\n",
    "## Ejecución de escenarios"
   ]
  },
  {
   "cell_type": "markdown",
   "id": "ad4f5b3d-1339-4e84-befd-2b098355f940",
   "metadata": {},
   "source": [
    "# Fase 5: Análisis y recomendaciones\n",
    "## Análisis comparativo\n",
    "## Elaboración de recomandaciones"
   ]
  }
 ],
 "metadata": {
  "kernelspec": {
   "display_name": "Python 3 (ipykernel)",
   "language": "python",
   "name": "python3"
  },
  "language_info": {
   "codemirror_mode": {
    "name": "ipython",
    "version": 3
   },
   "file_extension": ".py",
   "mimetype": "text/x-python",
   "name": "python",
   "nbconvert_exporter": "python",
   "pygments_lexer": "ipython3",
   "version": "3.9.21"
  }
 },
 "nbformat": 4,
 "nbformat_minor": 5
}

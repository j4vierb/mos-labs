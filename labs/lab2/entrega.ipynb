{
 "cells": [
  {
   "cell_type": "markdown",
   "id": "a7dabe2c-3c21-4dea-9317-9da29bd91a6c",
   "metadata": {},
   "source": [
    "# Punto 1"
   ]
  },
  {
   "cell_type": "code",
   "execution_count": 238,
   "id": "717b9cf3-37e7-4c56-a99a-467ef23ec164",
   "metadata": {},
   "outputs": [],
   "source": [
    "from pyomo.environ import ConcreteModel, RangeSet, \\\n",
    "    Param, Var, Binary, \\\n",
    "    Objective, maximize, Constraint\n",
    "from matplotlib import pyplot as plt\n",
    "from pyomo.opt import SolverFactory"
   ]
  },
  {
   "cell_type": "markdown",
   "id": "b873af31-0383-4f0f-a7da-242011449a47",
   "metadata": {},
   "source": [
    "## Parte A"
   ]
  },
  {
   "cell_type": "code",
   "execution_count": 239,
   "id": "38754dc3-d05d-4e20-b7cd-a5a035891969",
   "metadata": {},
   "outputs": [],
   "source": [
    "tasks_num = 11\n",
    "max_points = 52\n",
    "\n",
    "model = ConcreteModel()\n",
    "\n",
    "# sets\n",
    "model.T = RangeSet(1, tasks_num) # 1, 2, ..., 11\n",
    "\n",
    "# params\n",
    "ph = [5, 3, 13, 1, 21, 2, 2, 5, 8, 13, 21]\n",
    "priority = [7, 5, 6, 3, 1, 4, 6, 6, 2, 7, 6]\n",
    "dict_ph = {i+1: ph[i] for i in range(tasks_num)}\n",
    "dict_priority = {i+1: priority[i] for i in range(tasks_num)}\n",
    "\n",
    "model.h_points = Param(model.T, initialize=dict_ph)\n",
    "model.priority = Param(model.T, initialize=dict_priority)\n",
    "model.max_points = Param(initialize=max_points)\n",
    "\n",
    "# dec. variable\n",
    "model.X = Var(model.T, within=Binary)"
   ]
  },
  {
   "cell_type": "markdown",
   "id": "3fba1290-793d-4c5c-86ef-ab7aefbf0100",
   "metadata": {},
   "source": [
    "Recordemos del informe que lo que debemos hacer es máximizar la prioridad de las tareas que se asignaron a los programadores.\n",
    "\n",
    "$$ Z = \\max \\sum_{i \\in T} w_i \\times X_i $$"
   ]
  },
  {
   "cell_type": "code",
   "execution_count": 240,
   "id": "4ccb92a1-fe0f-4c2c-908f-2033fd22af35",
   "metadata": {},
   "outputs": [],
   "source": [
    "# obj. function\n",
    "def obj_func(model):\n",
    "    return sum(model.priority[i] * model.X[i] for i in model.T)\n",
    "\n",
    "model.obj = Objective(rule=obj_func, sense=maximize)"
   ]
  },
  {
   "cell_type": "markdown",
   "id": "3f5b2d35-0aec-40f6-b6db-1a6f31829514",
   "metadata": {},
   "source": [
    "Recordemos que hay una restricción sobre los puntos de historias de usuario. En este caso el maximo de punto de las tareas asignadas al equipo son 52 puntos.\n",
    "\n",
    "$$ \\sum_{i \\in T} X_i \\times p_i \\leq H^{*} $$"
   ]
  },
  {
   "cell_type": "code",
   "execution_count": 241,
   "id": "cc95251c-82d5-4e57-97c9-a4f0d4b21aa2",
   "metadata": {},
   "outputs": [],
   "source": [
    "if hasattr(model, \"max_history_points\"):\n",
    "    model.del_component(model.max_history_points)\n",
    "\n",
    "def constraint_max_history_points(model):\n",
    "    return sum(model.X[i] * model.h_points[i] for i in model.T) <= model.max_points\n",
    "\n",
    "model.max_history_points = Constraint(rule=constraint_max_history_points)"
   ]
  },
  {
   "cell_type": "code",
   "execution_count": 242,
   "id": "62bf6600-10df-44ed-8919-5f0c4a1ed58b",
   "metadata": {},
   "outputs": [
    {
     "data": {
      "text/plain": [
       "{'Problem': [{'Name': 'unknown', 'Lower bound': 46.0, 'Upper bound': 46.0, 'Number of objectives': 1, 'Number of constraints': 1, 'Number of variables': 11, 'Number of nonzeros': 11, 'Sense': 'maximize'}], 'Solver': [{'Status': 'ok', 'Termination condition': 'optimal', 'Statistics': {'Branch and bound': {'Number of bounded subproblems': '1', 'Number of created subproblems': '1'}}, 'Error rc': 0, 'Time': 0.03463602066040039}], 'Solution': [OrderedDict([('number of solutions', 0), ('number of solutions displayed', 0)])]}"
      ]
     },
     "execution_count": 242,
     "metadata": {},
     "output_type": "execute_result"
    }
   ],
   "source": [
    "solver = SolverFactory('glpk')\n",
    "solver.solve(model)"
   ]
  },
  {
   "cell_type": "code",
   "execution_count": 244,
   "id": "eaa6f480-2094-48fc-b6ed-70eafec18082",
   "metadata": {},
   "outputs": [
    {
     "name": "stdout",
     "output_type": "stream",
     "text": [
      "La tarea 1 se asigno al equipo de desarrolladores\n",
      "La tarea 2 se asigno al equipo de desarrolladores\n",
      "La tarea 3 se asigno al equipo de desarrolladores\n",
      "La tarea 4 se asigno al equipo de desarrolladores\n",
      "La tarea 6 se asigno al equipo de desarrolladores\n",
      "La tarea 7 se asigno al equipo de desarrolladores\n",
      "La tarea 8 se asigno al equipo de desarrolladores\n",
      "La tarea 9 se asigno al equipo de desarrolladores\n",
      "La tarea 10 se asigno al equipo de desarrolladores\n",
      "\n",
      "El total de puntos de historia utilizados son 52.0\n"
     ]
    }
   ],
   "source": [
    "for i in model.T:\n",
    "    if model.X[i].value == 1:\n",
    "        print(f\"La tarea {i} se asigno al equipo de desarrolladores\")\n",
    "\n",
    "print()\n",
    "total = sum(model.X[i].value * model.h_points[i] for i in model.T)\n",
    "\n",
    "print(f\"El total de puntos de historia utilizados son {total}\")"
   ]
  },
  {
   "cell_type": "markdown",
   "id": "dd9efe56-3419-458d-ab46-0d27fa153bee",
   "metadata": {},
   "source": [
    "# Parte B\n",
    "\n",
    "En esta parte se nos pide modificar el modelo para asignar las tareas a cada desarrollador maximizando la prioridad de la mismas, sujeto a que cada uno tiene un maximo de puntos de historia."
   ]
  },
  {
   "cell_type": "code",
   "execution_count": 245,
   "id": "5492de6e-3197-4079-906b-6912f0eada35",
   "metadata": {},
   "outputs": [],
   "source": [
    "tasks = 11\n",
    "developers = 4\n",
    "max_history_points_per_dev = 13\n",
    "\n",
    "model = ConcreteModel()\n",
    "\n",
    "model.T = RangeSet(1, tasks)\n",
    "model.D = RangeSet(1, developers)\n",
    "\n",
    "# parameters \n",
    "ph = [5, 3, 13, 1, 21, 2, 2, 5, 8, 13, 21]\n",
    "priority = [7, 5, 6, 3, 1, 4, 6, 6, 2, 7, 6]\n",
    "dict_ph = {i+1: ph[i] for i in range(tasks_num)}\n",
    "dict_priority = {i+1: priority[i] for i in range(tasks_num)}\n",
    "\n",
    "model.h_points = Param(model.T, initialize=dict_ph)\n",
    "model.priority = Param(model.T, initialize=dict_priority)\n",
    "model.max_h_points = Param(initialize=max_history_points_per_dev)\n",
    "\n",
    "# decision variable\n",
    "model.X = Var(model.D, model.T, within=Binary)"
   ]
  },
  {
   "cell_type": "markdown",
   "id": "21b4018e-ea57-44c6-9365-c016c00fdb0d",
   "metadata": {},
   "source": [
    "La función objetivo es la siguiente.\n",
    "\n",
    "$$ Z = \\max \\sum_{j \\in D} \\sum_{i \\in T} X_{i, j} \\times w_i $$\n"
   ]
  },
  {
   "cell_type": "code",
   "execution_count": 246,
   "id": "91c97625-aac3-4e22-b567-bd63f46d324c",
   "metadata": {},
   "outputs": [],
   "source": [
    "def obj_func(model):\n",
    "    return sum(model.X[i, j] * model.priority[j] for j in model.T for i in model.D)\n",
    "\n",
    "model.obj = Objective(rule=obj_func, sense=maximize)"
   ]
  },
  {
   "cell_type": "markdown",
   "id": "3076b9e0-ac2d-4239-a70f-14c8f27a4429",
   "metadata": {},
   "source": [
    "Sobre las restricciones tenemos que las tareas asignadas a un desarrollador no pueden exceder el límite de 13 y que una tarea no puede ser asignada a dos desarrolladores.\n",
    "\n",
    "$$\n",
    "\\sum_{j \\in T}  p_j \\times X_{i, j} \\leq d_i, \\forall i \\in D\n",
    "$$\n",
    "\n",
    "$$\n",
    "\\sum_{i \\in D}  X_{i, j} \\leq 1, \\forall j \\in T\n",
    "$$"
   ]
  },
  {
   "cell_type": "code",
   "execution_count": 247,
   "id": "435fdd9f-8222-4911-874f-a0d6d64f5d9a",
   "metadata": {},
   "outputs": [],
   "source": [
    "def max_history_points_per_dev_constr(model, i):\n",
    "    return sum(model.X[i, j] * model.h_points[j] for j in model.T) <= model.max_h_points\n",
    "\n",
    "model.history_points_constr = Constraint(model.D, rule=max_history_points_per_dev_constr)\n",
    "\n",
    "def assign_one_task_per_dev_constr(model, j):\n",
    "    return sum(model.X[i,j] for i in model.D) <= 1\n",
    "\n",
    "model.one_task_constr = Constraint(model.T, rule=assign_one_task_per_dev_constr)"
   ]
  },
  {
   "cell_type": "code",
   "execution_count": 248,
   "id": "b59c4a72-4a48-4259-89d7-693cf3c062d4",
   "metadata": {},
   "outputs": [
    {
     "data": {
      "text/plain": [
       "{'Problem': [{'Name': 'unknown', 'Lower bound': 46.0, 'Upper bound': 46.0, 'Number of objectives': 1, 'Number of constraints': 15, 'Number of variables': 44, 'Number of nonzeros': 88, 'Sense': 'maximize'}], 'Solver': [{'Status': 'ok', 'Termination condition': 'optimal', 'Statistics': {'Branch and bound': {'Number of bounded subproblems': '5', 'Number of created subproblems': '5'}}, 'Error rc': 0, 'Time': 0.04733085632324219}], 'Solution': [OrderedDict([('number of solutions', 0), ('number of solutions displayed', 0)])]}"
      ]
     },
     "execution_count": 248,
     "metadata": {},
     "output_type": "execute_result"
    }
   ],
   "source": [
    "solver = SolverFactory('glpk')\n",
    "solver.solve(model)"
   ]
  },
  {
   "cell_type": "code",
   "execution_count": 249,
   "id": "5fc8f6b2-a559-46d1-b88d-bfbc6824435a",
   "metadata": {},
   "outputs": [
    {
     "name": "stdout",
     "output_type": "stream",
     "text": [
      "Desarrollador 1 tiene tarea 1\n",
      "Desarrollador 1 tiene tarea 2\n",
      "Desarrollador 1 tiene tarea 8\n",
      "Desarrollador 2 tiene tarea 10\n",
      "Desarrollador 3 tiene tarea 3\n",
      "Desarrollador 4 tiene tarea 4\n",
      "Desarrollador 4 tiene tarea 6\n",
      "Desarrollador 4 tiene tarea 7\n",
      "Desarrollador 4 tiene tarea 9\n",
      "\n",
      "Número total de puntos de historia: 52.0\n"
     ]
    }
   ],
   "source": [
    "for i in model.D:\n",
    "    for j in model.T:\n",
    "        if model.X[i, j].value == 1:\n",
    "            print(f\"Desarrollador {i} tiene tarea {j}\")\n",
    "print()\n",
    "\n",
    "total = sum(model.X[i, j].value * model.h_points[j] for j in model.T for i in model.D)\n",
    "print(f\"Número total de puntos de historia: {total}\")"
   ]
  },
  {
   "cell_type": "markdown",
   "id": "64ce041e-0f4b-4442-9e8b-1455d8d0c938",
   "metadata": {},
   "source": [
    "# Punto 3"
   ]
  },
  {
   "cell_type": "markdown",
   "id": "0826d5e0-11ac-4d28-bc69-f6908ad5f238",
   "metadata": {},
   "source": [
    "En este punto se nos pide maximizar el valor de los recursos se llevan en la flota de 3 aviones, respetando volumen y peso maximo que un avión puede transportar."
   ]
  },
  {
   "cell_type": "code",
   "execution_count": 250,
   "id": "71ab2e39-e822-4235-ade7-fe885f3d62b2",
   "metadata": {},
   "outputs": [],
   "source": [
    "flights = 3\n",
    "resources = 5\n",
    "\n",
    "model = ConcreteModel()\n",
    "\n",
    "model.F = RangeSet(1, flights)\n",
    "model.R = RangeSet(1, resources)\n",
    "\n",
    "# constraints\n",
    "# resources\n",
    "resource_weight = [15, 5, 20, 18, 10]\n",
    "resource_volume = [8, 2, 10, 12, 6]\n",
    "resource_value = [50, 100, 120, 60, 40]\n",
    "\n",
    "dict_rw = {i+1: resource_weight[i] for i in range(resources)}\n",
    "dict_rv = {i+1: resource_volume[i] for i in range(resources)}\n",
    "dict_rval = {i+1: resource_value[i] for i in range(resources)}\n",
    "\n",
    "# flights\n",
    "flight_wcapacity = [30, 40, 50]\n",
    "flight_vcapacity = [25, 30, 35]\n",
    "\n",
    "dict_fw = {i+1: flight_wcapacity[i] for i in range(flights)} # Weight \n",
    "dict_fv = {i+1: flight_vcapacity[i] for i in range(flights)} # Volume\n",
    "\n",
    "# define constraints in the model\n",
    "model.RW = Param(model.R, initialize=dict_rw)\n",
    "model.RV = Param(model.R, initialize=dict_rv)\n",
    "model.RVal = Param(model.R, initialize=dict_rval)\n",
    "\n",
    "model.FW = Param(model.F, initialize=dict_fw)\n",
    "model.FV = Param(model.F, initialize=dict_fv)\n",
    "\n",
    "# define decision variable\n",
    "model.X = Var(model.F, model.R, within=Binary)"
   ]
  },
  {
   "cell_type": "markdown",
   "id": "f949d7b5-3033-40b8-a3e8-5e73dd459420",
   "metadata": {},
   "source": [
    "La función objetivo es la siguiente:\n",
    "\n",
    "$$\n",
    "    Z = \\max \\sum_{i \\in F} \\sum_{j \\in R} X_{i, j} \\times p_j\n",
    "$$"
   ]
  },
  {
   "cell_type": "code",
   "execution_count": 251,
   "id": "a95fe729-dde6-4e38-ad32-46518350d029",
   "metadata": {},
   "outputs": [],
   "source": [
    "def obj_func(model):\n",
    "    return sum(model.X[i, j] * model.RVal[j] for j in model.R for i in model.F)\n",
    "\n",
    "model.obj = Objective(rule=obj_func, sense=maximize)"
   ]
  },
  {
   "cell_type": "markdown",
   "id": "bc5880ea-192d-4912-a062-db999abefebb",
   "metadata": {},
   "source": [
    "Adicionalmente, tenemos que cumplir con las restricciones de capacidad maxima del avion, volumen y peso."
   ]
  },
  {
   "cell_type": "code",
   "execution_count": 252,
   "id": "8793f136-51fb-4665-91d1-c487a82dc219",
   "metadata": {},
   "outputs": [],
   "source": [
    "def max_weight_constr(model, i):\n",
    "    return sum(model.X[i, j] * model.RW[j] for j in model.R) <= model.FW[i]\n",
    "\n",
    "model.max_weight = Constraint(model.F, rule=max_weight_constr)\n",
    "\n",
    "def max_volume_constr(model, i):\n",
    "    return sum(model.X[i, j] * model.RV[j] for j in model.R) <= model.FV[i]\n",
    "\n",
    "model.max_volumen = Constraint(model.F, rule=max_volume_constr)"
   ]
  },
  {
   "cell_type": "markdown",
   "id": "70445a37-39c6-4feb-959d-eddb87c9313e",
   "metadata": {},
   "source": [
    "Además, solo podemos enviar un recurso entre toda la flota. Es decir, no se van a mandar 2 instancias de alimentos básicos."
   ]
  },
  {
   "cell_type": "code",
   "execution_count": 253,
   "id": "ed27c828-bd53-402f-b43b-a86b976fac23",
   "metadata": {},
   "outputs": [],
   "source": [
    "def one_resource_constr(model, j):\n",
    "    return sum(model.X[i, j] for i in model.F) <= 1\n",
    "\n",
    "model.one_resource = Constraint(model.R, rule=one_resource_constr)"
   ]
  },
  {
   "cell_type": "markdown",
   "id": "e60eeedb-f500-49ae-a1ce-3effb80c81b2",
   "metadata": {},
   "source": [
    "Finalmente, contamos con otras dos restricciones. La primera nos dice que las medicinas no van en el avión 1. La segunda es que el agua no puede ir en el mismo avión que los equipos medicos."
   ]
  },
  {
   "cell_type": "code",
   "execution_count": 254,
   "id": "d21234a3-033e-4c16-8b9e-a36459453ee9",
   "metadata": {},
   "outputs": [],
   "source": [
    "def resources_constr(model, i):\n",
    "    return model.X[i, 3] + model.X[i, 4] <= 1\n",
    "model.resources_constr = Constraint(model.F, rule=resources_constr)\n",
    "\n",
    "model.exclusion_constraint = Constraint(expr=model.X[1,2] == 0)"
   ]
  },
  {
   "cell_type": "code",
   "execution_count": 255,
   "id": "8be9797b-c808-479c-841f-5dad38711ef9",
   "metadata": {},
   "outputs": [
    {
     "data": {
      "text/plain": [
       "{'Problem': [{'Name': 'unknown', 'Lower bound': 370.0, 'Upper bound': 370.0, 'Number of objectives': 1, 'Number of constraints': 15, 'Number of variables': 15, 'Number of nonzeros': 52, 'Sense': 'maximize'}], 'Solver': [{'Status': 'ok', 'Termination condition': 'optimal', 'Statistics': {'Branch and bound': {'Number of bounded subproblems': '3', 'Number of created subproblems': '3'}}, 'Error rc': 0, 'Time': 0.04981565475463867}], 'Solution': [OrderedDict([('number of solutions', 0), ('number of solutions displayed', 0)])]}"
      ]
     },
     "execution_count": 255,
     "metadata": {},
     "output_type": "execute_result"
    }
   ],
   "source": [
    "solver = SolverFactory('glpk')\n",
    "solver.solve(model)"
   ]
  },
  {
   "cell_type": "code",
   "execution_count": 258,
   "id": "8399acf1-aa86-45f7-b57b-5e6fdd7986a8",
   "metadata": {},
   "outputs": [
    {
     "name": "stdout",
     "output_type": "stream",
     "text": [
      "El avion 1 lleva el recurso 1\n",
      "El avion 2 lleva el recurso 2\n",
      "El avion 2 lleva el recurso 3\n",
      "El avion 2 lleva el recurso 5\n",
      "El avion 3 lleva el recurso 4\n",
      "\n",
      "El valor total de los recursos que llevo es 370.0\n"
     ]
    }
   ],
   "source": [
    "for i in model.F:\n",
    "    for j in model.R:\n",
    "        if model.X[i, j].value == 1:\n",
    "            print(f\"El avion {i} lleva el recurso {j}\")\n",
    "print()\n",
    "\n",
    "total = sum(model.X[i, j].value * model.RVal[j] for j in model.R for i in model.F)\n",
    "print(f\"El valor total de los recursos que llevo es {total}\")"
   ]
  }
 ],
 "metadata": {
  "kernelspec": {
   "display_name": "Python 3 (ipykernel)",
   "language": "python",
   "name": "python3"
  },
  "language_info": {
   "codemirror_mode": {
    "name": "ipython",
    "version": 3
   },
   "file_extension": ".py",
   "mimetype": "text/x-python",
   "name": "python",
   "nbconvert_exporter": "python",
   "pygments_lexer": "ipython3",
   "version": "3.9.21"
  }
 },
 "nbformat": 4,
 "nbformat_minor": 5
}

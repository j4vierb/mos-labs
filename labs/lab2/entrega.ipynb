{
 "cells": [
  {
   "cell_type": "markdown",
   "id": "42df0949-928f-4bad-9020-681ba7601bd2",
   "metadata": {},
   "source": [
    "# Generalidades\n",
    "\n",
    "En el siguiente documento se encuentran las implementaciones del laboratorio pasado. Se incluye el mismo problema que se identifico en el informe, los parámetros, las variables, el modelo y las restricciones.\n",
    "\n",
    "## Miembros\n",
    "- Javier Barrera - 2022164779\n",
    "- Julian Rolon - 20221****"
   ]
  },
  {
   "cell_type": "code",
   "execution_count": 2,
   "id": "076ee569-64a2-4576-94c3-4e205b7a32ad",
   "metadata": {},
   "outputs": [],
   "source": [
    "from pyomo.environ import ConcreteModel, RangeSet, \\\n",
    "    Param, Var, Binary, \\\n",
    "    Objective, maximize, Constraint\n",
    "from matplotlib import pyplot as plt\n",
    "from pyomo.opt import SolverFactory"
   ]
  },
  {
   "cell_type": "markdown",
   "id": "a7dabe2c-3c21-4dea-9317-9da29bd91a6c",
   "metadata": {
    "jp-MarkdownHeadingCollapsed": true
   },
   "source": [
    "# Punto 1"
   ]
  },
  {
   "cell_type": "markdown",
   "id": "b873af31-0383-4f0f-a7da-242011449a47",
   "metadata": {
    "jp-MarkdownHeadingCollapsed": true
   },
   "source": [
    "## Parte A"
   ]
  },
  {
   "cell_type": "markdown",
   "id": "a9927976-36e7-4c37-aa78-e1acbf3971e3",
   "metadata": {},
   "source": [
    "### Problema\n",
    "El problema del SCRUM master es asignar las tareas a un equipo de desarrolladores maximizando la prioridad de las mismas teniendo en cuenta que el equipo\n",
    "puede desarrollar un máximo de 52 puntos de historia. Para dar un poco más de contexto,\n",
    "se nos propone que las tareas tienen una prioridad y unos puntos de historia, que entre\n",
    "mayor sea el número mayor será el esfuerzo requerido para finalizar una."
   ]
  },
  {
   "cell_type": "markdown",
   "id": "c6ede81a-abef-4ded-a4d0-4a40d2816ed6",
   "metadata": {},
   "source": [
    "### Parámetros del modelo\n",
    "\n",
    "Definamos las tareas como $T = T_1, T_2, \\dots, T_{11}$. Además, cada $i \\in T$ tarea tiene asignada unos puntos de historia $p_i$ y una prioridad $w_i$. Adicionalmente definamos $H^{*}$ como el número máximo de puntos de historia que va a desarrollar el equipo durante el sprint. En este punto surge una tarea adicional, la prioridad es una variable categoría, debemos representar esto de alguna manera en el modelo. Lo más sencillo que se puede realizar es ordenar de menor a mayor las prioridades y asignarles un número entero de $0$ a $k$, siendo $k$ la mayor prioridad.\n",
    "\n",
    "### Variable de decisión\n",
    "\n",
    "En cuanto a la variable de decisión tenemos que será $X$, un arreglo uní dimensional binario que tiene el mismo tamaño que el número de tareas. Este arreglo tendrá entradas con $1$ o $0$, dependiendo si se asigno la tarea al equipo o no."
   ]
  },
  {
   "cell_type": "code",
   "execution_count": 3,
   "id": "38754dc3-d05d-4e20-b7cd-a5a035891969",
   "metadata": {},
   "outputs": [],
   "source": [
    "tasks_num = 11\n",
    "max_points = 52\n",
    "\n",
    "model = ConcreteModel()\n",
    "\n",
    "# sets\n",
    "model.T = RangeSet(1, tasks_num) # 1, 2, ..., 11\n",
    "\n",
    "# params\n",
    "ph = [5, 3, 13, 1, 21, 2, 2, 5, 8, 13, 21]\n",
    "priority = [7, 5, 6, 3, 1, 4, 6, 6, 2, 7, 6]\n",
    "dict_ph = {i+1: ph[i] for i in range(tasks_num)}\n",
    "dict_priority = {i+1: priority[i] for i in range(tasks_num)}\n",
    "\n",
    "model.h_points = Param(model.T, initialize=dict_ph)\n",
    "model.priority = Param(model.T, initialize=dict_priority)\n",
    "model.max_points = Param(initialize=max_points)\n",
    "\n",
    "# dec. variable\n",
    "model.X = Var(model.T, within=Binary)"
   ]
  },
  {
   "cell_type": "markdown",
   "id": "3fba1290-793d-4c5c-86ef-ab7aefbf0100",
   "metadata": {},
   "source": [
    "### Función objetivo\n",
    "Finalmente, la función objetivo es la siguiente:\n",
    "\n",
    "$$ Z = \\max \\sum_{i \\in T} w_i \\times X_i $$"
   ]
  },
  {
   "cell_type": "code",
   "execution_count": 4,
   "id": "4ccb92a1-fe0f-4c2c-908f-2033fd22af35",
   "metadata": {},
   "outputs": [],
   "source": [
    "# obj. function\n",
    "def obj_func(model):\n",
    "    return sum(model.priority[i] * model.X[i] for i in model.T)\n",
    "\n",
    "model.obj = Objective(rule=obj_func, sense=maximize)"
   ]
  },
  {
   "cell_type": "markdown",
   "id": "3f5b2d35-0aec-40f6-b6db-1a6f31829514",
   "metadata": {},
   "source": [
    "### Restricciones\n",
    "\n",
    "Hay una restricción sobre los puntos de historias de usuario. En este caso el maximo de punto de las tareas asignadas al equipo son 52 puntos.\n",
    "\n",
    "$$ \\sum_{i \\in T} X_i \\times p_i \\leq H^{*} $$"
   ]
  },
  {
   "cell_type": "code",
   "execution_count": 5,
   "id": "cc95251c-82d5-4e57-97c9-a4f0d4b21aa2",
   "metadata": {},
   "outputs": [],
   "source": [
    "if hasattr(model, \"max_history_points\"):\n",
    "    model.del_component(model.max_history_points)\n",
    "\n",
    "def constraint_max_history_points(model):\n",
    "    return sum(model.X[i] * model.h_points[i] for i in model.T) <= model.max_points\n",
    "\n",
    "model.max_history_points = Constraint(rule=constraint_max_history_points)"
   ]
  },
  {
   "cell_type": "markdown",
   "id": "36fc6308-9320-4281-8cd7-5260e229d4ed",
   "metadata": {},
   "source": [
    "### Solución del modelo"
   ]
  },
  {
   "cell_type": "code",
   "execution_count": 6,
   "id": "62bf6600-10df-44ed-8919-5f0c4a1ed58b",
   "metadata": {},
   "outputs": [
    {
     "name": "stdout",
     "output_type": "stream",
     "text": [
      "GLPSOL--GLPK LP/MIP Solver 5.0\n",
      "Parameter(s) specified in the command line:\n",
      " --write C:\\Users\\javier\\AppData\\Local\\Temp\\tmpp6qe9k3k.glpk.raw --wglp C:\\Users\\javier\\AppData\\Local\\Temp\\tmpr42utm2f.glpk.glp\n",
      " --cpxlp C:\\Users\\javier\\AppData\\Local\\Temp\\tmpmwxmfo_5.pyomo.lp\n",
      "Reading problem data from 'C:\\Users\\javier\\AppData\\Local\\Temp\\tmpmwxmfo_5.pyomo.lp'...\n",
      "C:\\Users\\javier\\AppData\\Local\\Temp\\tmpmwxmfo_5.pyomo.lp:46: warning: lower bound of variable 'x2' redefined\n",
      "C:\\Users\\javier\\AppData\\Local\\Temp\\tmpmwxmfo_5.pyomo.lp:46: warning: upper bound of variable 'x2' redefined\n",
      "1 row, 11 columns, 11 non-zeros\n",
      "11 integer variables, all of which are binary\n",
      "57 lines were read\n",
      "Writing problem data to 'C:\\Users\\javier\\AppData\\Local\\Temp\\tmpr42utm2f.glpk.glp'...\n",
      "38 lines were written\n",
      "GLPK Integer Optimizer 5.0\n",
      "1 row, 11 columns, 11 non-zeros\n",
      "11 integer variables, all of which are binary\n",
      "Preprocessing...\n",
      "1 row, 11 columns, 11 non-zeros\n",
      "11 integer variables, all of which are binary\n",
      "Scaling...\n",
      " A: min|aij| =  1.000e+00  max|aij| =  2.100e+01  ratio =  2.100e+01\n",
      "GM: min|aij| =  1.000e+00  max|aij| =  1.000e+00  ratio =  1.000e+00\n",
      "EQ: min|aij| =  1.000e+00  max|aij| =  1.000e+00  ratio =  1.000e+00\n",
      "2N: min|aij| =  7.500e-01  max|aij| =  1.313e+00  ratio =  1.750e+00\n",
      "Constructing initial basis...\n",
      "Size of triangular part is 1\n",
      "Solving LP relaxation...\n",
      "GLPK Simplex Optimizer 5.0\n",
      "1 row, 11 columns, 11 non-zeros\n",
      "*     0: obj =  -0.000000000e+00 inf =   0.000e+00 (11)\n",
      "*     9: obj =   4.628571429e+01 inf =   0.000e+00 (0)\n",
      "OPTIMAL LP SOLUTION FOUND\n",
      "Integer optimization begins...\n",
      "Long-step dual simplex will be used\n",
      "+     9: mip =     not found yet <=              +inf        (1; 0)\n",
      "Solution found by heuristic: 44\n",
      "+    10: >>>>>   4.600000000e+01 <=   4.600000000e+01   0.0% (1; 0)\n",
      "+    10: mip =   4.600000000e+01 <=     tree is empty   0.0% (0; 1)\n",
      "INTEGER OPTIMAL SOLUTION FOUND\n",
      "Time used:   0.0 secs\n",
      "Memory used: 0.1 Mb (53237 bytes)\n",
      "Writing MIP solution to 'C:\\Users\\javier\\AppData\\Local\\Temp\\tmpp6qe9k3k.glpk.raw'...\n",
      "21 lines were written\n"
     ]
    },
    {
     "data": {
      "text/plain": [
       "{'Problem': [{'Name': 'unknown', 'Lower bound': 46.0, 'Upper bound': 46.0, 'Number of objectives': 1, 'Number of constraints': 1, 'Number of variables': 11, 'Number of nonzeros': 11, 'Sense': 'maximize'}], 'Solver': [{'Status': 'ok', 'Termination condition': 'optimal', 'Statistics': {'Branch and bound': {'Number of bounded subproblems': '1', 'Number of created subproblems': '1'}}, 'Error rc': 0, 'Time': 0.06544876098632812}], 'Solution': [OrderedDict([('number of solutions', 0), ('number of solutions displayed', 0)])]}"
      ]
     },
     "execution_count": 6,
     "metadata": {},
     "output_type": "execute_result"
    }
   ],
   "source": [
    "solver = SolverFactory('glpk')\n",
    "solver.solve(model, tee=True)"
   ]
  },
  {
   "cell_type": "markdown",
   "id": "deca097c-90b5-4dff-8b1d-cba3ef26378c",
   "metadata": {},
   "source": [
    "### Resultados"
   ]
  },
  {
   "cell_type": "code",
   "execution_count": 7,
   "id": "eaa6f480-2094-48fc-b6ed-70eafec18082",
   "metadata": {},
   "outputs": [
    {
     "name": "stdout",
     "output_type": "stream",
     "text": [
      "La tarea 1 se asigno al equipo de desarrolladores\n",
      "La tarea 2 se asigno al equipo de desarrolladores\n",
      "La tarea 3 se asigno al equipo de desarrolladores\n",
      "La tarea 4 se asigno al equipo de desarrolladores\n",
      "La tarea 6 se asigno al equipo de desarrolladores\n",
      "La tarea 7 se asigno al equipo de desarrolladores\n",
      "La tarea 8 se asigno al equipo de desarrolladores\n",
      "La tarea 9 se asigno al equipo de desarrolladores\n",
      "La tarea 10 se asigno al equipo de desarrolladores\n",
      "\n",
      "El total de puntos de historia utilizados son 52.0\n"
     ]
    }
   ],
   "source": [
    "for i in model.T:\n",
    "    if model.X[i].value == 1:\n",
    "        print(f\"La tarea {i} se asigno al equipo de desarrolladores\")\n",
    "\n",
    "print()\n",
    "total = sum(model.X[i].value * model.h_points[i] for i in model.T)\n",
    "\n",
    "print(f\"El total de puntos de historia utilizados son {total}\")"
   ]
  },
  {
   "cell_type": "markdown",
   "id": "dd9efe56-3419-458d-ab46-0d27fa153bee",
   "metadata": {
    "jp-MarkdownHeadingCollapsed": true
   },
   "source": [
    "## Parte B"
   ]
  },
  {
   "cell_type": "markdown",
   "id": "c89ab3ee-4be7-49ae-b849-8acf214db572",
   "metadata": {},
   "source": [
    "### Problema \n",
    "Dado este nuevo contexto es necesario cambiar inicialmente el problema que se quiere realizar. En este caso será \\textbf{maximizar} la prioridad de las tareas que se le asigna a cada desarrollador sin exceder un límite de 13 puntos de historia. Continuamos con las suposiciones que anteriormente se plantearon, solo que ahora no se va a tratar al equipo como 1 y las tareas no se pueden repartir entre dos o más desarrolladores."
   ]
  },
  {
   "cell_type": "markdown",
   "id": "b9c5f0a6-7a0c-4afe-abf4-30d8f66816e2",
   "metadata": {},
   "source": [
    "### Parámetros y variable de decisión\n",
    "También es necesario hacer cambios a los parámetros y la variable de decisión. Sobre los parámetros se redefinirá $H^{*}$ como el máximo de punto de historia que puede realizar cada uno de los desarrollador, igual para todos. Adicionalmente, se añadirán los desarrolladores $D = D_1, D_2, D_3, D_4$. Combinando los dos parámetros anteriores cada $j \\in D$ desarrollador tiene cómo máximo de puntos de historia $H^{*}$. La variable de decisión ahora será una matriz binaria de tamaño número de desarrolladores por número de tareas. Sí la entrada $X_{i,j}$ es $1$ entonces el programador $i$ toma la tarea $j$, de lo contrario no la toma. "
   ]
  },
  {
   "cell_type": "code",
   "execution_count": 9,
   "id": "5492de6e-3197-4079-906b-6912f0eada35",
   "metadata": {},
   "outputs": [],
   "source": [
    "tasks = 11\n",
    "developers = 4\n",
    "max_history_points_per_dev = 13\n",
    "\n",
    "model = ConcreteModel()\n",
    "\n",
    "model.T = RangeSet(1, tasks)\n",
    "model.D = RangeSet(1, developers)\n",
    "\n",
    "# parameters \n",
    "ph = [5, 3, 13, 1, 21, 2, 2, 5, 8, 13, 21]\n",
    "priority = [7, 5, 6, 3, 1, 4, 6, 6, 2, 7, 6]\n",
    "dict_ph = {i+1: ph[i] for i in range(tasks_num)}\n",
    "dict_priority = {i+1: priority[i] for i in range(tasks_num)}\n",
    "\n",
    "model.h_points = Param(model.T, initialize=dict_ph)\n",
    "model.priority = Param(model.T, initialize=dict_priority)\n",
    "model.max_h_points = Param(initialize=max_history_points_per_dev)\n",
    "\n",
    "# decision variable\n",
    "model.X = Var(model.D, model.T, within=Binary)"
   ]
  },
  {
   "cell_type": "markdown",
   "id": "c966a029-3839-4119-aea4-b0157eb69ca7",
   "metadata": {},
   "source": [
    "### Función objetivo\n",
    "En cuanto a la función objetivo y las restricciones tenemos los siguiente. Para cada $j$ programador quiero **maximizar** la prioridad de las tareas que le asigno. \n",
    "\n",
    "$$\n",
    "Z^{*} = \\max \\sum_{j\\in D} \\sum_{i \\in T} X_{i,j} \\times w_i\n",
    "$$"
   ]
  },
  {
   "cell_type": "code",
   "execution_count": 10,
   "id": "91c97625-aac3-4e22-b567-bd63f46d324c",
   "metadata": {},
   "outputs": [],
   "source": [
    "def obj_func(model):\n",
    "    return sum(model.X[i, j] * model.priority[j] for j in model.T for i in model.D)\n",
    "\n",
    "model.obj = Objective(rule=obj_func, sense=maximize)"
   ]
  },
  {
   "cell_type": "markdown",
   "id": "3076b9e0-ac2d-4239-a70f-14c8f27a4429",
   "metadata": {},
   "source": [
    "### Restricciones\n",
    "\n",
    "Para todo $j \\in D$ desarrollador existe un máximo de puntos de historia $H^{*}$.\n",
    "$$\n",
    "    \\sum_{i \\in T} X_{i,j} \\times p_i \\leq H^{*}, \\forall j \\in D\n",
    "$$\n",
    "\n",
    "Adicionalmente, toda $i \\in T$ tarea solo puede ser asignada a un desarrollador. Por ejemplo, la tarea 1 no va a estar asignada al desarrollador 1 y al desarrollador 2, solo a uno de ellos.\n",
    "\n",
    "$$\n",
    "    \\sum_{j \\in D} X_{i,j} \\leq 1, \\forall i \\in T\n",
    "$$"
   ]
  },
  {
   "cell_type": "code",
   "execution_count": 11,
   "id": "435fdd9f-8222-4911-874f-a0d6d64f5d9a",
   "metadata": {},
   "outputs": [],
   "source": [
    "def max_history_points_per_dev_constr(model, i):\n",
    "    return sum(model.X[i, j] * model.h_points[j] for j in model.T) <= model.max_h_points\n",
    "\n",
    "model.history_points_constr = Constraint(model.D, rule=max_history_points_per_dev_constr)\n",
    "\n",
    "def assign_one_task_per_dev_constr(model, j):\n",
    "    return sum(model.X[i,j] for i in model.D) <= 1\n",
    "\n",
    "model.one_task_constr = Constraint(model.T, rule=assign_one_task_per_dev_constr)"
   ]
  },
  {
   "cell_type": "markdown",
   "id": "23a512fb-4565-460c-8a9f-ae9202de2f5d",
   "metadata": {},
   "source": [
    "### Solución del modelo"
   ]
  },
  {
   "cell_type": "code",
   "execution_count": 12,
   "id": "b59c4a72-4a48-4259-89d7-693cf3c062d4",
   "metadata": {},
   "outputs": [
    {
     "name": "stdout",
     "output_type": "stream",
     "text": [
      "GLPSOL--GLPK LP/MIP Solver 5.0\n",
      "Parameter(s) specified in the command line:\n",
      " --write C:\\Users\\javier\\AppData\\Local\\Temp\\tmpty_wd40o.glpk.raw --wglp C:\\Users\\javier\\AppData\\Local\\Temp\\tmpn_ijmyao.glpk.glp\n",
      " --cpxlp C:\\Users\\javier\\AppData\\Local\\Temp\\tmpqe54lamw.pyomo.lp\n",
      "Reading problem data from 'C:\\Users\\javier\\AppData\\Local\\Temp\\tmpqe54lamw.pyomo.lp'...\n",
      "C:\\Users\\javier\\AppData\\Local\\Temp\\tmpqe54lamw.pyomo.lp:231: warning: lower bound of variable 'x2' redefined\n",
      "C:\\Users\\javier\\AppData\\Local\\Temp\\tmpqe54lamw.pyomo.lp:231: warning: upper bound of variable 'x2' redefined\n",
      "15 rows, 44 columns, 88 non-zeros\n",
      "44 integer variables, all of which are binary\n",
      "275 lines were read\n",
      "Writing problem data to 'C:\\Users\\javier\\AppData\\Local\\Temp\\tmpn_ijmyao.glpk.glp'...\n",
      "209 lines were written\n",
      "GLPK Integer Optimizer 5.0\n",
      "15 rows, 44 columns, 88 non-zeros\n",
      "44 integer variables, all of which are binary\n",
      "Preprocessing...\n",
      "13 rows, 36 columns, 72 non-zeros\n",
      "36 integer variables, all of which are binary\n",
      "Scaling...\n",
      " A: min|aij| =  1.000e+00  max|aij| =  1.300e+01  ratio =  1.300e+01\n",
      "GM: min|aij| =  9.607e-01  max|aij| =  1.041e+00  ratio =  1.083e+00\n",
      "EQ: min|aij| =  9.230e-01  max|aij| =  1.000e+00  ratio =  1.083e+00\n",
      "2N: min|aij| =  5.000e-01  max|aij| =  1.000e+00  ratio =  2.000e+00\n",
      "Constructing initial basis...\n",
      "Size of triangular part is 13\n",
      "Solving LP relaxation...\n",
      "GLPK Simplex Optimizer 5.0\n",
      "13 rows, 36 columns, 72 non-zeros\n",
      "*     0: obj =  -0.000000000e+00 inf =   0.000e+00 (36)\n",
      "*    19: obj =   4.600000000e+01 inf =   0.000e+00 (0)\n",
      "OPTIMAL LP SOLUTION FOUND\n",
      "Integer optimization begins...\n",
      "Long-step dual simplex will be used\n",
      "+    19: mip =     not found yet <=              +inf        (1; 0)\n",
      "+    25: >>>>>   4.600000000e+01 <=   4.600000000e+01   0.0% (3; 0)\n",
      "+    25: mip =   4.600000000e+01 <=     tree is empty   0.0% (0; 5)\n",
      "INTEGER OPTIMAL SOLUTION FOUND\n",
      "Time used:   0.0 secs\n",
      "Memory used: 0.1 Mb (91972 bytes)\n",
      "Writing MIP solution to 'C:\\Users\\javier\\AppData\\Local\\Temp\\tmpty_wd40o.glpk.raw'...\n",
      "68 lines were written\n"
     ]
    },
    {
     "data": {
      "text/plain": [
       "{'Problem': [{'Name': 'unknown', 'Lower bound': 46.0, 'Upper bound': 46.0, 'Number of objectives': 1, 'Number of constraints': 15, 'Number of variables': 44, 'Number of nonzeros': 88, 'Sense': 'maximize'}], 'Solver': [{'Status': 'ok', 'Termination condition': 'optimal', 'Statistics': {'Branch and bound': {'Number of bounded subproblems': '5', 'Number of created subproblems': '5'}}, 'Error rc': 0, 'Time': 0.08473372459411621}], 'Solution': [OrderedDict([('number of solutions', 0), ('number of solutions displayed', 0)])]}"
      ]
     },
     "execution_count": 12,
     "metadata": {},
     "output_type": "execute_result"
    }
   ],
   "source": [
    "solver = SolverFactory('glpk')\n",
    "solver.solve(model, tee=True)"
   ]
  },
  {
   "cell_type": "markdown",
   "id": "b81fbc0e-5838-4961-a902-71b6415c69cd",
   "metadata": {},
   "source": [
    "### Resultados"
   ]
  },
  {
   "cell_type": "code",
   "execution_count": 13,
   "id": "5fc8f6b2-a559-46d1-b88d-bfbc6824435a",
   "metadata": {},
   "outputs": [
    {
     "name": "stdout",
     "output_type": "stream",
     "text": [
      "Desarrollador 1 tiene tarea 1\n",
      "Desarrollador 1 tiene tarea 2\n",
      "Desarrollador 1 tiene tarea 8\n",
      "Desarrollador 2 tiene tarea 10\n",
      "Desarrollador 3 tiene tarea 3\n",
      "Desarrollador 4 tiene tarea 4\n",
      "Desarrollador 4 tiene tarea 6\n",
      "Desarrollador 4 tiene tarea 7\n",
      "Desarrollador 4 tiene tarea 9\n",
      "\n",
      "Número total de puntos de historia: 52.0\n"
     ]
    }
   ],
   "source": [
    "for i in model.D:\n",
    "    for j in model.T:\n",
    "        if model.X[i, j].value == 1:\n",
    "            print(f\"Desarrollador {i} tiene tarea {j}\")\n",
    "print()\n",
    "\n",
    "total = sum(model.X[i, j].value * model.h_points[j] for j in model.T for i in model.D)\n",
    "print(f\"Número total de puntos de historia: {total}\")"
   ]
  },
  {
   "cell_type": "markdown",
   "id": "9dc75bda-1b08-4c49-9c77-f802b5f0ee74",
   "metadata": {
    "jp-MarkdownHeadingCollapsed": true
   },
   "source": [
    "# Punto 2"
   ]
  },
  {
   "cell_type": "markdown",
   "id": "0854234e-1aa2-4b4a-8d8f-55f8242467c8",
   "metadata": {
    "jp-MarkdownHeadingCollapsed": true
   },
   "source": [
    "## Parte A"
   ]
  },
  {
   "cell_type": "markdown",
   "id": "70c476ef-fc82-4ec3-8172-2eaaae2bb9be",
   "metadata": {},
   "source": [
    "## Parte B"
   ]
  },
  {
   "cell_type": "markdown",
   "id": "64ce041e-0f4b-4442-9e8b-1455d8d0c938",
   "metadata": {
    "jp-MarkdownHeadingCollapsed": true
   },
   "source": [
    "# Punto 3"
   ]
  },
  {
   "cell_type": "markdown",
   "id": "0826d5e0-11ac-4d28-bc69-f6908ad5f238",
   "metadata": {
    "jp-MarkdownHeadingCollapsed": true
   },
   "source": [
    "## Problema\n",
    "Lo que nos dice el ejercicio es que hay una flota de 3 aviones que tiene un peso y volumen máximo que puede transportar. También hay una cantidad de recursos que tienen asignado un peso y volumen máximo, además un valor. Lo que se nos pide realizar es **maximizar** el valor de los recursos que se enviarán en la flota de aviones en la misión humanitaria hacia Zambia respetando los limites de volumen y peso de cada avión.\n",
    "\n",
    "## Parámetros\n",
    "Inicialmente tenemos $A = A_1, A_2, A_3$ aviones y $R = R_1, R_2, \\dots, R_5$ recursos. Cada $i \\in A$ avión puede llevar un máximo de peso $w_i$ y un máximo de volumen $v_i$. Adicionalmente, cada $j \\in R$ recurso tiene un peso $w_{j}^{*}$, un volumen $v_{j}^{*}$ y un valor $p_{j}$.\n",
    "\n",
    "## Variable de decisión\n",
    "Para resolver el problema basta con definir una matriz binaria $X$ de tamaño número de aviones por número de recursos. Cada entrada de la matriz tendrá un 1 si el avión lleva el recurso, 0 de lo contrario. Por ejemplo, sí $X_{ij}$ es 1, entonces el avión $i$ lleva el recurso $j$."
   ]
  },
  {
   "cell_type": "code",
   "execution_count": 14,
   "id": "71ab2e39-e822-4235-ade7-fe885f3d62b2",
   "metadata": {},
   "outputs": [],
   "source": [
    "flights = 3\n",
    "resources = 5\n",
    "\n",
    "model = ConcreteModel()\n",
    "\n",
    "model.F = RangeSet(1, flights)\n",
    "model.R = RangeSet(1, resources)\n",
    "\n",
    "# constraints\n",
    "# resources\n",
    "resource_weight = [15, 5, 20, 18, 10]\n",
    "resource_volume = [8, 2, 10, 12, 6]\n",
    "resource_value = [50, 100, 120, 60, 40]\n",
    "\n",
    "dict_rw = {i+1: resource_weight[i] for i in range(resources)}\n",
    "dict_rv = {i+1: resource_volume[i] for i in range(resources)}\n",
    "dict_rval = {i+1: resource_value[i] for i in range(resources)}\n",
    "\n",
    "# flights\n",
    "flight_wcapacity = [30, 40, 50]\n",
    "flight_vcapacity = [25, 30, 35]\n",
    "\n",
    "dict_fw = {i+1: flight_wcapacity[i] for i in range(flights)} # Weight \n",
    "dict_fv = {i+1: flight_vcapacity[i] for i in range(flights)} # Volume\n",
    "\n",
    "# define constraints in the model\n",
    "model.RW = Param(model.R, initialize=dict_rw)\n",
    "model.RV = Param(model.R, initialize=dict_rv)\n",
    "model.RVal = Param(model.R, initialize=dict_rval)\n",
    "\n",
    "model.FW = Param(model.F, initialize=dict_fw)\n",
    "model.FV = Param(model.F, initialize=dict_fv)\n",
    "\n",
    "# define decision variable\n",
    "model.X = Var(model.F, model.R, within=Binary)"
   ]
  },
  {
   "cell_type": "markdown",
   "id": "f949d7b5-3033-40b8-a3e8-5e73dd459420",
   "metadata": {
    "jp-MarkdownHeadingCollapsed": true
   },
   "source": [
    "## Función objetivo"
   ]
  },
  {
   "cell_type": "markdown",
   "id": "6f5b1ca5-f5b1-4e8c-919a-96d0b5f6d9cd",
   "metadata": {},
   "source": [
    "Se debe maximizar el valor de los recursos que se llevan en la flota, por tanto, la función objetivo es la siguiente:\n",
    "\n",
    "$$\n",
    "    Z = \\max \\sum_{i \\in A} \\sum_{j\\in R} X_{i, j} \\times p_j\n",
    "$$"
   ]
  },
  {
   "cell_type": "code",
   "execution_count": 15,
   "id": "a95fe729-dde6-4e38-ad32-46518350d029",
   "metadata": {},
   "outputs": [],
   "source": [
    "def obj_func(model):\n",
    "    return sum(model.X[i, j] * model.RVal[j] for j in model.R for i in model.F)\n",
    "\n",
    "model.obj = Objective(rule=obj_func, sense=maximize)"
   ]
  },
  {
   "cell_type": "markdown",
   "id": "22b26a26-a4c9-4328-be53-5c3cb56fd132",
   "metadata": {
    "jp-MarkdownHeadingCollapsed": true
   },
   "source": [
    "## Restricciones"
   ]
  },
  {
   "cell_type": "markdown",
   "id": "bc5880ea-192d-4912-a062-db999abefebb",
   "metadata": {},
   "source": [
    "Ahora bien, en cuanto a las restricciones tenemos las siguientes. Por un lado debemos limitar el volumen y el peso de los recursos que llevamos en cada uno de los aviones. Para cada $i$ avión, \n",
    "\n",
    "$$\n",
    "\\sum_{j \\in R} X_{i, j} \\times w_{j}^{*} \\leq w_i, \\forall i \\in A\n",
    "$$\n",
    "\n",
    "$$\n",
    "        \\sum_{j \\in R} X_{i, j} \\times v_{j}^{*} \\leq v_i, \\forall i \\in A\n",
    "$$\n",
    "\n",
    "Adicionalmente, debemos recordar que un recurso solo se puede cargar 1 vez entre todos los aviones de la flota.\n",
    "\n",
    "$$\n",
    "        \\sum_{i \\in A} X_{i, j} \\leq 1, \\forall j \\in R\n",
    "$$\n",
    "\n",
    "Otras dos restricciones que se nos da en el enunciado es que las medicinas no pueden ser trasportadas en el avión 1, y los equipos médicos no pueden ir junto al agua y viceversa. Lo que nos da como resultado las dos siguientes restricciones.\n",
    "\n",
    "$$\n",
    "        X_{1, 2} = 0\n",
    "$$\n",
    "\n",
    "$$\n",
    "        X_{i, 3} + X_{i, 4} \\leq 1, \\forall i \\in A\n",
    "$$"
   ]
  },
  {
   "cell_type": "code",
   "execution_count": 16,
   "id": "8793f136-51fb-4665-91d1-c487a82dc219",
   "metadata": {},
   "outputs": [],
   "source": [
    "def max_weight_constr(model, i):\n",
    "    return sum(model.X[i, j] * model.RW[j] for j in model.R) <= model.FW[i]\n",
    "\n",
    "model.max_weight = Constraint(model.F, rule=max_weight_constr)\n",
    "\n",
    "def max_volume_constr(model, i):\n",
    "    return sum(model.X[i, j] * model.RV[j] for j in model.R) <= model.FV[i]\n",
    "\n",
    "model.max_volumen = Constraint(model.F, rule=max_volume_constr)"
   ]
  },
  {
   "cell_type": "code",
   "execution_count": 17,
   "id": "ed27c828-bd53-402f-b43b-a86b976fac23",
   "metadata": {},
   "outputs": [],
   "source": [
    "def one_resource_constr(model, j):\n",
    "    return sum(model.X[i, j] for i in model.F) <= 1\n",
    "\n",
    "model.one_resource = Constraint(model.R, rule=one_resource_constr)"
   ]
  },
  {
   "cell_type": "code",
   "execution_count": 18,
   "id": "d21234a3-033e-4c16-8b9e-a36459453ee9",
   "metadata": {},
   "outputs": [],
   "source": [
    "def resources_constr(model, i):\n",
    "    return model.X[i, 3] + model.X[i, 4] <= 1\n",
    "model.resources_constr = Constraint(model.F, rule=resources_constr)\n",
    "\n",
    "model.exclusion_constraint = Constraint(expr=model.X[1,2] == 0)"
   ]
  },
  {
   "cell_type": "markdown",
   "id": "2ba05caf-0ee1-41cf-85f8-f974a7486214",
   "metadata": {
    "jp-MarkdownHeadingCollapsed": true
   },
   "source": [
    "## Solución del modelo"
   ]
  },
  {
   "cell_type": "code",
   "execution_count": 20,
   "id": "8be9797b-c808-479c-841f-5dad38711ef9",
   "metadata": {},
   "outputs": [
    {
     "name": "stdout",
     "output_type": "stream",
     "text": [
      "GLPSOL--GLPK LP/MIP Solver 5.0\n",
      "Parameter(s) specified in the command line:\n",
      " --write C:\\Users\\javier\\AppData\\Local\\Temp\\tmpejnnl_df.glpk.raw --wglp C:\\Users\\javier\\AppData\\Local\\Temp\\tmp9gx88ss1.glpk.glp\n",
      " --cpxlp C:\\Users\\javier\\AppData\\Local\\Temp\\tmp8g0c7m4b.pyomo.lp\n",
      "Reading problem data from 'C:\\Users\\javier\\AppData\\Local\\Temp\\tmp8g0c7m4b.pyomo.lp'...\n",
      "C:\\Users\\javier\\AppData\\Local\\Temp\\tmp8g0c7m4b.pyomo.lp:137: warning: lower bound of variable 'x2' redefined\n",
      "C:\\Users\\javier\\AppData\\Local\\Temp\\tmp8g0c7m4b.pyomo.lp:137: warning: upper bound of variable 'x2' redefined\n",
      "15 rows, 15 columns, 52 non-zeros\n",
      "15 integer variables, all of which are binary\n",
      "152 lines were read\n",
      "Writing problem data to 'C:\\Users\\javier\\AppData\\Local\\Temp\\tmp9gx88ss1.glpk.glp'...\n",
      "114 lines were written\n",
      "GLPK Integer Optimizer 5.0\n",
      "15 rows, 15 columns, 52 non-zeros\n",
      "15 integer variables, all of which are binary\n",
      "Preprocessing...\n",
      "8 constraint coefficient(s) were reduced\n",
      "14 rows, 14 columns, 48 non-zeros\n",
      "14 integer variables, all of which are binary\n",
      "Scaling...\n",
      " A: min|aij| =  1.000e+00  max|aij| =  2.000e+01  ratio =  2.000e+01\n",
      "GM: min|aij| =  8.034e-01  max|aij| =  1.245e+00  ratio =  1.549e+00\n",
      "EQ: min|aij| =  6.455e-01  max|aij| =  1.000e+00  ratio =  1.549e+00\n",
      "2N: min|aij| =  3.750e-01  max|aij| =  1.500e+00  ratio =  4.000e+00\n",
      "Constructing initial basis...\n",
      "Size of triangular part is 14\n",
      "Solving LP relaxation...\n",
      "GLPK Simplex Optimizer 5.0\n",
      "14 rows, 14 columns, 48 non-zeros\n",
      "*     0: obj =  -0.000000000e+00 inf =   0.000e+00 (14)\n",
      "*    10: obj =   3.700000000e+02 inf =   0.000e+00 (0)\n",
      "OPTIMAL LP SOLUTION FOUND\n",
      "Integer optimization begins...\n",
      "Long-step dual simplex will be used\n",
      "+    10: mip =     not found yet <=              +inf        (1; 0)\n",
      "+    12: >>>>>   3.700000000e+02 <=   3.700000000e+02   0.0% (2; 0)\n",
      "+    12: mip =   3.700000000e+02 <=     tree is empty   0.0% (0; 3)\n",
      "INTEGER OPTIMAL SOLUTION FOUND\n",
      "Time used:   0.0 secs\n",
      "Memory used: 0.1 Mb (71554 bytes)\n",
      "Writing MIP solution to 'C:\\Users\\javier\\AppData\\Local\\Temp\\tmpejnnl_df.glpk.raw'...\n",
      "39 lines were written\n"
     ]
    },
    {
     "data": {
      "text/plain": [
       "{'Problem': [{'Name': 'unknown', 'Lower bound': 370.0, 'Upper bound': 370.0, 'Number of objectives': 1, 'Number of constraints': 15, 'Number of variables': 15, 'Number of nonzeros': 52, 'Sense': 'maximize'}], 'Solver': [{'Status': 'ok', 'Termination condition': 'optimal', 'Statistics': {'Branch and bound': {'Number of bounded subproblems': '3', 'Number of created subproblems': '3'}}, 'Error rc': 0, 'Time': 0.04362797737121582}], 'Solution': [OrderedDict([('number of solutions', 0), ('number of solutions displayed', 0)])]}"
      ]
     },
     "execution_count": 20,
     "metadata": {},
     "output_type": "execute_result"
    }
   ],
   "source": [
    "solver = SolverFactory('glpk')\n",
    "solver.solve(model, tee=True)"
   ]
  },
  {
   "cell_type": "markdown",
   "id": "85abeed3-58a3-4995-8b4e-d37f33cc208b",
   "metadata": {
    "jp-MarkdownHeadingCollapsed": true
   },
   "source": [
    "## Resultados"
   ]
  },
  {
   "cell_type": "code",
   "execution_count": 21,
   "id": "8399acf1-aa86-45f7-b57b-5e6fdd7986a8",
   "metadata": {},
   "outputs": [
    {
     "name": "stdout",
     "output_type": "stream",
     "text": [
      "El avion 1 lleva el recurso 1\n",
      "El avion 2 lleva el recurso 2\n",
      "El avion 2 lleva el recurso 3\n",
      "El avion 2 lleva el recurso 5\n",
      "El avion 3 lleva el recurso 4\n",
      "\n",
      "El valor total de los recursos que llevo es 370.0\n"
     ]
    }
   ],
   "source": [
    "for i in model.F:\n",
    "    for j in model.R:\n",
    "        if model.X[i, j].value == 1:\n",
    "            print(f\"El avion {i} lleva el recurso {j}\")\n",
    "print()\n",
    "\n",
    "total = sum(model.X[i, j].value * model.RVal[j] for j in model.R for i in model.F)\n",
    "print(f\"El valor total de los recursos que llevo es {total}\")"
   ]
  }
 ],
 "metadata": {
  "kernelspec": {
   "display_name": "Python 3 (ipykernel)",
   "language": "python",
   "name": "python3"
  },
  "language_info": {
   "codemirror_mode": {
    "name": "ipython",
    "version": 3
   },
   "file_extension": ".py",
   "mimetype": "text/x-python",
   "name": "python",
   "nbconvert_exporter": "python",
   "pygments_lexer": "ipython3",
   "version": "3.9.21"
  }
 },
 "nbformat": 4,
 "nbformat_minor": 5
}

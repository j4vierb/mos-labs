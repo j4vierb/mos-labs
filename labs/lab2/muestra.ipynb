{
 "cells": [
  {
   "cell_type": "markdown",
   "id": "9fe2e7c4-c7ce-40f3-8ef5-d890d7e8b4ca",
   "metadata": {},
   "source": [
    "# Ejemplo"
   ]
  },
  {
   "cell_type": "markdown",
   "id": "0e3aa74a-3a70-4706-9303-948c7d2cc2b8",
   "metadata": {},
   "source": [
    "Minimizar costos de transporte de productos desde distintos centros de distribución hacia varias tiendas.\n",
    "- Hay $m$ centros y $n$ tiendas\n",
    "- Cada centro puede mandar una cantidad limitada\n",
    "- Cada tienda tiene una demanda especifica\n",
    "- El costo de enviar una unidad producto desde un centro $i$ a una tiene $j$ es $c_{ij}$\n",
    "\n",
    "## Conjuntos\n",
    "- $I$: Centros de distribución\n",
    "- $J$ Conjunto tiendas\n",
    "\n",
    "## Parámetros\n",
    "- $c_{ij}$ Costo de transporte desde centro $i$ a tienda $j$\n",
    "- $s_i$ Cantidad de producto disponible en el centro $i$\n",
    "- $d_j$ Demanda en la tienda $j$\n",
    "\n",
    "## Var. decisión\n",
    "$X_{ij} cantidad de producto enviada desde el centro $i$ a la tienda $j$.\n",
    "\n",
    "$x_{ij} \\forall i \\in I, \\forall j\\in J$ (no se mandan cantidades negativas)\n",
    "\n",
    "## Func. objetivo\n",
    "$\\min \\sum_{i \\in I} \\sum_{j\\in J} c_{ij} x_{ij}$\n",
    "\n",
    "## Restricciones\n",
    "Para todo centro de distribución no puedo exceder la cantidad de disponibilidad. La cantidad de productos que mandamos a la tienda debe ser igual a la demanda. Y los productos no son negatios."
   ]
  },
  {
   "cell_type": "code",
   "execution_count": 1,
   "id": "5e7561ae-f9f5-4dd4-8403-0beff8665950",
   "metadata": {},
   "outputs": [],
   "source": [
    "from pyomo.environ import *\n",
    "\n",
    "# AbstractModel con modelos estocasticos\n",
    "model = ConcreteModel()"
   ]
  },
  {
   "cell_type": "code",
   "execution_count": 2,
   "id": "910411d6-a454-4ae8-8337-67cd5d58c815",
   "metadata": {},
   "outputs": [
    {
     "ename": "NameError",
     "evalue": "name 'm' is not defined",
     "output_type": "error",
     "traceback": [
      "\u001b[1;31m---------------------------------------------------------------------------\u001b[0m",
      "\u001b[1;31mNameError\u001b[0m                                 Traceback (most recent call last)",
      "Cell \u001b[1;32mIn[2], line 2\u001b[0m\n\u001b[0;32m      1\u001b[0m \u001b[38;5;66;03m# sets:\u001b[39;00m\n\u001b[1;32m----> 2\u001b[0m model\u001b[38;5;241m.\u001b[39mI \u001b[38;5;241m=\u001b[39m RangeSet(\u001b[43mm\u001b[49m)\n\u001b[0;32m      3\u001b[0m model\u001b[38;5;241m.\u001b[39mJ \u001b[38;5;241m=\u001b[39m RangeSet(n)\n\u001b[0;32m      5\u001b[0m model\u001b[38;5;241m.\u001b[39mX \u001b[38;5;241m=\u001b[39m Var(model\u001b[38;5;241m.\u001b[39mT, model\u001b[38;5;241m.\u001b[39mJ, within\u001b[38;5;241m=\u001b[39mNonNegativeReals)\n",
      "\u001b[1;31mNameError\u001b[0m: name 'm' is not defined"
     ]
    }
   ],
   "source": [
    "# sets:\n",
    "model.I = RangeSet(m)\n",
    "model.J = RangeSet(n)\n",
    "\n",
    "# i es distribución, j conjunto tiendas\n",
    "model.X = Var(model.T, model.J, within=NonNegativeReals)"
   ]
  },
  {
   "cell_type": "code",
   "execution_count": null,
   "id": "dcb3c5f9-aa1d-4f62-8423-e5a6130698b6",
   "metadata": {},
   "outputs": [],
   "source": [
    "model.obj = Objective(\n",
    "    expr=sum(c[i, j] * model.x[i, j] for i in model.I for j in model.J),\n",
    "    sense=minimize\n",
    ")"
   ]
  },
  {
   "cell_type": "code",
   "execution_count": null,
   "id": "57f29595-6941-4f27-a55a-54218ca043f6",
   "metadata": {},
   "outputs": [],
   "source": []
  }
 ],
 "metadata": {
  "kernelspec": {
   "display_name": "Python 3 (ipykernel)",
   "language": "python",
   "name": "python3"
  },
  "language_info": {
   "codemirror_mode": {
    "name": "ipython",
    "version": 3
   },
   "file_extension": ".py",
   "mimetype": "text/x-python",
   "name": "python",
   "nbconvert_exporter": "python",
   "pygments_lexer": "ipython3",
   "version": "3.9.21"
  }
 },
 "nbformat": 4,
 "nbformat_minor": 5
}

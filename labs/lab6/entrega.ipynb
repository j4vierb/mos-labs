{
 "cells": [
  {
   "cell_type": "markdown",
   "id": "2723a57f-92d4-4636-b56d-a393620a0923",
   "metadata": {},
   "source": [
    "# Entrega laboratorio 6\n",
    "## Integrantes \n",
    "\n",
    "- Javier Steven Barrera Toro - 202214779\n",
    "- Julian Santiago Rolon Toloza - 202215839"
   ]
  },
  {
   "cell_type": "code",
   "execution_count": 2,
   "id": "a8375850-5b2f-4306-a5a6-38504a0d3645",
   "metadata": {},
   "outputs": [
    {
     "data": {
      "text/plain": [
       "{'divide': 'warn', 'over': 'warn', 'under': 'ignore', 'invalid': 'warn'}"
      ]
     },
     "execution_count": 2,
     "metadata": {},
     "output_type": "execute_result"
    }
   ],
   "source": [
    "from matplotlib import pyplot as plt\n",
    "from typing import List, Tuple, NewType\n",
    "import numpy as np\n",
    "import pandas as pd\n",
    "import sympy as sp\n",
    "import random\n",
    "import math\n",
    "import copy\n",
    "import tabulate\n",
    "from matplotlib.colors import ListedColormap\n",
    "\n",
    "np.seterr(divide='ignore')"
   ]
  },
  {
   "cell_type": "markdown",
   "id": "723915aa-5c32-4fc7-be6b-4d93871c5d4d",
   "metadata": {},
   "source": [
    "# Problema 1"
   ]
  },
  {
   "cell_type": "code",
   "execution_count": 3,
   "id": "e4c6fc67-9988-4e15-b446-40fc29851aaf",
   "metadata": {},
   "outputs": [
    {
     "data": {
      "image/png": "[encoded data removed]",
      "text/plain": [
       "<Figure size 600x600 with 1 Axes>"
      ]
     },
     "metadata": {},
     "output_type": "display_data"
    }
   ],
   "source": [
    "def load_maze(file):\n",
    "    maze = np.loadtxt(file, dtype=int)\n",
    "    return maze\n",
    "\n",
    "def display_maze(maze):\n",
    "    cmap = ListedColormap(['white', 'black', 'green', 'black'])\n",
    "    plt.figure(figsize=(6, 6))\n",
    "    plt.pcolor(maze[::-1], cmap=cmap, edgecolors='k', linewidths=2)\n",
    "    plt.gca().set_aspect('equal')\n",
    "    plt.xticks([])\n",
    "    plt.yticks([])\n",
    "    plt.title('Maze with Entrance and Exit')\n",
    "    plt.show()\n",
    "\n",
    "maze = load_maze('maze_case_base.txt')\n",
    "display_maze(maze)"
   ]
  },
  {
   "cell_type": "code",
   "execution_count": 4,
   "id": "1f7a0b69-f11a-4873-8621-2c87303a191e",
   "metadata": {},
   "outputs": [
    {
     "data": {
      "text/plain": [
       "array([[1, 1, 1, 1, 1, 1, 1, 1, 1, 1, 1, 1, 1, 1, 1],\n",
       "       [0, 0, 0, 0, 0, 0, 1, 0, 0, 0, 0, 0, 0, 0, 1],\n",
       "       [1, 1, 1, 1, 1, 0, 1, 0, 1, 1, 1, 0, 1, 0, 1],\n",
       "       [1, 0, 0, 0, 1, 0, 1, 0, 1, 0, 0, 0, 1, 0, 1],\n",
       "       [1, 0, 1, 0, 1, 0, 1, 1, 1, 0, 1, 1, 1, 0, 1],\n",
       "       [1, 0, 1, 0, 1, 0, 0, 0, 1, 0, 0, 0, 1, 0, 1],\n",
       "       [1, 0, 1, 0, 1, 1, 1, 0, 1, 1, 1, 0, 1, 0, 1],\n",
       "       [1, 0, 1, 0, 0, 0, 1, 0, 0, 0, 0, 0, 1, 0, 1],\n",
       "       [1, 0, 1, 1, 1, 1, 1, 1, 1, 1, 1, 1, 1, 0, 1],\n",
       "       [1, 0, 0, 0, 0, 0, 0, 0, 0, 0, 1, 0, 1, 0, 1],\n",
       "       [1, 0, 1, 1, 1, 1, 1, 0, 1, 0, 1, 0, 1, 0, 1],\n",
       "       [1, 0, 0, 0, 1, 0, 1, 0, 1, 0, 0, 0, 1, 0, 1],\n",
       "       [1, 1, 1, 0, 1, 0, 1, 0, 1, 1, 1, 1, 1, 0, 1],\n",
       "       [1, 0, 0, 0, 0, 0, 1, 0, 0, 0, 0, 0, 0, 0, 0],\n",
       "       [1, 1, 1, 1, 1, 1, 1, 1, 1, 1, 1, 1, 1, 1, 1]])"
      ]
     },
     "execution_count": 4,
     "metadata": {},
     "output_type": "execute_result"
    }
   ],
   "source": [
    "maze"
   ]
  },
  {
   "cell_type": "markdown",
   "id": "6ecba750-b0f7-4022-a359-281d27e57676",
   "metadata": {},
   "source": [
    "# Problema 1: Corridor Crawler (laberinto determinístico)"
   ]
  },
  {
   "cell_type": "markdown",
   "id": "3188c145-eca3-4e99-9a5f-f582b5ec4524",
   "metadata": {},
   "source": [
    "## Representación"
   ]
  },
  {
   "cell_type": "markdown",
   "id": "2cc6d415-ebe5-4989-a7d2-4462cfb91981",
   "metadata": {},
   "source": [
    "Inicialmente se formula utilizar una representación con los posibles movimientos que puede realizar el robot: izquierda, derecha, arriba y abajo. Sin embargo, dada que se había planteado la función de recompensa para que se moviera por el laberinto hasta que se estrellará con una pared se descartaban todas los demás movimientos. Esto provoco que el algoritmo no fuese capaz de aprender a solucionar el laberinto, ya que se descartaban soluciones muy pronto. \n",
    "\n",
    "Luego, se planteo una codificación con 3 posibilidades: el robot continua hacía adelante en la orientación actual hasta que se encuentre un cruce con 3 o más bloques libres, o una pared en la siguiente posición, el robot realiza un giro a la derecha y el robot hace un giro a la izquierda.\n",
    "\n",
    "Tengamos en cuenta que la longitud del gen es mas corta cuando se utiliza la orientación y no todas las posibilidades de movimiento por parte del robot. Dado que la longitud es menor el algoritmo tendrá mas posibilidades de hallar la salida en menos epocas. Algo que nos sucedio al experimentar con la primera aproximación es que el algoritmo en 300 epocas era capaz de solucionar hasta un poco más de la mitad del laberinto. Al reducir la longitud del gen ahora el algoritmo es capaz de llegar a la solución para el caso base con tan solo una longitud del gen de 32 unidades, mientras que si se utilizaba la primera aproximación la longitud minima del gen debía ser de 43 unidades. "
   ]
  },
  {
   "cell_type": "markdown",
   "id": "bfb3a992-dc2d-4a8e-9bc6-b40be8142fec",
   "metadata": {},
   "source": [
    "Para lo anterior se propone el siguiente diagrama de clases para realizar la implementación del algoritmo genetico. \n",
    "\n",
    "```mermaid\n",
    "classDiagram\n",
    "    class Orientation {\n",
    "        int degrees\n",
    "        rotate()\n",
    "        evaluate()\n",
    "        reset_rotation()\n",
    "    }\n",
    "\n",
    "    class GAlgorithm {\n",
    "        population\n",
    "        size\n",
    "        elitism\n",
    "        individual_length\n",
    "        sort_population()\n",
    "        count_reached()\n",
    "        get_k_best_fitnesses()\n",
    "        select()\n",
    "        generate_population()\n",
    "        display_maze_with_path()\n",
    "        evolve()\n",
    "    }\n",
    "\n",
    "    class ProblemParams {\n",
    "        maze\n",
    "        start\n",
    "        end\n",
    "        get()\n",
    "    }\n",
    "\n",
    "    class Individual {\n",
    "        steps\n",
    "        length\n",
    "        fitness\n",
    "        reached\n",
    "        crossover()\n",
    "        calculate_reward()\n",
    "        mutate()\n",
    "    }\n",
    "\n",
    "    Individual *-- Orientation : composition\n",
    "    GAlgorithm \"1\" -- \"*\" Individual : population\n",
    "    GAlgorithm ..> ProblemParams : uses\n",
    "    Individual ..> ProblemParams : uses\n",
    "```"
   ]
  },
  {
   "cell_type": "markdown",
   "id": "9f8b53d6-a376-4c00-a5b1-b618686a110d",
   "metadata": {},
   "source": [
    "En la siguiente celda se implementa una función para realizar la visualización de la solución obtenida por el algoritmo genetico. "
   ]
  },
  {
   "cell_type": "code",
   "execution_count": 5,
   "id": "ea36e7df-93c1-4ccd-b3bc-590a44a154a7",
   "metadata": {},
   "outputs": [],
   "source": [
    "def display_maze_with_path(solution, maze, start, end):\n",
    "        cmap = ListedColormap(['white', 'black', 'royalblue', 'lime', 'gold'])\n",
    "        maze_display = maze.copy().astype(float)\n",
    "        rows, cols = maze.shape\n",
    "    \n",
    "        if not (0 <= start[0] < rows and 0 <= start[1] < cols and maze[start[0], start[1]] == 0):\n",
    "            print(f\"Advertencia: El punto de inicio {start} no es válido en el laberinto.\")\n",
    "            return\n",
    "    \n",
    "        # paths\n",
    "        def see_paths(i, j, maze):\n",
    "            empty_paths = 0\n",
    "            if i + 1 < maze.shape[0] and maze[i + 1, j] == 0: empty_paths += 1\n",
    "            elif 0 <= i - 1 and maze[i - 1, j] == 0: empty_paths += 1\n",
    "            elif j + 1 < maze.shape[1] and maze[i, j + 1] == 0: empty_paths += 1\n",
    "            elif 0 <= j - 1 and maze[i, j - 1] == 0: empty_paths += 1\n",
    "        \n",
    "            return empty_paths\n",
    "    \n",
    "        path_coords = [start]\n",
    "        curr = start\n",
    "        solution.itr_orientation.reset_orientation()\n",
    "        delta = solution.itr_orientation.evaluate()\n",
    "        for gen in solution.steps:\n",
    "            if gen == 0:\n",
    "                i, j = curr\n",
    "        \n",
    "                while (delta[0] + i < maze.shape[0] and delta[1] + j < maze.shape[1]) \\\n",
    "                    and maze[delta[0] + i, delta[1] + j] != 1 and see_paths(i, j, maze) < 3:\n",
    "                    i, j = (i + delta[0], j + delta[1])\n",
    "                    path_coords.append((i, j))\n",
    "\n",
    "                    if (i,j) == end:\n",
    "                       print(\"THE SOLUTION REACHED THE END!\")\n",
    "                       break\n",
    "        \n",
    "                curr = i, j\n",
    "            else:\n",
    "                delta = solution.itr_orientation.rotate(gen)\n",
    "    \n",
    "        # mark the path with blue blocks\n",
    "        path_cells_to_mark = [el for el in path_coords if el != start and el != end]\n",
    "        for r, c in path_cells_to_mark:\n",
    "            maze_display[r, c] = 2\n",
    "    \n",
    "        # mark the start as green\n",
    "        if start is not None and 0 <= start[0] < rows and 0 <= start[1] < cols:\n",
    "            maze_display[start[0], start[1]] = 3\n",
    "    \n",
    "        # mark the end as gold\n",
    "        if end is not None and 0 <= end[0] < rows and 0 <= end[1] < cols:\n",
    "            maze_display[end[0], end[1]] = 4\n",
    "    \n",
    "        # graph\n",
    "        plt.figure(figsize=(max(8, cols / 2), max(8, rows / 2)))\n",
    "        norm = plt.cm.colors.BoundaryNorm(np.arange(-0.5, 5.5, 1), cmap.N)\n",
    "        plt.pcolor(maze_display[::-1], cmap=cmap, edgecolors='k', linewidths=0.5, norm=norm)\n",
    "    \n",
    "        plt.title(f\"Laberinto con Camino del Individuo\")\n",
    "        plt.gca().set_aspect('equal')\n",
    "        plt.xticks([])\n",
    "        plt.yticks([])\n",
    "        plt.show()\n",
    "    "
   ]
  },
  {
   "cell_type": "markdown",
   "id": "60aef2a0-27b8-45b4-86bd-67d3b54a4273",
   "metadata": {},
   "source": [
    "En la siguiente celda de código se realiza la implementación `Orientation` y `ProblemParams`."
   ]
  },
  {
   "cell_type": "code",
   "execution_count": 6,
   "id": "10bbec1f-e9f1-43d7-b51d-bd2035a03692",
   "metadata": {},
   "outputs": [],
   "source": [
    "class Orientation:\n",
    "    def __init__(self, right: int):\n",
    "        self.degrees = 0 # 0 degrees\n",
    "        self.right = right\n",
    "        self.left = right + 1\n",
    "        self.movement = {0: (0, 1), 90: (-1, 0), 180: (0, -1), 270: (1, 0)}\n",
    "\n",
    "    def rotate(self, direction: int):\n",
    "        if direction not in [self.right, self.left]:\n",
    "            raise Exception(f\"ERROR: DIRECTION NOT FOUND: {direction}\")\n",
    "        if direction == self.right:\n",
    "            return self.__right_rotation()\n",
    "            \n",
    "        return self.__left_rotation()\n",
    "\n",
    "    def evaluate(self):\n",
    "        return self.movement.get(self.degrees)\n",
    "\n",
    "    def reset_orientation(self):\n",
    "        self.degrees = 0\n",
    "\n",
    "    def __right_rotation(self):\n",
    "        self.degrees = (self.degrees + 270) % 360\n",
    "        return self.movement.get(self.degrees)\n",
    "\n",
    "    def __left_rotation(self):\n",
    "        self.degrees = (self.degrees + 90) % 360\n",
    "        return self.movement.get(self.degrees)\n",
    "\n",
    "    def __str__(self):\n",
    "        return str(self.degrees)\n",
    "    \n",
    "class ProblemParams:\n",
    "    def __init__(self, maze, start, end):\n",
    "        self.maze = maze\n",
    "        self.start = start\n",
    "        self.end = end\n",
    "\n",
    "    def get(self):\n",
    "        return [self.maze, self.start, self.end]"
   ]
  },
  {
   "cell_type": "markdown",
   "id": "81f2c7b0-a2e7-4438-a77f-67874a6506ab",
   "metadata": {},
   "source": [
    "En la siguiente clase se realiza la implementación del individuo. Un individuo es capaz de realizar el cruce con otro individuo y producir dos hijos, calcular la recompensa del camino escogido y mutar el camino actual. Se implementan otros métodos para facilitar su manejo con la libreria estandar de Python, por ejemplo el método `__str__`."
   ]
  },
  {
   "cell_type": "code",
   "execution_count": 7,
   "id": "acb4589e-ca16-484f-9d9b-7efa34bbeee1",
   "metadata": {},
   "outputs": [],
   "source": [
    "class Individual:\n",
    "    def __init__(self, steps, params: ProblemParams):\n",
    "        self.steps = steps\n",
    "        self.length = len(steps)\n",
    "        self.orientation = Orientation(1)\n",
    "        self.itr_orientation = Orientation(1)\n",
    "        self.fitness = self.calculate_reward(*params.get())\n",
    "        self.reached = False\n",
    "        self.params = params\n",
    "    \n",
    "    # problem: 0 0 is also a valid solution if there exists an intersection\n",
    "    def crossover(self, individual):\n",
    "        inf = math.ceil(self.length * 0.4)\n",
    "        sup = math.ceil(self.length * 0.6)\n",
    "        crosspoint = random.randint(inf, sup)\n",
    "        steps1, steps2 = [], []\n",
    "        \n",
    "        if self.steps[crosspoint] != individual.steps[crosspoint]:\n",
    "            steps1 = self.steps[:crosspoint] + individual.steps[crosspoint+1:] + [individual.steps[crosspoint]]\n",
    "            steps2 = individual.steps[:crosspoint] + self.steps[crosspoint+1:] + [self.steps[crosspoint]]\n",
    "        else:\n",
    "            steps1 = self.steps[:crosspoint] + individual.steps[crosspoint:]\n",
    "            steps2 = individual.steps[:crosspoint] + self.steps[crosspoint:]\n",
    "\n",
    "        i1 = Individual(steps1, self.params)\n",
    "        i2 = Individual(steps2, self.params)\n",
    "\n",
    "        return i1, i2\n",
    "\n",
    "    def calculate_reward(self, maze, origin, end):\n",
    "        curr = origin\n",
    "        path = [origin]\n",
    "        unique = set(origin)\n",
    "        self.itr_orientation.reset_orientation()\n",
    "        delta = self.itr_orientation.evaluate()\n",
    "\n",
    "        def manhattan_distance(p1, p2):\n",
    "            return abs(p1[0] - p2[0]) + abs(p1[1] - p2[1])\n",
    "\n",
    "        def see_paths(i, j, maze):\n",
    "            empty_paths = 0\n",
    "            if i + 1 < maze.shape[0] and maze[i + 1, j] == 0: empty_paths += 1\n",
    "            elif 0 <= i - 1 and maze[i - 1, j] == 0: empty_paths += 1\n",
    "            elif j + 1 < maze.shape[1] and maze[i, j + 1] == 0: empty_paths += 1\n",
    "            elif 0 <= j - 1 and maze[i, j - 1] == 0: empty_paths += 1\n",
    "        \n",
    "            return empty_paths\n",
    "        \n",
    "        fitness = 500\n",
    "        opposite = {1: 2, 2: 1}\n",
    "        REACHED = False\n",
    "        dummie_wall = 0\n",
    "        dummie_movm = 0\n",
    "        uniq = 0\n",
    "        self.reached = False\n",
    "        \n",
    "        for index, gen in enumerate(self.steps):\n",
    "            i, j = curr\n",
    "            if gen == 0:\n",
    "                while (delta[0] + i < maze.shape[0] and delta[1] + j < maze.shape[1]) \\\n",
    "                    and see_paths(i, j, maze) < 3:\n",
    "                    if maze[delta[0] + i, delta[1] + j] == 1:\n",
    "                        dummie_wall += 1\n",
    "                        break\n",
    "\n",
    "                    i, j = (i + delta[0], j + delta[1])\n",
    "                    path.append((i, j))\n",
    "                    if (i,j) in unique:\n",
    "                        uniq -= 1\n",
    "                    else:\n",
    "                        unique.add((i,j))\n",
    "                        uniq += 1\n",
    "\n",
    "                    if (i,j) == end:\n",
    "                        REACHED = True\n",
    "                        self.reached = True\n",
    "                        break\n",
    "                curr = i, j\n",
    "            else:\n",
    "                delta = self.itr_orientation.rotate(gen)\n",
    "                if index > 0:\n",
    "                    if opposite.get(gen) == gen:\n",
    "                        dummie_movm += 1\n",
    "                    if [self.steps[i-1], gen, self.steps[i+1]] in [[1, 1, 1], [2, 2, 2]]:\n",
    "                        dummie_movm += 1\n",
    "\n",
    "            if REACHED: break\n",
    "\n",
    "        fitness += uniq * 12 # exploration\n",
    "        fitness -= manhattan_distance(path[-1], end)*10 # distance\n",
    "        fitness -= (dummie_movm + dummie_wall) * 15\n",
    "        fitness += 5000 if REACHED else 0\n",
    "\n",
    "        return fitness\n",
    "    \n",
    "    # mutate to generate solutions like 0 0\n",
    "    def mutate(self, mutation_rate):\n",
    "        # change from 1,2 -> 2,1 at least mutation_rate * self.length\n",
    "        # right shift\n",
    "        gen_mutate = math.ceil(mutation_rate * self.length)\n",
    "        for i, gen in enumerate(self.steps):\n",
    "            if random.random() < mutation_rate:\n",
    "                if gen != 0:\n",
    "                    self.steps[i] = random.randint(1,2)\n",
    "        self.fitness = self.calculate_reward(*self.params.get()) # recalculate the fitness\n",
    "        return self\n",
    "\n",
    "    def __str__(self):\n",
    "        return f\"Individual(steps={self.steps}, orientation={self.orientation}, fit={round(self.fitness, 2)})\"\n",
    "\n",
    "    def __repr__(self):\n",
    "        return self.__str__()\n",
    "\n",
    "    def __add__(self, other):\n",
    "        indv = Individual([], self.params)\n",
    "        indv.fitness = self.fitness + other.fitness\n",
    "        return indv\n",
    "\n",
    "    @classmethod\n",
    "    def zero(cls):\n",
    "        return Individual([], self.params)\n",
    "    \n",
    "    def __radd__(self, other):\n",
    "        if other == 0:\n",
    "            return self\n",
    "        return self.__add__(other)"
   ]
  },
  {
   "cell_type": "markdown",
   "id": "a3f79925-c9be-46e8-a2fa-0baf5b45fbdb",
   "metadata": {},
   "source": [
    "La siguiente clase es el manejador, se encarga de generar una población base y luego evolucionarla un cierta cantidad de generaciones. Se implementan métodos como `sort_population` para ordenar la población actual, `count_reached` para obtener cuantos individuos alcanzan la salida del laberinto y `get_k_best_fitnesses` obtiene los caminos y la aptitud de los mejores k individuos. "
   ]
  },
  {
   "cell_type": "code",
   "execution_count": 8,
   "id": "3a99765e-7ae8-43f9-9ec1-9eba59e7b0af",
   "metadata": {},
   "outputs": [],
   "source": [
    "class GAlgorithm:\n",
    "    def __init__(self, poblation: int, elitism: float, individual_length: int, mutation_rate: float, generations, params: ProblemParams):\n",
    "        self.size = poblation\n",
    "        self.elitism = elitism\n",
    "        self.length = individual_length\n",
    "        self.params = params\n",
    "        self.maze, self.origin, self.goal = self.params.get()\n",
    "        self.mutation_rate = mutation_rate\n",
    "        self.generations = generations\n",
    "\n",
    "        self.__population = None\n",
    "        self.sorted = False\n",
    "        self.history = []\n",
    "\n",
    "    def sort_population(self):\n",
    "        self.__population = sorted(self.__population, key=lambda ind: ind.fitness, reverse=True)\n",
    "        self.sorted = True\n",
    "\n",
    "    def count_reached(self):\n",
    "        reached = 0\n",
    "        for indiv in self.__population:\n",
    "            if indiv.reached:\n",
    "                reached += 1\n",
    "\n",
    "        return reached\n",
    "\n",
    "    def get_k_best_fitnesses(self, k: int):\n",
    "        subset = self.__population[:k]\n",
    "        rewards = list(map(lambda s: round(s.fitness, 2), subset))\n",
    "        paths = list(map(lambda p: p.steps, subset))\n",
    "\n",
    "        return rewards, paths\n",
    "\n",
    "    def select(self):\n",
    "        num_elitist = math.ceil(self.elitism * self.size)\n",
    "        num_non_elitist = self.size - num_elitist\n",
    "        \n",
    "        elitist = self.__population[:num_elitist]\n",
    "        non_elitist = self.__population[num_elitist:]\n",
    "\n",
    "        parents = random.sample(non_elitist, k=num_non_elitist)\n",
    "\n",
    "        # producir los hijos\n",
    "        offspring = []\n",
    "        for i in range(0, num_non_elitist):\n",
    "            indv1, indv2 = random.choices(parents, k=2) # , weights=pr\n",
    "            rindv1, rindv2 = indv1.crossover(indv2)\n",
    "            # mutate\n",
    "            rindv1.mutate(self.mutation_rate)\n",
    "            rindv2.mutate(self.mutation_rate)\n",
    "            \n",
    "            offspring += [rindv1, rindv2]\n",
    "\n",
    "        self.__population = []\n",
    "        self.__population = elitist + offspring[:num_non_elitist]\n",
    "        self.sort_population() # sort the current population\n",
    "    \n",
    "    def generate_population(self):\n",
    "        population = []\n",
    "        \n",
    "        for i in range(self.size):\n",
    "            first_element = random.randint(0,2)\n",
    "            r = self.length - 1\n",
    "            indiv = [(random.randint(1,2), 0) for j in range(math.ceil(r/2))] \\\n",
    "                if first_element == 0 \\\n",
    "                else [(0, [1,2][random.randint(0,1)]) for i in range(math.ceil(r/2))]\n",
    "\n",
    "            steps = [first_element]\n",
    "            for gen in indiv:\n",
    "                steps += list(gen)\n",
    "\n",
    "            diff = len(steps) - self.length\n",
    "            if diff > 0:\n",
    "                steps = steps[:len(steps) - diff]\n",
    "\n",
    "            population.append(Individual(steps, self.params))\n",
    "\n",
    "        self.__population = population\n",
    "        self.sort_population() # sort the population\n",
    "\n",
    "        return self.__population\n",
    "\n",
    "    def evolve(self) -> Individual:\n",
    "        if self.__population is None:\n",
    "            self.__population = self.generate_population()\n",
    "\n",
    "        print(f\"best fitness for the initial population {self.get_k_best_fitnesses(10)[0]}\")\n",
    "        reached = self.count_reached()\n",
    "        print(f\"Rate of reached {reached/self.size:.2f} ({reached}/{self.size})\\n\")\n",
    "        \n",
    "        generation = 1\n",
    "        best_solution = []\n",
    "        \n",
    "        while generation <= self.generations:\n",
    "            self.select()\n",
    "            \n",
    "            if generation % 50 == 0:\n",
    "                print(f\"#### Epoch {generation} ####\")\n",
    "                best, pop = self.get_k_best_fitnesses(10)\n",
    "                best_solution = best[0], pop[0]\n",
    "                print(f\"10 best fitness {best}\")\n",
    "                reached = self.count_reached()\n",
    "                print(f\"Rate of reached {reached/self.size:.2f} ({reached}/{self.size})\\n\")\n",
    "\n",
    "            generation += 1\n",
    "\n",
    "        print(\"\\n######## BEST SOLUTION ########\")\n",
    "        print(f\"\\t[->] PATH: {best_solution[1]}\")\n",
    "        print(f\"\\t[->] REWARD: {best_solution[0]}\")\n",
    "\n",
    "        self.sort_population()\n",
    "        return self.__population[0]\n",
    "\n",
    "    def get_population(self):\n",
    "        return self.__population"
   ]
  },
  {
   "cell_type": "markdown",
   "id": "b7af43ac-f932-40dd-b5cb-b02dc7c24e83",
   "metadata": {},
   "source": [
    "El siguiente código se encarga de producir la población con los parámetros dados por parte del enunciado, generar la población inicial y obtener el mejor individuo. "
   ]
  },
  {
   "cell_type": "code",
   "execution_count": 9,
   "id": "0a6ca7e6-ab65-40fd-9c70-f4a7049464c4",
   "metadata": {
    "scrolled": true
   },
   "outputs": [
    {
     "name": "stdout",
     "output_type": "stream",
     "text": [
      "best fitness for the initial population [742, 709, 486, 434, 430, 382, 382, 382, 374, 367]\n",
      "Rate of reached 0.00 (0/200)\n",
      "\n",
      "#### Epoch 50 ####\n",
      "10 best fitness [5794, 5794, 5734, 757, 442, 434, 427, 423, 404, 401]\n",
      "Rate of reached 0.01 (3/200)\n",
      "\n",
      "#### Epoch 100 ####\n",
      "10 best fitness [5794, 5794, 5734, 757, 434, 434, 431, 427, 404, 397]\n",
      "Rate of reached 0.01 (3/200)\n",
      "\n",
      "#### Epoch 150 ####\n",
      "10 best fitness [5794, 5794, 5734, 757, 427, 419, 408, 389, 389, 386]\n",
      "Rate of reached 0.01 (3/200)\n",
      "\n",
      "#### Epoch 200 ####\n",
      "10 best fitness [5794, 5794, 5734, 757, 438, 408, 408, 404, 404, 401]\n",
      "Rate of reached 0.01 (3/200)\n",
      "\n",
      "#### Epoch 250 ####\n",
      "10 best fitness [5794, 5794, 5734, 757, 445, 434, 408, 404, 404, 382]\n",
      "Rate of reached 0.01 (3/200)\n",
      "\n",
      "#### Epoch 300 ####\n",
      "10 best fitness [5794, 5794, 5734, 757, 408, 401, 401, 393, 389, 389]\n",
      "Rate of reached 0.01 (3/200)\n",
      "\n",
      "\n",
      "######## BEST SOLUTION ########\n",
      "\t[->] PATH: [0, 1, 0, 2, 0, 1, 0, 2, 0, 2, 0, 2, 0, 1, 0, 2, 0, 1, 0, 1, 0, 2, 0, 1, 0, 1, 0, 2, 0, 2, 0, 0]\n",
      "\t[->] REWARD: 5794\n",
      "CPU times: total: 39.5 s\n",
      "Wall time: 40.5 s\n"
     ]
    }
   ],
   "source": [
    "random.seed(42)\n",
    "params = ProblemParams(maze, (1,0), (13,14))\n",
    "\n",
    "alg = GAlgorithm(\n",
    "    poblation=200,\n",
    "    elitism=0.02,\n",
    "    individual_length=32,\n",
    "    mutation_rate=0.5,\n",
    "    params=params,\n",
    "    generations=300\n",
    ")\n",
    "population = alg.generate_population()\n",
    "%time solution = alg.evolve()"
   ]
  },
  {
   "cell_type": "markdown",
   "id": "ff415472-8938-4a59-9bb0-c735be38a43a",
   "metadata": {},
   "source": [
    "En cuanto a la convergencia del algoritmo a lo largo de las generaciones se puede ver como a partir de la epoca 50 ya hay 3 individuos que logran alcanzar la salida del laberinto. Estos mismos 3 individuos se mantienen a lo largo de las generaciones. Se debe mencionar la poca capacidad del algoritmo de evolucionar sus poblaciones ya que a partir de la segunda los individuos no son capaces de producir mas soluciones que alcancen el final del laberinto. La mejor solución alcanzada por el algoritmo genetico es la siguiente. "
   ]
  },
  {
   "cell_type": "code",
   "execution_count": 10,
   "id": "8776884e-b0db-4721-99d2-3d18e3e77b1f",
   "metadata": {},
   "outputs": [
    {
     "name": "stdout",
     "output_type": "stream",
     "text": [
      "THE SOLUTION REACHED THE END!\n"
     ]
    },
    {
     "data": {
      "image/png": "[encoded data removed]",
      "text/plain": [
       "<Figure size 800x800 with 1 Axes>"
      ]
     },
     "metadata": {},
     "output_type": "display_data"
    }
   ],
   "source": [
    "# print(params.get())\n",
    "display_maze_with_path(solution, *params.get())"
   ]
  },
  {
   "cell_type": "markdown",
   "id": "400de2bf-10cc-4619-9eb7-3a53ca70faaf",
   "metadata": {},
   "source": [
    "## Caso parte 2: laberinto grande"
   ]
  },
  {
   "cell_type": "markdown",
   "id": "e3b7542d-5987-42a0-a6ad-00ae476c102c",
   "metadata": {},
   "source": [
    "El tamaño del laberinto en este caso es considerablemente mayor al caso anterior. En la siguiente celda de código se realiza la carga del laberinto. "
   ]
  },
  {
   "cell_type": "code",
   "execution_count": 11,
   "id": "d308f38b-c6b8-4bbb-bb13-4f92ac1d9c32",
   "metadata": {},
   "outputs": [
    {
     "name": "stdout",
     "output_type": "stream",
     "text": [
      "(51, 51)\n",
      "[[1 1 1 ... 1 1 1]\n",
      " [0 0 0 ... 0 0 1]\n",
      " [1 1 1 ... 1 0 1]\n",
      " ...\n",
      " [1 0 1 ... 1 0 1]\n",
      " [1 0 0 ... 0 0 0]\n",
      " [1 1 1 ... 1 1 1]]\n"
     ]
    },
    {
     "data": {
      "image/png": "[encoded data removed]",
      "text/plain": [
       "<Figure size 600x600 with 1 Axes>"
      ]
     },
     "metadata": {},
     "output_type": "display_data"
    }
   ],
   "source": [
    "heavy_maze = load_maze('maze_case_heavy.txt')\n",
    "print(heavy_maze.shape)\n",
    "print(heavy_maze)\n",
    "display_maze(heavy_maze)"
   ]
  },
  {
   "cell_type": "markdown",
   "id": "4c323fa8-4d67-40b2-914e-a1e1cc6aad3b",
   "metadata": {},
   "source": [
    "Y ahora se utiliza el mismo manejador creado para la solución pasada. En este caso surge el problema de que el algoritmo se demora bastante (aproximadamente 5 o 6 minutos) y la evolución de las poblaciones no permite encontrar una solución al laberinto. Debido a lo anterior se plantea utilizar la libreria DEAP (Distributed Evolutionary Algorithms in Python) con el fin de paralelizar algunas partes del proceso, lo cual nos puede ayudar a reducir el tiempo de ejecución. "
   ]
  },
  {
   "cell_type": "code",
   "execution_count": 37,
   "id": "1c71a6f5-9941-4d88-9081-8062d903aa6c",
   "metadata": {
    "scrolled": true
   },
   "outputs": [
    {
     "name": "stdout",
     "output_type": "stream",
     "text": [
      "best fitness for the initial population [-2680, -2836, -3010, -3093, -3115, -3182, -3189, -3344, -3424, -3506]\n",
      "Rate of reached 0.00 (0/200)\n",
      "\n",
      "#### Epoch 50 ####\n",
      "10 best fitness [-1597, -1797, -1948, -1994, -2574, -3176, -3221, -3456, -3532, -3533]\n",
      "Rate of reached 0.00 (0/200)\n",
      "\n",
      "#### Epoch 100 ####\n",
      "10 best fitness [-1597, -1797, -1823, -1913, -2510, -2747, -2854, -2934, -3017, -3120]\n",
      "Rate of reached 0.00 (0/200)\n",
      "\n",
      "#### Epoch 150 ####\n",
      "10 best fitness [-1597, -1797, -1823, -1876, -2442, -2959, -3141, -3247, -3317, -3359]\n",
      "Rate of reached 0.00 (0/200)\n",
      "\n",
      "#### Epoch 200 ####\n",
      "10 best fitness [-1597, -1623, -1690, -1731, -2632, -3077, -3207, -3303, -3309, -3367]\n",
      "Rate of reached 0.00 (0/200)\n",
      "\n",
      "#### Epoch 250 ####\n",
      "10 best fitness [-1597, -1623, -1690, -1731, -2506, -2840, -2902, -2955, -3167, -3172]\n",
      "Rate of reached 0.00 (0/200)\n",
      "\n",
      "#### Epoch 300 ####\n",
      "10 best fitness [-1597, -1615, -1623, -1690, -2657, -2662, -2719, -2775, -2806, -2824]\n",
      "Rate of reached 0.00 (0/200)\n",
      "\n",
      "\n",
      "######## BEST SOLUTION ########\n",
      "\t[->] PATH: [0, 2, 0, 1, 0, 1, 0, 1, 0, 1, 0, 2, 0, 2, 0, 2, 0, 2, 0, 1, 0, 2, 0, 1, 0, 1, 0, 1, 0, 2, 0, 2, 0, 1, 0, 2, 0, 1, 0, 1, 0, 1, 0, 1, 0, 1, 0, 1, 0, 2, 0, 2, 0, 2, 0, 1, 0, 2, 0, 1, 0, 2, 0, 2, 0, 1, 0, 1, 0, 2, 0, 1, 0, 1, 0, 2, 0, 1, 0, 1, 0, 2, 0, 2, 0, 2, 0, 2, 0, 2, 0, 2, 0, 2, 0, 2, 0, 1, 0, 2, 0, 1, 0, 2, 0, 1, 0, 2, 0, 1, 0, 2, 0, 1, 0, 1, 0, 1, 0, 2, 0, 1, 0, 2, 0, 1, 0, 2, 0, 1, 0, 2, 0, 1, 0, 0, 2, 0, 1, 0, 1, 0, 0, 0, 0, 2, 0, 2, 0, 1, 0, 0, 2, 0, 2, 0, 2, 0, 0, 0, 1, 0, 1, 0, 2, 0, 2, 0, 1, 0, 2, 0, 1, 0, 1, 0, 2, 0, 2, 0, 1, 0, 2, 0, 1, 0, 1, 0, 1, 0, 1, 0, 1, 0, 1, 0, 2, 0, 1, 0, 2, 0, 2, 0, 2, 0, 2, 0, 1, 0, 1, 0, 2, 0, 2, 0, 1, 0, 1, 0, 1, 0, 2, 0, 1, 0, 2, 0, 1, 0, 1, 0, 2, 0, 1, 0, 1, 0, 1, 0, 2, 0, 1, 0, 1, 0, 1, 0, 2, 0, 2, 0, 2, 0, 2, 0, 1, 0, 2, 0, 1, 0, 1, 0, 1, 0, 1, 0, 2, 0, 2, 0, 2, 0, 1, 0, 2, 0, 1, 2, 1, 2, 1, 1, 0, 1, 1, 1, 2, 1, 0, 0, 1, 0, 1, 0, 1, 2, 1, 0]\n",
      "\t[->] REWARD: -1597\n",
      "CPU times: total: 5min 44s\n",
      "Wall time: 5min 56s\n"
     ]
    }
   ],
   "source": [
    "params = ProblemParams(maze, (1,0), (13,14))\n",
    "\n",
    "alg = GAlgorithm(\n",
    "    poblation=200,\n",
    "    elitism=0.02,\n",
    "    individual_length=300,\n",
    "    mutation_rate=0.5,\n",
    "    params=ProblemParams(heavy_maze, (1,0), (49, 50)),\n",
    "    generations=300\n",
    ")\n",
    "population = alg.generate_population()\n",
    "%time solution = alg.evolve()"
   ]
  },
  {
   "cell_type": "code",
   "execution_count": 39,
   "id": "2a4a38be-aedc-45d9-a1a8-a13cf9404b58",
   "metadata": {},
   "outputs": [
    {
     "data": {
      "image/png": "[encoded data removed]",
      "text/plain": [
       "<Figure size 2550x2550 with 1 Axes>"
      ]
     },
     "metadata": {},
     "output_type": "display_data"
    }
   ],
   "source": [
    "display_maze_with_path(solution.steps, heavy_maze, (1,0), (49,50))"
   ]
  },
  {
   "cell_type": "markdown",
   "id": "4adaff86-0fab-4be7-91ce-31cc6ce8efea",
   "metadata": {},
   "source": [
    "# Usando DEAP"
   ]
  },
  {
   "cell_type": "markdown",
   "id": "9c5a61d1-fc00-4d67-b717-e1c705968de9",
   "metadata": {},
   "source": [
    "La siguiente es la implementación del caso grande utilizando la libreria DEAP. "
   ]
  },
  {
   "cell_type": "code",
   "execution_count": 14,
   "id": "8603c662-bb25-4bba-8713-f78c211629b3",
   "metadata": {},
   "outputs": [],
   "source": [
    "from deap import base, creator\n",
    "from deap import tools\n",
    "import multiprocessing\n",
    "\n",
    "creator.create(\"FitnessMax\", base.Fitness, weights=(1.0,))\n",
    "creator.create(\"Individual\", list, fitness=creator.FitnessMax)"
   ]
  },
  {
   "cell_type": "code",
   "execution_count": 15,
   "id": "4221e302-1202-4381-8b5c-d072387e6977",
   "metadata": {},
   "outputs": [],
   "source": [
    "IND_SIZE = 350\n",
    "toolbox = base.Toolbox()\n",
    "\n",
    "toolbox.register(\"attribute\", random.randint, 0, 2)\n",
    "toolbox.register(# individuals are created from random attribute\n",
    "    \"individual\",\n",
    "    tools.initRepeat,\n",
    "    creator.Individual,\n",
    "    toolbox.attribute,\n",
    "    n=IND_SIZE\n",
    ")\n",
    "# create population from individuals\n",
    "toolbox.register(\"population\", tools.initRepeat, list, toolbox.individual)"
   ]
  },
  {
   "cell_type": "code",
   "execution_count": 29,
   "id": "6f203370-1e0a-4171-8a78-01453d6de212",
   "metadata": {},
   "outputs": [],
   "source": [
    "def evaluate(individual, maze, origin, end):\n",
    "    individual = individual[0]\n",
    "    curr = origin\n",
    "    path = [origin]\n",
    "    unique = set(origin)\n",
    "    orientation = Orientation(1)\n",
    "    delta = orientation.evaluate()\n",
    "\n",
    "    def manhattan_distance(p1, p2):\n",
    "        return abs(p1[0] - p2[0]) + abs(p1[1] - p2[1])\n",
    "\n",
    "    def see_paths(i, j, maze):\n",
    "        empty_paths = 0\n",
    "        if i + 1 < maze.shape[0] and maze[i + 1, j] == 0: empty_paths += 1\n",
    "        elif 0 <= i - 1 and maze[i - 1, j] == 0: empty_paths += 1\n",
    "        elif j + 1 < maze.shape[1] and maze[i, j + 1] == 0: empty_paths += 1\n",
    "        elif 0 <= j - 1 and maze[i, j - 1] == 0: empty_paths += 1\n",
    "    \n",
    "        return empty_paths\n",
    "    \n",
    "    fitness = 20_000\n",
    "    opposite = {1: 2, 2: 1}\n",
    "    REACHED = False\n",
    "    dummie_wall = 0\n",
    "    dummie_movm = 0\n",
    "    uniq = 0\n",
    "    \n",
    "    for index, gen in enumerate(individual):\n",
    "        i, j = curr\n",
    "        if gen == 0:\n",
    "            while (delta[0] + i < maze.shape[0] and delta[1] + j < maze.shape[1]) \\\n",
    "                and see_paths(i, j, maze) < 3:\n",
    "                if maze[delta[0] + i, delta[1] + j] == 1:\n",
    "                    dummie_wall += 1\n",
    "                    break\n",
    "\n",
    "                i, j = (i + delta[0], j + delta[1])\n",
    "                path.append((i, j))\n",
    "                if (i,j) in unique:\n",
    "                    uniq -= 1\n",
    "                else:\n",
    "                    unique.add((i,j))\n",
    "                    uniq += 1\n",
    "\n",
    "                if (i,j) == end:\n",
    "                    REACHED = True\n",
    "                    break\n",
    "            curr = i, j\n",
    "        else:\n",
    "            delta = orientation.rotate(gen)\n",
    "            if index > 0:\n",
    "                if opposite.get(gen) == gen:\n",
    "                    dummie_movm += 1\n",
    "                if [individual[i-1], gen, individual[i+1]] in [[1, 1, 1], [2, 2, 2]]:\n",
    "                    dummie_movm += 1\n",
    "\n",
    "        if REACHED: break\n",
    "\n",
    "    fitness += uniq * 120 # exploration\n",
    "    fitness -= manhattan_distance(path[-1], end)*100 # distance\n",
    "    fitness -= (dummie_movm + dummie_wall) * 150\n",
    "    fitness += 100_000 if REACHED else 0\n",
    "    return (fitness,)"
   ]
  },
  {
   "cell_type": "code",
   "execution_count": 30,
   "id": "a58ff4ce-4b9e-4731-a302-0ce9e7e214c1",
   "metadata": {},
   "outputs": [],
   "source": [
    "toolbox.register(\"evaluate\", evaluate, heavy_maze, (1,0), (49, 50))\n",
    "toolbox.register(\"mutate\", tools.mutUniformInt, low=0, up=2, indpb=0.05)\n",
    "toolbox.register(\"mate\", tools.cxOnePoint)\n",
    "toolbox.register(\"select_elite\", tools.selBest)\n",
    "toolbox.register(\"select_rest\", tools.selTournament, tournsize=5)"
   ]
  },
  {
   "cell_type": "code",
   "execution_count": 41,
   "id": "85050911-0457-4af3-8911-aad2c780d566",
   "metadata": {
    "scrolled": true
   },
   "outputs": [
    {
     "name": "stdout",
     "output_type": "stream",
     "text": [
      "#### Initializing the first population ####\n",
      "Evaluating the initial population...\n",
      "Starting the Genetic Algorithm with 300 generations\n",
      "\t[-] Population size: 1000\n",
      "\t[-] Elite: 20\n",
      "-------- EPOCH 1 --------\n",
      "\t-> Min fitness: 2600.00\n",
      "\t-> Max fitness: 3000.00\n",
      "\t-> Mean: 2928.00\n",
      "\t-> Std dev: 75.47\n",
      "-------- EPOCH 50 --------\n",
      "\t-> Min fitness: 2800.00\n",
      "\t-> Max fitness: 3000.00\n",
      "\t-> Mean: 2997.40\n",
      "\t-> Std dev: 21.29\n",
      "-------- EPOCH 100 --------\n",
      "\t-> Min fitness: 2900.00\n",
      "\t-> Max fitness: 3000.00\n",
      "\t-> Mean: 2999.40\n",
      "\t-> Std dev: 7.72\n",
      "-------- EPOCH 150 --------\n",
      "\t-> Min fitness: 2800.00\n",
      "\t-> Max fitness: 3000.00\n",
      "\t-> Mean: 2998.20\n",
      "\t-> Std dev: 17.23\n",
      "-------- EPOCH 200 --------\n",
      "\t-> Min fitness: 2800.00\n",
      "\t-> Max fitness: 3000.00\n",
      "\t-> Mean: 2997.10\n",
      "\t-> Std dev: 21.01\n",
      "-------- EPOCH 250 --------\n",
      "\t-> Min fitness: 2800.00\n",
      "\t-> Max fitness: 3000.00\n",
      "\t-> Mean: 2997.60\n",
      "\t-> Std dev: 19.86\n",
      "-------- EPOCH 300 --------\n",
      "\t-> Min fitness: 2600.00\n",
      "\t-> Max fitness: 3000.00\n",
      "\t-> Mean: 2998.30\n",
      "\t-> Std dev: 18.63\n",
      "CPU times: total: 2min 26s\n",
      "Wall time: 2min 31s\n"
     ]
    }
   ],
   "source": [
    "def main():\n",
    "    POPULATION_SIZE = 1000\n",
    "\n",
    "    print(\"#### Initializing the first population ####\")\n",
    "    pop = toolbox.population(n=POPULATION_SIZE)\n",
    "    CXPB, MUTPB, NGEN = 0.7, 0.2, 300\n",
    "\n",
    "    print(\"Evaluating the initial population...\")\n",
    "    fitnesses = toolbox.map(toolbox.evaluate, pop)\n",
    "    for ind, fit in zip(pop, fitnesses):\n",
    "        ind.fitness.values = fit\n",
    "\n",
    "    num_elite = int(POPULATION_SIZE * 0.02)\n",
    "    num_non_elite = POPULATION_SIZE - num_elite\n",
    "\n",
    "    print(f\"Starting the Genetic Algorithm with {NGEN} generations\")\n",
    "    print(f\"\\t[-] Population size: {POPULATION_SIZE}\\n\\t[-] Elite: {num_elite}\")\n",
    "\n",
    "    for g in range(1, NGEN+1):\n",
    "        # Select the next generation individuals\n",
    "        elite_individuals = toolbox.select_elite(pop, k=num_elite)\n",
    "        elite_individuals = list(map(toolbox.clone, elite_individuals))\n",
    "        \n",
    "        parents = toolbox.select_rest(pop, k=num_non_elite)\n",
    "        offspring = list(map(toolbox.clone, parents))\n",
    "\n",
    "        for child1, child2 in zip(offspring[::2], offspring[1::2]):\n",
    "            if random.random() < CXPB:\n",
    "                toolbox.mate(child1, child2)\n",
    "                del child1.fitness.values\n",
    "                del child2.fitness.values\n",
    "\n",
    "        for mutant in offspring:\n",
    "            if random.random() < MUTPB:\n",
    "                toolbox.mutate(mutant)\n",
    "                del mutant.fitness.values\n",
    "\n",
    "        # Evaluate the individuals with an invalid fitness\n",
    "        invalid_ind = [ind for ind in offspring if not ind.fitness.valid]\n",
    "        fitnesses = toolbox.map(toolbox.evaluate, invalid_ind)\n",
    "        for ind, fit in zip(invalid_ind, fitnesses):\n",
    "            ind.fitness.values = fit\n",
    "\n",
    "        pop[:] = elite_individuals + offspring\n",
    "\n",
    "        fits = [ind.fitness.values[0] for ind in pop]\n",
    "        length = len(pop)\n",
    "        mean = sum(fits) / length\n",
    "        std = abs(sum(x * x for x in fits) / length - mean ** 2)**0.5\n",
    "        if g % 50 == 0 or g == 1 or g == NGEN:\n",
    "            print(f\"-------- EPOCH {g} --------\")\n",
    "            print(f\"\\t-> Min fitness: {min(fits):.2f}\")\n",
    "            print(f\"\\t-> Max fitness: {max(fits):.2f}\")\n",
    "            print(f\"\\t-> Mean: {mean:.2f}\")\n",
    "            print(f\"\\t-> Std dev: {std:.2f}\")\n",
    "\n",
    "    return pop\n",
    "\n",
    "if __name__ == '__main__':\n",
    "    %time population = main()\n",
    "    result = tools.selBest(population, 1)[0]"
   ]
  },
  {
   "cell_type": "code",
   "execution_count": 42,
   "id": "7bd6a6e4-9e80-4ee1-98e1-d1399f0acdb7",
   "metadata": {},
   "outputs": [
    {
     "name": "stdout",
     "output_type": "stream",
     "text": [
      "[2, 2, 0, 0, 2, 0, 1, 0, 0, 0, 0, 1, 0, 1, 0, 0, 0, 2, 2, 0, 0, 2, 2, 0, 1, 0, 2, 1, 2, 0, 2, 1, 2, 1, 1, 2, 0, 0, 2, 0, 1, 1, 1, 2, 1, 0, 0, 2, 2, 0, 0, 0, 0, 0, 1, 1, 1, 0, 2, 0, 0, 0, 2, 0, 0, 0, 2, 1, 2, 1, 0, 0, 0, 2, 0, 2, 0, 2, 2, 2, 0, 0, 2, 2, 1, 0, 2, 0, 0, 2, 1, 2, 0, 1, 1, 0, 1, 1, 0, 0, 2, 1, 1, 2, 2, 2, 2, 1, 2, 2, 0, 0, 1, 2, 0, 1, 1, 0, 2, 2, 2, 0, 0, 1, 0, 0, 2, 2, 0, 2, 0, 2, 1, 1, 1, 1, 2, 0, 2, 1, 2, 0, 1, 0, 2, 2, 2, 0, 2, 2, 0, 1, 1, 2, 2, 2, 0, 1, 0, 0, 2, 2, 0, 2, 0, 2, 0, 2, 0, 0, 2, 0, 0, 0, 1, 0, 2, 1, 2, 1, 0, 2, 0, 2, 2, 1, 1, 2, 1, 1, 1, 0, 2, 1, 0, 2, 1, 1, 2, 2, 1, 2, 2, 2, 1, 2, 1, 0, 0, 2, 1, 1, 0, 0, 2, 1, 0, 2, 0, 2, 0, 1, 2, 2, 2, 0, 0, 1, 1, 2, 1, 2, 1, 2, 1, 0, 0, 2, 2, 1, 0, 1, 1, 0, 2, 2, 0, 2, 1, 0, 2, 2, 2, 2, 1, 0, 2, 2, 1, 1, 2, 1, 1, 0, 0, 1, 1, 0, 0, 1, 2, 0, 0, 2, 2, 2, 1, 2, 2, 0, 0, 1, 0, 0, 2, 2, 2, 2, 2, 0, 2, 0, 2, 1, 2, 1, 1, 2, 2, 1, 0, 2, 2, 2, 0, 1, 2, 2, 0, 1, 0, 0, 1, 0, 1, 1, 0, 0, 0, 1, 2, 2, 0, 0, 2, 1, 2, 0, 1, 1, 1, 1, 2, 1, 0, 0, 2, 1, 0, 2, 0, 1, 2, 1, 0, 0, 2, 0, 2, 2]\n"
     ]
    },
    {
     "data": {
      "image/png": "[encoded data removed]",
      "text/plain": [
       "<Figure size 2550x2550 with 1 Axes>"
      ]
     },
     "metadata": {},
     "output_type": "display_data"
    }
   ],
   "source": [
    "result = tools.selBest(population, 1)[0]\n",
    "print(result)\n",
    "\n",
    "def display_maze_with_path(solution, maze, start, end):\n",
    "    cmap = ListedColormap(['white', 'black', 'royalblue', 'lime', 'gold'])\n",
    "    maze_display = maze.copy().astype(float)\n",
    "    rows, cols = maze.shape\n",
    "\n",
    "    if not (0 <= start[0] < rows and 0 <= start[1] < cols and maze[start[0], start[1]] == 0):\n",
    "        print(f\"Advertencia: El punto de inicio {start} no es válido en el laberinto.\")\n",
    "        return\n",
    "\n",
    "    # paths\n",
    "    def see_paths(i, j, maze):\n",
    "        empty_paths = 0\n",
    "        if i + 1 < maze.shape[0] and maze[i + 1, j] == 0: empty_paths += 1\n",
    "        elif 0 <= i - 1 and maze[i - 1, j] == 0: empty_paths += 1\n",
    "        elif j + 1 < maze.shape[1] and maze[i, j + 1] == 0: empty_paths += 1\n",
    "        elif 0 <= j - 1 and maze[i, j - 1] == 0: empty_paths += 1\n",
    "    \n",
    "        return empty_paths\n",
    "\n",
    "    path_coords = [start]\n",
    "    curr = start\n",
    "    orientation = Orientation(1)\n",
    "    delta = orientation.evaluate()\n",
    "    for gen in solution:\n",
    "        if gen == 0:\n",
    "            i, j = curr\n",
    "    \n",
    "            while (delta[0] + i < maze.shape[0] and delta[1] + j < maze.shape[1]) \\\n",
    "                and maze[delta[0] + i, delta[1] + j] != 1 and see_paths(i, j, maze) < 3:\n",
    "                i, j = (i + delta[0], j + delta[1])\n",
    "                path_coords.append((i, j))\n",
    "    \n",
    "                if (i,j) == end:\n",
    "                   print(\"THE SOLUTION REACHED THE END!\")\n",
    "                   break\n",
    "    \n",
    "            curr = i, j\n",
    "        else:\n",
    "            delta = orientation.rotate(gen)\n",
    "\n",
    "    # mark the path with blue blocks\n",
    "    path_cells_to_mark = [el for el in path_coords if el != start and el != end]\n",
    "    for r, c in path_cells_to_mark:\n",
    "        maze_display[r, c] = 2\n",
    "\n",
    "    # mark the start as green\n",
    "    if start is not None and 0 <= start[0] < rows and 0 <= start[1] < cols:\n",
    "        maze_display[start[0], start[1]] = 3\n",
    "\n",
    "    # mark the end as gold\n",
    "    if end is not None and 0 <= end[0] < rows and 0 <= end[1] < cols:\n",
    "        maze_display[end[0], end[1]] = 4\n",
    "\n",
    "    # graph\n",
    "    plt.figure(figsize=(max(8, cols / 2), max(8, rows / 2)))\n",
    "    norm = plt.cm.colors.BoundaryNorm(np.arange(-0.5, 5.5, 1), cmap.N)\n",
    "    plt.pcolor(maze_display[::-1], cmap=cmap, edgecolors='k', linewidths=0.5, norm=norm)\n",
    "\n",
    "    plt.title(f\"Laberinto con Camino del Individuo\")\n",
    "    plt.gca().set_aspect('equal')\n",
    "    plt.xticks([])\n",
    "    plt.yticks([])\n",
    "    plt.show()\n",
    "\n",
    "display_maze_with_path(result, heavy_maze, (1,0), (49,50))"
   ]
  },
  {
   "cell_type": "markdown",
   "id": "6d6f7b43-cfc1-4628-aa5a-02daa763051a",
   "metadata": {},
   "source": [
    "Bien se puede ver como a pesar de que el número de individuos por población es bastante grande no se logra alcanzar la salida del laberinto. Esto se puede deber principalmente a la forma en la que se represento el individuo y a la función de aptitud que se implemento. Tampoco se puede ver una mejora entre generaciones, es decir, se puede ver que el max y el min de todas las aptitudes por generación no mejora. También es necesario mencionar como la desviación estandar inicia alta, pero luego se reduce y no incrementa considerablemente. Esto nos indica que a lo largo de las poblaciones no hay mayor variación entre los individuos, casi como si se estuviera homogenizando la población. "
   ]
  },
  {
   "cell_type": "markdown",
   "id": "4789cebf-8ffc-4c90-9b0d-d4bd422cfb19",
   "metadata": {},
   "source": [
    "## Conclusiones (DEAP vs implementación)"
   ]
  },
  {
   "cell_type": "markdown",
   "id": "08f321cd-44a1-472b-b998-eaee305c59a3",
   "metadata": {},
   "source": [
    "Al utilizar DEAP, muy posiblemente por la representación del gen y la función de aptitud, no se fue capaz de alcanzar la salida del laberinto. Además, la implementación realizada tomaba ventaja de ciertos detalles que no hace DEAP. Por ejemplo, se sabe que hay dos tipos de soluciones para los laberintos, aquellos cuya posición inicial garantiza que se mueva hacía la solución y aquellos en los cuales tiene que girar hacía un lado para llegar a la solución. Por lo anterior, sabiendo que los laberintos inicialmente tienen via libre hacía la derecha, entonces se priorizan las soluciones al crear y mutar con `0` en su posición inicial, ya que solo tienen que desplazarse a la derecha. Esto en conjunto con algunas otras cosas que se realizan para que el algoritmo sea capaz de hallar una solución.\n",
    "\n",
    "Sobre quien podría encontrar primero la salida seguramente con bastante tiempo y un número considerable de individuos se podría llegar eventualmente a la salida con la implementación hecha por nosotros. El único problema es que los individuos en la población se tienden a parecer, entonces si por ejemplo se deja corriendo durante 1 hora, las soluciones inicialmente planteadas empezarían a converger y no mejorar. En este caso tendría que implementarse una función de evolución y mutación distinta. \n",
    "\n",
    "Algunos puntos de mejora podrían ser implementar distintas codificaciones de los individuos para probar la libreria DEAP, como por ejemplo, la codificación de los 4 posibles movimientos. En cuanto a la implementación propiamente hecha para realizar el caso base se puede mejorar el código, actualmente hay algunas cosas que se encuentran hardcodeadas. "
   ]
  }
 ],
 "metadata": {
  "kernelspec": {
   "display_name": "Python 3 (ipykernel)",
   "language": "python",
   "name": "python3"
  },
  "language_info": {
   "codemirror_mode": {
    "name": "ipython",
    "version": 3
   },
   "file_extension": ".py",
   "mimetype": "text/x-python",
   "name": "python",
   "nbconvert_exporter": "python",
   "pygments_lexer": "ipython3",
   "version": "3.9.21"
  }
 },
 "nbformat": 4,
 "nbformat_minor": 5
}

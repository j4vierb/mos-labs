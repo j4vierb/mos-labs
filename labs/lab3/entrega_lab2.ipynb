{
 "cells": [
  {
   "cell_type": "markdown",
   "id": "e3987339-c203-499e-97c1-338d7e2060a5",
   "metadata": {},
   "source": [
    "# Entrega laboratorio 2\n",
    "\n",
    "## Integrantes \n",
    "\n",
    "- Javier Steven Barrera Toro - 202214779\n",
    "- Julian Santiago Rolon Toloza - 202215839"
   ]
  },
  {
   "cell_type": "code",
   "execution_count": 2,
   "id": "ac0807c4-2c79-43b9-b2ca-4d64528f7432",
   "metadata": {},
   "outputs": [],
   "source": [
    "from pyomo.environ import ConcreteModel, RangeSet, \\\n",
    "    Param, Var, Binary, \\\n",
    "    Objective, maximize, Constraint, value, \\\n",
    "    NonNegativeIntegers, minimize, \\\n",
    "    NonNegativeReals\n",
    "\n",
    "import numpy\n",
    "from matplotlib import pyplot as plt\n",
    "import matplotlib.patches as mpatches\n",
    "from typing import List\n",
    "\n",
    "from pyomo.opt import SolverFactory"
   ]
  },
  {
   "cell_type": "markdown",
   "id": "e5f9cb07-5e31-4a73-9bfa-94ef1d9f5585",
   "metadata": {},
   "source": [
    "# Punto 1"
   ]
  },
  {
   "cell_type": "markdown",
   "id": "db48ae43-1f0d-4cd2-8b27-4c0444dde127",
   "metadata": {},
   "source": [
    "El objetivo es transportar recursos esenciales a diferentes zonas de Zambia utilizando una flota de 3 aviones. \n",
    "\n",
    "## Conjuntos\n",
    "- $F = F_1, F_2, F_3$ conjunto de los 3 aviones\n",
    "- $R = R_1, \\dots , R_5$ conjunto de los 5 recursos  \n",
    "\n",
    "## Parámetros\n",
    "- $W_i$ peso máximo que puede transportar el $i \\in F$ avión\n",
    "- $V_i$ volumen máximo que puede transportar el $i \\in F$ avión\n",
    "- $w_j$ peso del $j \\in R$ recurso\n",
    "- $v_j$ volumen del $j \\in R$ recurso\n",
    "- $p_j$ beneficio de llevar el $j \\in R$ recurso\n",
    "\n",
    "## Variables de decisión\n",
    "- $X_{i,j}$ matriz de reales no negativos que indica cuanto se lleva del recurso $j \\in R$ en el avión $i \\in F$ en kilogramos.\n",
    "- $Z_{i,j}$ matriz binaria que indica si el $i \\in F$ avión llevan el $j \\in R$ recurso. \n",
    "\n",
    "## Función objetivo\n",
    "Se quiere maximizar el valor de los recursos que se llevan en la flota de aviones.\n",
    "$$\n",
    "\\max \\sum_{i \\in F} \\sum_{j \\in R} X_{i,j} \\times \\frac{p_j}{m_j}\n",
    "$$\n",
    "\n",
    "## Restricciones\n",
    "1. Cada uno de los aviones no puede llevar mas peso que su capacidad maxima.\n",
    "$$\n",
    "\\sum_{j \\in R} X_{i,j} \\leq W_i, \\forall i \\in F\n",
    "$$\n",
    "2. Cada uno de los aviones no puede llevar mas volumen que su capacidad maxima.\n",
    "$$\n",
    "\\sum_{j \\in R} X_{i,j} \\times v_j \\leq V_i, \\forall i \\in F\n",
    "$$\n",
    "3. No se puede llevar una cantidad negativa de recursos.\n",
    "$$\n",
    "X_{i,j} \\geq 0, \\forall i \\in F \\,\\,\\, \\forall j \\in R\n",
    "$$\n",
    "4. No se pueden llevar mas recursos que los disponibles. Es decir, lo que se puede llevar en un avión no debe exceder la disponibilidad del recurso mismo\n",
    "$$\n",
    "\\sum_{i \\in F} X_{i,j} \\leq w_j , \\, \\forall j \\in R\n",
    "$$\n",
    "5. Los equipos medicos se tienen que llevar en unidades de 300 kg.\n",
    "$$\n",
    "X_{i,3} = 300 * Z_{i,3}, \\forall i \\in F \n",
    "$$\n",
    "6. (Logistica 1) Las medicinas no pueden ir en el avión 1.\n",
    "$$\n",
    "X_{1,2} = 0\n",
    "$$\n",
    "7. (Logistica 2) El agua y los equipos medicos no pueden ir juntos en un avión para evitar contaminación cruzada. En este punto se puede optar por definir una variable auxiliar $Z$, que será una matriz binaria (0 y 1), de las dimensiones de $X$ tal que se almacena en la entrada $X_{i,j}$ si se lleva o no un recurso. De tal manera que se pueda realizar la restricción de manera más sencilla. \n",
    "$$\n",
    "Z_{i,3} + Z_{i,4} \\leq 1\n",
    "$$\n",
    "\n",
    "Al introducir esta variable auxiliar es necesario relacionarla con la variable objetivo. Por tanto, nacen dos restricciones mas: 1) Si $X_{i,j} > 0$, entonces $Z_{i,j} = 0$. 2) Si $X_{i,j} = 0$, entonces $Z_{i,j} = 0$.\n",
    "\n",
    "## Tipo de problema "
   ]
  },
  {
   "cell_type": "code",
   "execution_count": 3,
   "id": "109f107c-42b8-4b2b-ad1e-3017e9545213",
   "metadata": {},
   "outputs": [
    {
     "name": "stdout",
     "output_type": "stream",
     "text": [
      "Beneficio total recolectado: 1758000.00\n",
      "Avión 1 transporta 25300.00 kg con un volumen total de 14.15 m³\n",
      "    - 15000.00 kg del recurso 1\n",
      "    - 300.00 kg del recurso 3\n",
      "    - 10000.00 kg del recurso 5\n",
      "Avión 2 transporta 5300.00 kg con un volumen total de 2.15 m³\n",
      "    - 5000.00 kg del recurso 2\n",
      "    - 300.00 kg del recurso 3\n",
      "Avión 3 transporta 300.00 kg con un volumen total de 0.15 m³\n",
      "    - 300.00 kg del recurso 3\n"
     ]
    }
   ],
   "source": [
    "from pyomo.environ import *\n",
    "\n",
    "# Conjunto de aviones y recursos\n",
    "F = [1, 2, 3]  # Aviones\n",
    "R = [1, 2, 3, 4, 5]  # Recursos\n",
    "\n",
    "# Parámetros\n",
    "W = {1: 30000, 2: 40000, 3: 50000}  # Peso máximo por avión (kg)\n",
    "V = {1: 25, 2: 30, 3: 35}  # Volumen máximo por avión (m³)\n",
    "w = {1: 15000, 2: 5000, 3: 20000, 4: 18000, 5: 10000}  # Peso total disponible por recurso (kg)\n",
    "v = {1: 8/15000, 2: 2/5000, 3: 10/20000, 4: 12/18000, 5: 6/10000}  # Volumen por kg\n",
    "p = {1: 50, 2: 100, 3: 120, 4: 60, 5: 40}  # Beneficio por recurso\n",
    "\n",
    "# Modelo\n",
    "model = ConcreteModel()\n",
    "\n",
    "# Variables de decisión\n",
    "model.X = Var(F, R, domain=NonNegativeReals)  # Cantidad de recurso transportado (kg)\n",
    "model.Z = Var(F, R, domain=Binary)  # Indica si un recurso es transportado\n",
    "\n",
    "# Función objetivo: maximizar beneficio\n",
    "model.obj = Objective(expr=sum(p[j] * model.X[i, j] for i in F for j in R), sense=maximize)\n",
    "\n",
    "# Restricciones\n",
    "# Capacidad de peso de cada avión\n",
    "model.weight_constraint = ConstraintList()\n",
    "for i in F:\n",
    "    model.weight_constraint.add(sum(model.X[i, j] for j in R) <= W[i])\n",
    "\n",
    "# Capacidad de volumen de cada avión\n",
    "model.volume_constraint = ConstraintList()\n",
    "for i in F:\n",
    "    model.volume_constraint.add(sum(v[j] * model.X[i, j] for j in R) <= V[i])\n",
    "\n",
    "# Disponibilidad de recursos\n",
    "model.resource_constraint = ConstraintList()\n",
    "for j in R:\n",
    "    model.resource_constraint.add(sum(model.X[i, j] for i in F) <= w[j])\n",
    "\n",
    "# Medicinas no pueden ir en el avión 1\n",
    "model.medicine_constraint = Constraint(expr=model.X[1, 2] == 0)\n",
    "\n",
    "# Equipos médicos indivisibles\n",
    "model.medical_equipment_constraint = ConstraintList()\n",
    "for i in F:\n",
    "    model.medical_equipment_constraint.add(model.X[i, 3] == 300 * model.Z[i, 3])\n",
    "\n",
    "# Incompatibilidad entre equipos médicos y agua potable\n",
    "model.compatibility_constraint = ConstraintList()\n",
    "for i in F:\n",
    "    model.compatibility_constraint.add(model.Z[i, 3] + model.X[i, 4] <= 1)\n",
    "\n",
    "# No negatividad ya está implícita en la declaración de variables\n",
    "\n",
    "# Solver\n",
    "solver = SolverFactory('glpk')\n",
    "solver.solve(model)\n",
    "\n",
    "# Resultados\n",
    "beneficio_total = model.obj()\n",
    "print(f'Beneficio total recolectado: {beneficio_total:.2f}')\n",
    "for i in F:\n",
    "    peso_total = sum(model.X[i, j].value for j in R if model.X[i, j].value > 0)\n",
    "    volumen_total = sum(v[j] * model.X[i, j].value for j in R if model.X[i, j].value > 0)\n",
    "    print(f'Avión {i} transporta {peso_total:.2f} kg con un volumen total de {volumen_total:.2f} m³')\n",
    "    for j in R:\n",
    "        if model.X[i, j].value > 0:\n",
    "            print(f'    - {model.X[i, j].value:.2f} kg del recurso {j}')\n"
   ]
  },
  {
   "cell_type": "markdown",
   "id": "62dde8fb-95bf-4e27-bcc2-cfeb3049f26a",
   "metadata": {},
   "source": [
    "# Punto 2"
   ]
  },
  {
   "cell_type": "code",
   "execution_count": 4,
   "id": "4d3a60a3-f947-4eec-8b54-cdf96df4a6da",
   "metadata": {},
   "outputs": [],
   "source": [
    "class TransportProblemSolver:\n",
    "    \"\"\"\n",
    "    A class to solve the transport problem.\n",
    "    ...\n",
    "    Attributes\n",
    "    ----------\n",
    "    costs : List[List[float]]\n",
    "        A matrix in which each entry represents the cost of going from a distribution\n",
    "        city to a destination city.\n",
    "    offer : List[int]\n",
    "        An array with the availability of resources in each distribution city.\n",
    "    demand : List[int]\n",
    "        An array with the demand of resources in each destination city.\n",
    "    \"\"\"\n",
    "\n",
    "    def __init__(self, costs: List[List[float]], offer: List[int], demand: List[int]):\n",
    "        if len(costs) == 0:\n",
    "            raise \"Error: la matriz de costos no puede ser vacia\"\n",
    "        elif len(demand) != len(costs):\n",
    "            raise \"Error: cada j ciudad destino debe tener una fila en la matriz\"\n",
    "        elif len(offer) != len(costs[0]):\n",
    "            raise \"Error: cada i ciudad distribuidora debe tener una columna en la matriz\"\n",
    "\n",
    "        self.offer = offer\n",
    "        self.costs = costs\n",
    "        self.demand = demand\n",
    "\n",
    "    def setup(self):\n",
    "        model = ConcreteModel()\n",
    "\n",
    "        # sets\n",
    "        model.D = RangeSet(1, len(self.demand)) # destination\n",
    "        model.O = RangeSet(1, len(self.offer)) # origin\n",
    "\n",
    "        # params\n",
    "        dict_ofert = {i+1: self.offer[i] for i in range(len(self.offer))}\n",
    "        dict_demand = {i+1: self.demand[i] for i in range(len(self.demand))}\n",
    "        dict_costs = {\n",
    "            (i+1, j+1): self.costs[i][j]\n",
    "            for j in range(len(self.costs[0])) for i in range(len(self.costs))\n",
    "        }\n",
    "\n",
    "        model.offer = Param(model.O, initialize=dict_ofert)\n",
    "        model.demand = Param(model.D, initialize=dict_demand)\n",
    "        model.costs = Param(model.D, model.O, initialize=dict_costs)\n",
    "        \n",
    "        # dec. variable\n",
    "        model.X = Var(model.D, model.O, within=NonNegativeIntegers)\n",
    "\n",
    "        # objective function\n",
    "        def obj_function(model):\n",
    "            return sum(model.X[i, j] * model.costs[i, j] for j in model.O for i in model.D)\n",
    "        model.obj_function = Objective(rule=obj_function, sense=minimize)\n",
    "\n",
    "        # constraints\n",
    "        def offer_constr(model, j):\n",
    "            return sum(model.X[i,j] for i in model.D) <= model.offer[j]\n",
    "        model.offer_contr = Constraint(model.O, rule=offer_constr)\n",
    "\n",
    "        def demand_constr(model, i):\n",
    "            return sum(model.X[i,j] for j in model.O) >= model.demand[i]\n",
    "        model.demand_constr = Constraint(model.D, rule=demand_constr)\n",
    "\n",
    "        self.model = model\n",
    "\n",
    "    def solve(self):\n",
    "        solver = SolverFactory('glpk')\n",
    "        solver.solve(self.model)\n",
    "\n",
    "    def print_solution(self):\n",
    "        for j in self.model.O:\n",
    "            print(f\"Desde {j} ciudad se ha sumistrado recursos hacia: \")\n",
    "            ofert = 0\n",
    "            for i in self.model.D:\n",
    "                if self.model.X[i, j].value != 0:\n",
    "                    ofert += self.model.X[i,j].value\n",
    "                    resources = self.model.X[i,j].value\n",
    "                    print(f\"\\t[->] destino {i} un total de {resources} recursos (min: {self.model.demand[i]})\")\n",
    "            print('\\t---- STATS ----')\n",
    "            print(f'\\tused: {ofert}/{self.model.offer[j]} from distribution city\\n')"
   ]
  },
  {
   "cell_type": "code",
   "execution_count": 5,
   "id": "f3c12d8a-946e-4eb8-b2fc-c56032f0c615",
   "metadata": {},
   "outputs": [
    {
     "name": "stdout",
     "output_type": "stream",
     "text": [
      "Desde 1 ciudad se ha sumistrado recursos hacia: \n",
      "\t[->] destino 2 un total de 175.0 recursos (min: 175)\n",
      "\t[->] destino 3 un total de 225.0 recursos (min: 225)\n",
      "\t[->] destino 5 un total de 150.0 recursos (min: 225)\n",
      "\t---- STATS ----\n",
      "\tused: 550.0/550 from distribution city\n",
      "\n",
      "Desde 2 ciudad se ha sumistrado recursos hacia: \n",
      "\t[->] destino 1 un total de 125.0 recursos (min: 125)\n",
      "\t[->] destino 4 un total de 250.0 recursos (min: 250)\n",
      "\t[->] destino 5 un total de 75.0 recursos (min: 225)\n",
      "\t[->] destino 6 un total de 200.0 recursos (min: 200)\n",
      "\t---- STATS ----\n",
      "\tused: 650.0/700 from distribution city\n",
      "\n"
     ]
    }
   ],
   "source": [
    "offer = [550, 700]\n",
    "costs = [\n",
    "    [9999, 2.5],\n",
    "    [2.5, 9999],\n",
    "    [1.6, 2.0],\n",
    "    [1.5, 1.0],\n",
    "    [0.8, 1.0],\n",
    "    [1.4, 0.8]\n",
    "]\n",
    "demand = [125, 175, 225, 250, 225, 200]\n",
    "\n",
    "solver = TransportProblemSolver(costs, offer, demand)\n",
    "solver.setup()\n",
    "solver.solve()\n",
    "solver.print_solution()"
   ]
  },
  {
   "cell_type": "markdown",
   "id": "a1ed65c0-8ca0-48f7-b906-93c66c910cf1",
   "metadata": {},
   "source": [
    "# Punto 3"
   ]
  },
  {
   "cell_type": "markdown",
   "id": "f8277920-0116-4492-b9f6-3eb61227e35d",
   "metadata": {},
   "source": [
    "## Matriz de cobertura"
   ]
  },
  {
   "cell_type": "code",
   "execution_count": 25,
   "id": "03c9b244-30c2-491a-ae98-2f5fac602db8",
   "metadata": {},
   "outputs": [
    {
     "name": "stdout",
     "output_type": "stream",
     "text": [
      "{(1, 1): 1, (1, 2): 1, (2, 1): 1, (1, 3): 1, (3, 1): 1, (1, 4): 1, (4, 1): 1, (1, 5): 1, (5, 1): 1, (1, 6): 1, (6, 1): 1, (1, 7): 1, (7, 1): 1, (1, 8): 1, (8, 1): 1, (2, 2): 1, (3, 3): 1, (4, 4): 1, (5, 5): 1, (6, 6): 1, (7, 7): 1, (8, 8): 1, (0, 0): 0, (0, 1): 0, (0, 2): 0, (0, 3): 0, (0, 4): 0, (0, 5): 0, (0, 6): 0, (0, 7): 0, (1, 0): 0, (2, 0): 0, (2, 3): 0, (2, 4): 0, (2, 5): 0, (2, 6): 0, (2, 7): 0, (3, 0): 0, (3, 2): 0, (3, 4): 0, (3, 5): 0, (3, 6): 0, (3, 7): 0, (4, 0): 0, (4, 2): 0, (4, 3): 0, (4, 5): 0, (4, 6): 0, (4, 7): 0, (5, 0): 0, (5, 2): 0, (5, 3): 0, (5, 4): 0, (5, 6): 0, (5, 7): 0, (6, 0): 0, (6, 2): 0, (6, 3): 0, (6, 4): 0, (6, 5): 0, (6, 7): 0, (7, 0): 0, (7, 2): 0, (7, 3): 0, (7, 4): 0, (7, 5): 0, (7, 6): 0}\n"
     ]
    }
   ],
   "source": [
    "def generate_coverage_matrix(position, n=8):\n",
    "    \"\"\"\n",
    "    Generates a dictionary representing the coverage of a queen placed at a given position on an n x n chessboard.\n",
    "\n",
    "    Args:\n",
    "        position (tuple): The (row, column) position of the queen.\n",
    "        n (int): The size of the chessboard (default is 8 for standard chess).\n",
    "\n",
    "    Returns:\n",
    "        dict: A dictionary with keys as (i, j) positions and values as 1 if covered, 0 otherwise.\n",
    "    \"\"\"\n",
    "    i, j = position\n",
    "    coverage = {}\n",
    "\n",
    "    # Mark row and column\n",
    "    for k in range(1, n + 1):\n",
    "        coverage[(i, k)] = 1\n",
    "        coverage[(k, j)] = 1\n",
    "\n",
    "    # Mark diagonals\n",
    "    for k in range(1, n + 1):\n",
    "        if 1 <= i + k <= n and 1 <= j + k <= n:\n",
    "            coverage[(i + k, j + k)] = 1\n",
    "        if 1 <= i - k <= n and 1 <= j - k <= n:\n",
    "            coverage[(i - k, j - k)] = 1\n",
    "        if 1 <= i + k <= n and 1 <= j - k <= n:\n",
    "            coverage[(i + k, j - k)] = 1\n",
    "        if 1 <= i - k <= n and 1 <= j + k <= n:\n",
    "            coverage[(i - k, j + k)] = 1\n",
    "\n",
    "    # The queen's own position\n",
    "    coverage[(i, j)] = 1\n",
    "\n",
    "    for i in range(n):\n",
    "        for j in range(n):\n",
    "            if (i,j) not in coverage:\n",
    "                coverage[(i,j)] = 0\n",
    "\n",
    "    return coverage\n",
    "\n",
    "# Ejemplo de uso\n",
    "position = (1, 1)  # Reina en la fila 3, columna 4\n",
    "coverage = generate_coverage_matrix(position)\n",
    "\n",
    "print(coverage)"
   ]
  },
  {
   "cell_type": "markdown",
   "id": "fe4a9fae-6740-4ad3-a6ef-283cce822ac0",
   "metadata": {},
   "source": [
    "## Modelo matematico"
   ]
  },
  {
   "cell_type": "markdown",
   "id": "21c376c0-8cd1-4f81-b901-32be48040d3e",
   "metadata": {},
   "source": [
    "### Conjuntos\n",
    "Se plantean los siguientes dos conjuntos.\n",
    "\n",
    "- $F = \\{1, 2, \\dots, 8\\}$ conjunto con las filas del tablero\n",
    "- $C = \\{1, 2, \\dots, 8\\}$ conjunto con las columnas del tablero\n",
    "\n",
    "### Parámetros relevantes\n",
    "En este caso el tamaño del tablero es un parámetro relevante ya que podemos definir este del tamaño que queramos $n \\times m$. Sin embargo, para este caso se opta por tener un tablero de $8 \\times 8$ para simplificar el problema. \n",
    "\n",
    "### Variable objetivo\n",
    "Se define $X_{ij}$ como una matriz binaria de tamaño $8\\times 8$ con $i \\in F$ y $j \\in C$. Esta matriz $X_{ij}$ será será 1 si hay una reina en esa posición y 0 de lo contrario.\n",
    "\n",
    "### Función objetivo \n",
    "Se quiere minimizar el número de reinas que se ubican en el tablero de ajedrez. Por tanto,\n",
    "\n",
    "$$\n",
    "\\min \\sum_{i \\in F} \\sum_{j \\in C} X_{ij}\n",
    "$$\n",
    "\n",
    "### Restricciones\n",
    "- Cada casilla tiene que estar cubierta por lo menos por una reina.\n",
    "\n",
    "$$\n",
    "\\sum_{k \\in F} X_{k, j} + \\sum_{k \\in C} X_{i, k} + \\sum_{k = 1}^{8} X_{i- k, j-k} + \\sum_{k = 1}^{8} X_{i+ k, j+k} + \\sum_{k = 1}^{8}X_{i- k, j+k} + \\sum_{k = 1}^{8} X_{i+k, j-k} \\geq 1 \\,, \\forall i \\in F, j \\in C \\, | \\, 1 \\leq i \\leq 8 \\wedge 1 \\leq j \\leq 8\n",
    "$$\n",
    "\n",
    "## Tipo de problema\n",
    "Este problema es de programación lineal entera, las restricciones y la función objetivo son combinaciones lineales de la variable de decisión. Además, todo se mueve en el dominio de los enteros positivos (0 y 1). "
   ]
  },
  {
   "cell_type": "markdown",
   "id": "89de6b07-05ab-41f9-aebf-d29dff653578",
   "metadata": {},
   "source": [
    "## Modelo de Pyomo"
   ]
  },
  {
   "cell_type": "code",
   "execution_count": 3,
   "id": "5f36d127-7abb-4298-ae3e-9d0cf5248349",
   "metadata": {},
   "outputs": [
    {
     "data": {
      "text/plain": [
       "{'Problem': [{'Name': 'unknown', 'Lower bound': 5.0, 'Upper bound': 5.0, 'Number of objectives': 1, 'Number of constraints': 64, 'Number of variables': 64, 'Number of nonzeros': 1520, 'Sense': 'minimize'}], 'Solver': [{'Status': 'ok', 'Termination condition': 'optimal', 'Statistics': {'Branch and bound': {'Number of bounded subproblems': '1031', 'Number of created subproblems': '1031'}}, 'Error rc': 0, 'Time': 0.9429399967193604}], 'Solution': [OrderedDict([('number of solutions', 0), ('number of solutions displayed', 0)])]}"
      ]
     },
     "execution_count": 3,
     "metadata": {},
     "output_type": "execute_result"
    }
   ],
   "source": [
    "# Definir el modelo\n",
    "model = ConcreteModel()\n",
    "\n",
    "# Conjuntos\n",
    "n = 8  # Tamaño del tablero\n",
    "model.F = RangeSet(1, n)\n",
    "model.C = RangeSet(1, n)\n",
    "\n",
    "# Variables de decisión\n",
    "model.X = Var(model.F, model.C, within=Binary)  # 1 si hay una reina en (i, j)\n",
    "\n",
    "# Función objetivo: minimizar el número de reinas\n",
    "model.obj = Objective(expr=sum(model.X[i, j] for i in model.F for j in model.C), sense=minimize)\n",
    "\n",
    "# Restricción de cobertura: cada casilla debe estar cubierta por al menos una reina\n",
    "def cover_rule(model, i, j):\n",
    "    return sum(model.X[k, j] for k in model.F) + \\\n",
    "           sum(model.X[i, k] for k in model.C) + \\\n",
    "           sum(model.X[i-k, j-k] for k in range(1, n) if 1 <= i-k <= n and 1 <= j-k <= n) + \\\n",
    "           sum(model.X[i+k, j+k] for k in range(1, n) if 1 <= i+k <= n and 1 <= j+k <= n) + \\\n",
    "           sum(model.X[i-k, j+k] for k in range(1, n) if 1 <= i-k <= n and 1 <= j+k <= n) + \\\n",
    "           sum(model.X[i+k, j-k] for k in range(1, n) if 1 <= i+k <= n and 1 <= j-k <= n) >= 1\n",
    "\n",
    "model.cover_constraints = Constraint(model.F, model.C, rule=cover_rule)\n",
    "\n",
    "# Resolver el modelo\n",
    "solver = SolverFactory('glpk')\n",
    "solver.solve(model)"
   ]
  },
  {
   "cell_type": "markdown",
   "id": "d7f4dd6b-7af4-4d43-8117-0466085cfb60",
   "metadata": {},
   "source": [
    "## Resolución y análisis"
   ]
  },
  {
   "attachments": {
    "857b995f-3791-4fc9-9d56-bed6b77c8212.png": {
     "image/png": "[encoded data removed]"
    }
   },
   "cell_type": "markdown",
   "id": "fec5be04-c7da-4dc4-bbbf-e25e08552b66",
   "metadata": {},
   "source": [
    "El siguiente bloque de código se encarga de realizar la presentación de los resultados. También se ejecuto cambiando la lista de reinas seleccionadas y se muestra que todo efectivamente se cubre, tal y como se observa en la siguiente imagen.\n",
    "\n",
    "<center>\n",
    "<img src=\"attachment:857b995f-3791-4fc9-9d56-bed6b77c8212.png\" width=\"400px\"/>\n",
    "</center>\n",
    "\n",
    "El resultado anterior muestra una solución válida al problema de cobertura mínima con reinas, donde solo cinco reinas han sido colocadas en posiciones para garantizar que todas las casillas del tablero estén cubiertas. La salida textual (el siguiente bloque de código que se ejecuta) confirma que la cobertura es completa, y la notación algebraica de las posiciones de las reinas coincide con la visualización. Esto sugiere que el modelo de optimización está funcionando correctamente y ha encontrado una solución óptima o cercana a la óptima en términos del número mínimo de reinas necesarias para este caso."
   ]
  },
  {
   "cell_type": "code",
   "execution_count": 19,
   "id": "32cc9fd7-266b-46c8-b99a-3022917158f2",
   "metadata": {},
   "outputs": [
    {
     "name": "stdout",
     "output_type": "stream",
     "text": [
      "========== tablero ==========\n",
      "Q . . . . . . . \n",
      ". . . . Q . . . \n",
      ". . . . . . Q . \n",
      ". . . . . . . . \n",
      ". . . . . . . . \n",
      ". . . . . . . . \n",
      ". Q . . . . . . \n",
      ". . . . . Q . . \n",
      "\n",
      "==========selected queens==========\n",
      "['a8', 'e7', 'g6', 'b2', 'f1']\n"
     ]
    }
   ],
   "source": [
    "print(\"=\"*10 + \" tablero \" + \"=\"*10)\n",
    "for i in model.F:\n",
    "    row = \"\".join(\"Q \" if model.X[i, j].value == 1 else \". \" for j in model.C)\n",
    "    print(row)\n",
    "\n",
    "mapper = {1: 'a', 2: 'b', 3: 'c', 4: 'd', 5: 'e', 6: 'f', 7: 'g', 8: 'h'}\n",
    "\n",
    "l = [f\"{mapper[j]}{9 - i}\" for i in model.F for j in model.C if model.X[i,j].value == 1]\n",
    "print()\n",
    "print(\"=\"*10 + \"selected queens\" + \"=\"*10)\n",
    "print(l)"
   ]
  },
  {
   "cell_type": "code",
   "execution_count": 18,
   "id": "87edc9a7-82a4-4aba-8c12-2afe2fcabd32",
   "metadata": {},
   "outputs": [
    {
     "name": "stdout",
     "output_type": "stream",
     "text": [
      "pygame 2.6.1 (SDL 2.28.4, Python 3.9.21)\n",
      "Hello from the pygame community. https://www.pygame.org/contribute.html\n"
     ]
    }
   ],
   "source": [
    "!python ./queen_mapper.py"
   ]
  },
  {
   "cell_type": "markdown",
   "id": "86c22237-4c3d-49e2-b662-d5569525861d",
   "metadata": {},
   "source": [
    "# Punto 4"
   ]
  },
  {
   "cell_type": "markdown",
   "id": "df9201cd-cb19-4c5d-8d5e-f8ef1cc12d17",
   "metadata": {},
   "source": [
    "# Punto 5"
   ]
  }
 ],
 "metadata": {
  "kernelspec": {
   "display_name": "Python 3 (ipykernel)",
   "language": "python",
   "name": "python3"
  },
  "language_info": {
   "codemirror_mode": {
    "name": "ipython",
    "version": 3
   },
   "file_extension": ".py",
   "mimetype": "text/x-python",
   "name": "python",
   "nbconvert_exporter": "python",
   "pygments_lexer": "ipython3",
   "version": "3.9.21"
  }
 },
 "nbformat": 4,
 "nbformat_minor": 5
}

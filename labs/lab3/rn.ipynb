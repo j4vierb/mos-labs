{
 "cells": [
  {
   "cell_type": "markdown",
   "id": "0e7c616e-e460-47b0-b882-5336fe674195",
   "metadata": {},
   "source": [
    "## Implentación descenso de gradiente"
   ]
  },
  {
   "cell_type": "markdown",
   "id": "9abab154-a88a-4e6f-a670-b70b76c56707",
   "metadata": {},
   "source": [
    "## Implementar red neuronal sencilla"
   ]
  },
  {
   "cell_type": "markdown",
   "id": "f6e346d9-f235-410f-b291-230cef72b95e",
   "metadata": {},
   "source": [
    "## Implementar el descenso de gradiente basado en momento"
   ]
  }
 ],
 "metadata": {
  "kernelspec": {
   "display_name": "Python 3 (ipykernel)",
   "language": "python",
   "name": "python3"
  },
  "language_info": {
   "codemirror_mode": {
    "name": "ipython",
    "version": 3
   },
   "file_extension": ".py",
   "mimetype": "text/x-python",
   "name": "python",
   "nbconvert_exporter": "python",
   "pygments_lexer": "ipython3",
   "version": "3.9.21"
  }
 },
 "nbformat": 4,
 "nbformat_minor": 5
}
